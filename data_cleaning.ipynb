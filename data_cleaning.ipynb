{
 "cells": [
  {
   "cell_type": "code",
   "execution_count": 1,
   "metadata": {},
   "outputs": [],
   "source": [
    "import pandas as pd\n",
    "from pathlib import Path\n",
    "import re"
   ]
  },
  {
   "cell_type": "code",
   "execution_count": 59,
   "metadata": {},
   "outputs": [],
   "source": [
    "big_path = \"../../../Traffic_Violations.csv\"\n",
    "path= \"sample_data.csv\"\n",
    "df = pd.read_csv(path, low_memory=False)\n",
    "big_df = pd.read_csv(big_path, low_memory=False)"
   ]
  },
  {
   "cell_type": "code",
   "execution_count": 27,
   "metadata": {},
   "outputs": [
    {
     "data": {
      "text/html": [
       "<div>\n",
       "<style scoped>\n",
       "    .dataframe tbody tr th:only-of-type {\n",
       "        vertical-align: middle;\n",
       "    }\n",
       "\n",
       "    .dataframe tbody tr th {\n",
       "        vertical-align: top;\n",
       "    }\n",
       "\n",
       "    .dataframe thead th {\n",
       "        text-align: right;\n",
       "    }\n",
       "</style>\n",
       "<table border=\"1\" class=\"dataframe\">\n",
       "  <thead>\n",
       "    <tr style=\"text-align: right;\">\n",
       "      <th></th>\n",
       "      <th>SeqID</th>\n",
       "      <th>Date Of Stop</th>\n",
       "      <th>Time Of Stop</th>\n",
       "      <th>Agency</th>\n",
       "      <th>SubAgency</th>\n",
       "      <th>Description</th>\n",
       "      <th>Location</th>\n",
       "      <th>Latitude</th>\n",
       "      <th>Longitude</th>\n",
       "      <th>Accident</th>\n",
       "      <th>...</th>\n",
       "      <th>Charge</th>\n",
       "      <th>Article</th>\n",
       "      <th>Contributed To Accident</th>\n",
       "      <th>Race</th>\n",
       "      <th>Gender</th>\n",
       "      <th>Driver City</th>\n",
       "      <th>Driver State</th>\n",
       "      <th>DL State</th>\n",
       "      <th>Arrest Type</th>\n",
       "      <th>Geolocation</th>\n",
       "    </tr>\n",
       "  </thead>\n",
       "  <tbody>\n",
       "    <tr>\n",
       "      <th>0</th>\n",
       "      <td>971ef50f-f138-419f-89e5-5d2cc5d7b75a</td>\n",
       "      <td>04/30/2023</td>\n",
       "      <td>23:55:00</td>\n",
       "      <td>MCP</td>\n",
       "      <td>4th District, Wheaton</td>\n",
       "      <td>DRIVING VEHICLE ON HIGHWAY WITH SUSPENDED REGI...</td>\n",
       "      <td>KEMP MILL ROAD @ ALPERT LANE</td>\n",
       "      <td>39.053038</td>\n",
       "      <td>-77.024637</td>\n",
       "      <td>No</td>\n",
       "      <td>...</td>\n",
       "      <td>13-401(h)</td>\n",
       "      <td>Transportation Article</td>\n",
       "      <td>False</td>\n",
       "      <td>WHITE</td>\n",
       "      <td>F</td>\n",
       "      <td>SILVER SPRING</td>\n",
       "      <td>MD</td>\n",
       "      <td>MD</td>\n",
       "      <td>A - Marked Patrol</td>\n",
       "      <td>(39.0530383333333, -77.0246366666667)</td>\n",
       "    </tr>\n",
       "    <tr>\n",
       "      <th>1</th>\n",
       "      <td>1b3ad74c-9e3b-47af-acba-cc3fcb656e6f</td>\n",
       "      <td>04/30/2023</td>\n",
       "      <td>04:24:00</td>\n",
       "      <td>MCP</td>\n",
       "      <td>2nd District, Bethesda</td>\n",
       "      <td>NEGLIGENT DRIVING VEHICLE IN CARELESS AND IMPR...</td>\n",
       "      <td>JONES MILL ROAD/ LE VELLE DRIVE</td>\n",
       "      <td>38.991480</td>\n",
       "      <td>-77.097113</td>\n",
       "      <td>No</td>\n",
       "      <td>...</td>\n",
       "      <td>21-901.1(b)</td>\n",
       "      <td>Transportation Article</td>\n",
       "      <td>False</td>\n",
       "      <td>BLACK</td>\n",
       "      <td>F</td>\n",
       "      <td>SILVER SPRING</td>\n",
       "      <td>MD</td>\n",
       "      <td>MD</td>\n",
       "      <td>A - Marked Patrol</td>\n",
       "      <td>(38.99148, -77.0971133333333)</td>\n",
       "    </tr>\n",
       "    <tr>\n",
       "      <th>2</th>\n",
       "      <td>1b3ad74c-9e3b-47af-acba-cc3fcb656e6f</td>\n",
       "      <td>04/30/2023</td>\n",
       "      <td>04:24:00</td>\n",
       "      <td>MCP</td>\n",
       "      <td>2nd District, Bethesda</td>\n",
       "      <td>RECKLESS DRIVING VEHICLE IN WANTON AND WILLFUL...</td>\n",
       "      <td>JONES MILL ROAD/ LE VELLE DRIVE</td>\n",
       "      <td>38.991480</td>\n",
       "      <td>-77.097113</td>\n",
       "      <td>No</td>\n",
       "      <td>...</td>\n",
       "      <td>21-901.1(a)</td>\n",
       "      <td>Transportation Article</td>\n",
       "      <td>False</td>\n",
       "      <td>BLACK</td>\n",
       "      <td>F</td>\n",
       "      <td>SILVER SPRING</td>\n",
       "      <td>MD</td>\n",
       "      <td>MD</td>\n",
       "      <td>A - Marked Patrol</td>\n",
       "      <td>(38.99148, -77.0971133333333)</td>\n",
       "    </tr>\n",
       "    <tr>\n",
       "      <th>3</th>\n",
       "      <td>1b3ad74c-9e3b-47af-acba-cc3fcb656e6f</td>\n",
       "      <td>04/30/2023</td>\n",
       "      <td>04:24:00</td>\n",
       "      <td>MCP</td>\n",
       "      <td>2nd District, Bethesda</td>\n",
       "      <td>FAILURE TO DRIVE VEHICLE ON RIGHT HALF OF ROAD...</td>\n",
       "      <td>JONES MILL ROAD/ LE VELLE DRIVE</td>\n",
       "      <td>38.991480</td>\n",
       "      <td>-77.097113</td>\n",
       "      <td>No</td>\n",
       "      <td>...</td>\n",
       "      <td>21-301(a)</td>\n",
       "      <td>Transportation Article</td>\n",
       "      <td>False</td>\n",
       "      <td>BLACK</td>\n",
       "      <td>F</td>\n",
       "      <td>SILVER SPRING</td>\n",
       "      <td>MD</td>\n",
       "      <td>MD</td>\n",
       "      <td>A - Marked Patrol</td>\n",
       "      <td>(38.99148, -77.0971133333333)</td>\n",
       "    </tr>\n",
       "    <tr>\n",
       "      <th>4</th>\n",
       "      <td>1b3ad74c-9e3b-47af-acba-cc3fcb656e6f</td>\n",
       "      <td>04/30/2023</td>\n",
       "      <td>04:24:00</td>\n",
       "      <td>MCP</td>\n",
       "      <td>2nd District, Bethesda</td>\n",
       "      <td>DRIVING VEHICLE WHILE UNDER THE INFLUENCE OF A...</td>\n",
       "      <td>JONES MILL ROAD/ LE VELLE DRIVE</td>\n",
       "      <td>38.991480</td>\n",
       "      <td>-77.097113</td>\n",
       "      <td>No</td>\n",
       "      <td>...</td>\n",
       "      <td>21-902(a1i)</td>\n",
       "      <td>Transportation Article</td>\n",
       "      <td>False</td>\n",
       "      <td>BLACK</td>\n",
       "      <td>F</td>\n",
       "      <td>SILVER SPRING</td>\n",
       "      <td>MD</td>\n",
       "      <td>MD</td>\n",
       "      <td>A - Marked Patrol</td>\n",
       "      <td>(38.99148, -77.0971133333333)</td>\n",
       "    </tr>\n",
       "  </tbody>\n",
       "</table>\n",
       "<p>5 rows × 43 columns</p>\n",
       "</div>"
      ],
      "text/plain": [
       "                                  SeqID Date Of Stop Time Of Stop Agency  \\\n",
       "0  971ef50f-f138-419f-89e5-5d2cc5d7b75a   04/30/2023     23:55:00    MCP   \n",
       "1  1b3ad74c-9e3b-47af-acba-cc3fcb656e6f   04/30/2023     04:24:00    MCP   \n",
       "2  1b3ad74c-9e3b-47af-acba-cc3fcb656e6f   04/30/2023     04:24:00    MCP   \n",
       "3  1b3ad74c-9e3b-47af-acba-cc3fcb656e6f   04/30/2023     04:24:00    MCP   \n",
       "4  1b3ad74c-9e3b-47af-acba-cc3fcb656e6f   04/30/2023     04:24:00    MCP   \n",
       "\n",
       "                SubAgency                                        Description  \\\n",
       "0   4th District, Wheaton  DRIVING VEHICLE ON HIGHWAY WITH SUSPENDED REGI...   \n",
       "1  2nd District, Bethesda  NEGLIGENT DRIVING VEHICLE IN CARELESS AND IMPR...   \n",
       "2  2nd District, Bethesda  RECKLESS DRIVING VEHICLE IN WANTON AND WILLFUL...   \n",
       "3  2nd District, Bethesda  FAILURE TO DRIVE VEHICLE ON RIGHT HALF OF ROAD...   \n",
       "4  2nd District, Bethesda  DRIVING VEHICLE WHILE UNDER THE INFLUENCE OF A...   \n",
       "\n",
       "                          Location   Latitude  Longitude Accident  ...  \\\n",
       "0     KEMP MILL ROAD @ ALPERT LANE  39.053038 -77.024637       No  ...   \n",
       "1  JONES MILL ROAD/ LE VELLE DRIVE  38.991480 -77.097113       No  ...   \n",
       "2  JONES MILL ROAD/ LE VELLE DRIVE  38.991480 -77.097113       No  ...   \n",
       "3  JONES MILL ROAD/ LE VELLE DRIVE  38.991480 -77.097113       No  ...   \n",
       "4  JONES MILL ROAD/ LE VELLE DRIVE  38.991480 -77.097113       No  ...   \n",
       "\n",
       "        Charge                 Article Contributed To Accident   Race Gender  \\\n",
       "0    13-401(h)  Transportation Article                   False  WHITE      F   \n",
       "1  21-901.1(b)  Transportation Article                   False  BLACK      F   \n",
       "2  21-901.1(a)  Transportation Article                   False  BLACK      F   \n",
       "3    21-301(a)  Transportation Article                   False  BLACK      F   \n",
       "4  21-902(a1i)  Transportation Article                   False  BLACK      F   \n",
       "\n",
       "     Driver City Driver State DL State        Arrest Type  \\\n",
       "0  SILVER SPRING           MD       MD  A - Marked Patrol   \n",
       "1  SILVER SPRING           MD       MD  A - Marked Patrol   \n",
       "2  SILVER SPRING           MD       MD  A - Marked Patrol   \n",
       "3  SILVER SPRING           MD       MD  A - Marked Patrol   \n",
       "4  SILVER SPRING           MD       MD  A - Marked Patrol   \n",
       "\n",
       "                             Geolocation  \n",
       "0  (39.0530383333333, -77.0246366666667)  \n",
       "1          (38.99148, -77.0971133333333)  \n",
       "2          (38.99148, -77.0971133333333)  \n",
       "3          (38.99148, -77.0971133333333)  \n",
       "4          (38.99148, -77.0971133333333)  \n",
       "\n",
       "[5 rows x 43 columns]"
      ]
     },
     "execution_count": 27,
     "metadata": {},
     "output_type": "execute_result"
    }
   ],
   "source": [
    "df.head()"
   ]
  },
  {
   "cell_type": "code",
   "execution_count": 6,
   "metadata": {},
   "outputs": [
    {
     "data": {
      "text/plain": [
       "Index(['SeqID', 'Date Of Stop', 'Time Of Stop', 'Agency', 'SubAgency',\n",
       "       'Description', 'Location', 'Latitude', 'Longitude', 'Accident', 'Belts',\n",
       "       'Personal Injury', 'Property Damage', 'Fatal', 'Commercial License',\n",
       "       'HAZMAT', 'Commercial Vehicle', 'Alcohol', 'Work Zone',\n",
       "       'Search Conducted', 'Search Disposition', 'Search Outcome',\n",
       "       'Search Reason', 'Search Reason For Stop', 'Search Type',\n",
       "       'Search Arrest Reason', 'State', 'VehicleType', 'Year', 'Make', 'Model',\n",
       "       'Color', 'Violation Type', 'Charge', 'Article',\n",
       "       'Contributed To Accident', 'Race', 'Gender', 'Driver City',\n",
       "       'Driver State', 'DL State', 'Arrest Type', 'Geolocation'],\n",
       "      dtype='object')"
      ]
     },
     "execution_count": 6,
     "metadata": {},
     "output_type": "execute_result"
    }
   ],
   "source": [
    "df.columns\n"
   ]
  },
  {
   "cell_type": "code",
   "execution_count": 60,
   "metadata": {},
   "outputs": [],
   "source": [
    "big_df_smaller = big_df.drop([\"Agency\", \"Geolocation\", \"VehicleType\", \"HAZMAT\", \n",
    "                                \"Commercial Vehicle\", \"Commercial License\", \"Article\", \"Charge\", \n",
    "                                \"SeqID\", \"SubAgency\", \"Model\", \"Contributed To Accident\", \"Driver State\", \n",
    "                                \"Driver City\", \"Arrest Type\", \"Search Reason For Stop\"], axis = 1)"
   ]
  },
  {
   "cell_type": "code",
   "execution_count": 25,
   "metadata": {},
   "outputs": [
    {
     "data": {
      "text/plain": [
       "Index(['Date Of Stop', 'Time Of Stop', 'Description', 'Location', 'Accident',\n",
       "       'Belts', 'Personal Injury', 'Property Damage', 'Fatal', 'Alcohol',\n",
       "       'Work Zone', 'Search Conducted', 'Search Disposition', 'Search Outcome',\n",
       "       'Search Reason', 'Search Type', 'Search Arrest Reason', 'State', 'Year',\n",
       "       'Make', 'Color', 'Violation Type', 'Race', 'Gender', 'DL State',\n",
       "       'Geolocation'],\n",
       "      dtype='object')"
      ]
     },
     "execution_count": 25,
     "metadata": {},
     "output_type": "execute_result"
    }
   ],
   "source": [
    "big_df_smaller.columns\n",
    "# citations_warnings = big_data_smaller[big_data_smaller[\"Violation Type\"] = ]\n",
    "\n"
   ]
  },
  {
   "cell_type": "code",
   "execution_count": 61,
   "metadata": {},
   "outputs": [],
   "source": [
    "# Drop rows that do not result in a citation or warning\n",
    "big_df_smaller.drop(big_df_smaller[big_df_smaller['Violation Type'] == 'ESERO'].index, inplace=True)\n",
    "big_df_smaller.drop(big_df_smaller[big_df_smaller['Violation Type'] == 'SERO'].index, inplace=True)\n",
    "\n"
   ]
  },
  {
   "cell_type": "code",
   "execution_count": 62,
   "metadata": {},
   "outputs": [
    {
     "data": {
      "text/plain": [
       "(1788513, 27)"
      ]
     },
     "execution_count": 62,
     "metadata": {},
     "output_type": "execute_result"
    }
   ],
   "source": [
    "# Clean the Year column\n",
    "# Drop rows with null year\n",
    "big_df_smaller = big_df_smaller.dropna(subset=[\"Year\"])\n",
    "# Change year to integer\n",
    "big_df_smaller[\"Year\"]= big_df_smaller[\"Year\"].astype(int)\n",
    "# Get years in a list\n",
    "years = big_df_smaller[\"Year\"].unique()\n",
    "# Make a list of garbage years\n",
    "years_to_remove = [0, 6338, 1005, 1196, 2912, 1009, 2088, 1007, 2102, 2109, 2105, 2997]\n",
    "# Clean the list of years\n",
    "good_years = [value for value in years if value not in years_to_remove]\n",
    "# Keep only rows with good years\n",
    "big_df_smaller = big_df_smaller[big_df_smaller[\"Year\"].isin(good_years)]\n",
    "big_df_smaller.shape"
   ]
  },
  {
   "cell_type": "code",
   "execution_count": 63,
   "metadata": {},
   "outputs": [
    {
     "data": {
      "text/plain": [
       "Incident to Arrest        47292\n",
       "Probable Cause            20671\n",
       "Consensual                11528\n",
       "K-9                        1613\n",
       "Other                      1029\n",
       "Exigent Circumstances       500\n",
       "Probable Cause for CDS        4\n",
       "Arrest/Tow                    3\n",
       "plain view marijuana          3\n",
       "DUI                           1\n",
       "Name: Search Reason, dtype: int64"
      ]
     },
     "execution_count": 63,
     "metadata": {},
     "output_type": "execute_result"
    }
   ],
   "source": [
    "big_df_smaller[\"Search Reason\"].value_counts()"
   ]
  },
  {
   "cell_type": "code",
   "execution_count": null,
   "metadata": {},
   "outputs": [],
   "source": [
    "# Use Regex to replace any description including speeding with just \"Speeding\"\n",
    "pattern = re.compile(r'.*EXCEEDING.*SPEED LIMIT.*', flags=re.IGNORECASE)\n",
    "\n",
    "df['Description'] = df['Description'].apply(lambda x: re.sub(pattern, 'Speeding', x))"
   ]
  }
 ],
 "metadata": {
  "kernelspec": {
   "display_name": "dev",
   "language": "python",
   "name": "python3"
  },
  "language_info": {
   "codemirror_mode": {
    "name": "ipython",
    "version": 3
   },
   "file_extension": ".py",
   "mimetype": "text/x-python",
   "name": "python",
   "nbconvert_exporter": "python",
   "pygments_lexer": "ipython3",
   "version": "3.10.12"
  }
 },
 "nbformat": 4,
 "nbformat_minor": 2
}
