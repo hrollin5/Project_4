{
  "cells": [
    {
      "cell_type": "code",
      "execution_count": 1,
      "metadata": {
        "id": "fAIuWVL6ub02"
      },
      "outputs": [],
      "source": [
        "import pandas as pd\n",
        "from pathlib import Path\n",
        "import re\n",
        "from sklearn.ensemble import RandomForestClassifier\n",
        "from sklearn.preprocessing import StandardScaler\n",
        "from sklearn.model_selection import train_test_split\n",
        "from sklearn.metrics import confusion_matrix, accuracy_score, classification_report"
      ]
    },
    {
      "cell_type": "code",
      "execution_count": 2,
      "metadata": {
        "id": "f-0QzxWCub0-"
      },
      "outputs": [],
      "source": [
        "big_path = \"Traffic_Violations.csv\"\n",
        "big_df_smaller = pd.read_csv(big_path, low_memory=False)"
      ]
    },
    {
      "cell_type": "code",
      "execution_count": 3,
      "metadata": {
        "id": "psXikCzJub1A"
      },
      "outputs": [],
      "source": [
        "# Drop rows that do not result in a citation or warning\n",
        "big_df_smaller.drop(big_df_smaller[big_df_smaller['Violation Type'] == 'ESERO'].index, inplace=True)\n",
        "big_df_smaller.drop(big_df_smaller[big_df_smaller['Violation Type'] == 'SERO'].index, inplace=True)"
      ]
    },
    {
      "cell_type": "code",
      "execution_count": 4,
      "metadata": {
        "colab": {
          "base_uri": "https://localhost:8080/"
        },
        "id": "pynvEa9Iub1B",
        "outputId": "584f4e7d-d170-49ac-8cd6-e414ba1d1f3a"
      },
      "outputs": [
        {
          "data": {
            "text/plain": [
              "(1790375, 43)"
            ]
          },
          "execution_count": 4,
          "metadata": {},
          "output_type": "execute_result"
        }
      ],
      "source": [
        "# Clean the Year column\n",
        "# Drop rows with null year\n",
        "big_df_smaller = big_df_smaller.dropna(subset=[\"Year\"])\n",
        "# Change year to integer\n",
        "big_df_smaller[\"Year\"]= big_df_smaller[\"Year\"].astype(int)\n",
        "# Get years in a list\n",
        "years = big_df_smaller[\"Year\"].unique()\n",
        "# Make a list of garbage years\n",
        "years_to_remove = [0, 6338, 1005, 1196, 2912, 1009, 2088, 1007, 2102, 2109, 2105, 2997]\n",
        "# Clean the list of years\n",
        "good_years = [value for value in years if value not in years_to_remove]\n",
        "# Keep only rows with good years\n",
        "big_df_smaller = big_df_smaller[big_df_smaller[\"Year\"].isin(good_years)]\n",
        "big_df_smaller.shape"
      ]
    },
    {
      "cell_type": "code",
      "execution_count": 5,
      "metadata": {
        "colab": {
          "base_uri": "https://localhost:8080/"
        },
        "id": "nhpy_iO1ub1D",
        "outputId": "13c28d94-7726-4e7b-8d95-e27086f1006a"
      },
      "outputs": [
        {
          "data": {
            "text/plain": [
              "NaN                       1707686\n",
              "Incident to Arrest          47315\n",
              "Probable Cause              20678\n",
              "Consensual                  11540\n",
              "K-9                          1616\n",
              "Other                        1029\n",
              "Exigent Circumstances         500\n",
              "Probable Cause for CDS          4\n",
              "Arrest/Tow                      3\n",
              "plain view marijuana            3\n",
              "DUI                             1\n",
              "Name: Search Reason, dtype: int64"
            ]
          },
          "execution_count": 5,
          "metadata": {},
          "output_type": "execute_result"
        }
      ],
      "source": [
        "big_df_smaller[\"Search Reason\"].value_counts(dropna=False)"
      ]
    },
    {
      "cell_type": "code",
      "execution_count": 6,
      "metadata": {
        "id": "CqA10B_vub1E"
      },
      "outputs": [],
      "source": [
        "# Get value counts including null values\n",
        "value_counts_result = big_df_smaller['Driver State'].value_counts(dropna=False).reset_index()\n",
        "\n",
        "# Rename the columns for clarity\n",
        "value_counts_result.columns = ['Driver State', 'Count']"
      ]
    },
    {
      "cell_type": "code",
      "execution_count": 7,
      "metadata": {
        "id": "-pCd-TtAub1E"
      },
      "outputs": [],
      "source": [
        "big_df_smaller.fillna('None', inplace=True)"
      ]
    },
    {
      "cell_type": "code",
      "execution_count": 8,
      "metadata": {
        "id": "mP3GOsHx7wsg"
      },
      "outputs": [],
      "source": [
        "# Assuming 'Driver State' is a column in your DataFrame\n",
        "driver_states_info = big_df_smaller['Driver State']\n",
        "\n",
        "# Create a new column 'State Category' and set default value to 'out of state'\n",
        "big_df_smaller['Driver State Category'] = 'out of state'\n",
        "\n",
        "# Update the values based on the condition\n",
        "big_df_smaller.loc[driver_states_info == 'MD', 'Driver State Category'] = 'in state'"
      ]
    },
    {
      "cell_type": "code",
      "execution_count": 9,
      "metadata": {
        "id": "rE5zhkl5894T"
      },
      "outputs": [],
      "source": [
        "# Assuming 'Driver State' is a column in your DataFrame\n",
        "plate_states_info = big_df_smaller['State']\n",
        "\n",
        "# Create a new column 'State Category' and set default value to 'out of state'\n",
        "big_df_smaller['License Plate State Category'] = 'out of state'\n",
        "\n",
        "# Update the values based on the condition\n",
        "big_df_smaller.loc[plate_states_info == 'MD', 'License Plate State Category'] = 'in state'"
      ]
    },
    {
      "cell_type": "code",
      "execution_count": 10,
      "metadata": {
        "id": "R9h9MEarDCmN"
      },
      "outputs": [],
      "source": [
        "big_df_smaller['Make'].replace('TOYT', 'TOYOTA', inplace=True)\n",
        "big_df_smaller['Make'].replace('HOND', 'HONDA', inplace=True)\n",
        "big_df_smaller['Make'].replace('CHEV', 'CHEVROLET', inplace=True)\n",
        "big_df_smaller['Make'].replace('NISS', 'NISSAN', inplace=True)\n",
        "big_df_smaller['Make'].replace('MERZ', 'MERCEDES', inplace=True)\n",
        "big_df_smaller['Make'].replace('HYUN', 'HYUNDAI', inplace=True)\n",
        "big_df_smaller['Make'].replace('VOLK', 'VOLKSWAGON', inplace=True)\n",
        "big_df_smaller['Make'].replace('ACUR', 'ACURA', inplace=True)\n",
        "big_df_smaller['Make'].replace('DODG', 'DODGE', inplace=True)\n",
        "big_df_smaller['Make'].replace('CHEVY', 'CHEVROLET', inplace=True)\n",
        "big_df_smaller['Make'].replace('CHRY', 'CHRYSLER', inplace=True)\n",
        "big_df_smaller['Make'].replace('MITS', 'MITSUBISHI', inplace=True)"
      ]
    },
    {
      "cell_type": "code",
      "execution_count": 11,
      "metadata": {
        "id": "YxPo_ioDHUHo"
      },
      "outputs": [],
      "source": [
        "big_df_smaller['Make'].replace('SUBA', 'SUBARU', inplace=True)\n",
        "big_df_smaller['Make'].replace('MAZD', 'MAZDA', inplace=True)\n",
        "big_df_smaller['Make'].replace('CADI', 'CADILLAC', inplace=True)\n",
        "big_df_smaller['Make'].replace('VW', 'VOLKSWAGON', inplace=True)\n",
        "big_df_smaller['Make'].replace('INFI', 'INFINITI', inplace=True)\n",
        "big_df_smaller['Make'].replace('VOLKS', 'VOLKSWAGON', inplace=True)\n",
        "big_df_smaller['Make'].replace('MERC', 'MERCEDES', inplace=True)\n",
        "big_df_smaller['Make'].replace('LEXS', 'LEXUS', inplace=True)\n",
        "big_df_smaller['Make'].replace('LEXU', 'LEXUS', inplace=True)\n",
        "big_df_smaller['Make'].replace('VOLV', 'VOLVO', inplace=True)\n",
        "big_df_smaller['Make'].replace('PONT', 'PONTIAC', inplace=True)\n",
        "big_df_smaller['Make'].replace('TOYO', 'TOYOTA', inplace=True)\n",
        "big_df_smaller['Make'].replace('LINC', 'LINCOLN', inplace=True)\n",
        "big_df_smaller['Make'].replace('INIFINITY', 'INFINITI', inplace=True)\n",
        "big_df_smaller['Make'].replace('BUIC', 'BUICK', inplace=True)\n",
        "big_df_smaller['Make'].replace('MERCEDEZ', 'MERCEDES', inplace=True)"
      ]
    },
    {
      "cell_type": "code",
      "execution_count": 12,
      "metadata": {
        "id": "D3o8P3fgKZHx"
      },
      "outputs": [],
      "source": [
        "big_df_smaller['Make'].replace('MERCEDES BENZ', 'MERCEDES', inplace=True)\n",
        "big_df_smaller['Make'].replace('TOY', 'TOYOTA', inplace=True)\n",
        "big_df_smaller['Make'].replace('OLDS', 'OLDSMOBILE', inplace=True)\n",
        "big_df_smaller['Make'].replace('NISSIAN', 'NISSAN', inplace=True)\n",
        "big_df_smaller['Make'].replace('LNDR', 'LAND-ROVER', inplace=True)\n",
        "big_df_smaller['Make'].replace('LAND ROVER', 'LAND-ROVER', inplace=True)\n",
        "big_df_smaller['Make'].replace('PORSHE', 'PORSCHE', inplace=True)\n",
        "big_df_smaller['Make'].replace('SATU', 'SATURN', inplace=True)\n",
        "big_df_smaller['Make'].replace('HYUND', 'HYUNDAI', inplace=True)\n",
        "big_df_smaller['Make'].replace('RANGE ROVER', 'RANGE-ROVER', inplace=True)"
      ]
    },
    {
      "cell_type": "code",
      "execution_count": 13,
      "metadata": {
        "id": "9pW3EKcRL_0U"
      },
      "outputs": [],
      "source": [
        "big_df_smaller['Make'].replace('TOYOT', 'TOYOTA', inplace=True)\n",
        "big_df_smaller['Make'].replace('TOYTA', 'TOYOTA', inplace=True)\n",
        "big_df_smaller['Make'].replace('CHEVORLET', 'CHEVROLET', inplace=True)\n",
        "big_df_smaller['Make'].replace('INTL', 'INTERNATIONAL', inplace=True)"
      ]
    },
    {
      "cell_type": "code",
      "execution_count": 14,
      "metadata": {
        "id": "5t_lHaR4O_i8"
      },
      "outputs": [],
      "source": [
        "big_df_smaller['Make'].replace('PTRB', 'PETERBILT', inplace=True)\n",
        "big_df_smaller['Make'].replace('ISUZ', 'ISUZU', inplace=True)\n",
        "big_df_smaller['Make'].replace('CHRYS', 'CHRYSLER', inplace=True)\n",
        "big_df_smaller['Make'].replace('LANDROVER', 'LAND-ROVER', inplace=True)\n",
        "big_df_smaller['Make'].replace('JAGU', 'JAGUAR', inplace=True)\n",
        "big_df_smaller['Make'].replace('ISU', 'ISUZU', inplace=True)\n",
        "big_df_smaller['Make'].replace('SCIO', 'SCION', inplace=True)\n",
        "big_df_smaller['Make'].replace('LEX', 'LEXUS', inplace=True)\n",
        "big_df_smaller['Make'].replace('SUZU', 'SUZUKI', inplace=True)\n",
        "big_df_smaller['Make'].replace('FRHT', 'FREIGHTLINER', inplace=True)\n",
        "big_df_smaller['Make'].replace('SUZI', 'SUZUKI', inplace=True)\n",
        "big_df_smaller['Make'].replace('STRN', 'SATURN', inplace=True)\n",
        "big_df_smaller['Make'].replace('HYUNDIA', 'HYUNDAI', inplace=True)\n",
        "big_df_smaller['Make'].replace('CHRYSTLER', 'CHRYSLER', inplace=True)\n",
        "big_df_smaller['Make'].replace('CADILAC', 'CADILLAC', inplace=True)\n",
        "big_df_smaller['Make'].replace('SUB', 'SUBARU', inplace=True)\n",
        "big_df_smaller['Make'].replace('PLYM', 'PLYMOUTH', inplace=True)\n",
        "big_df_smaller['Make'].replace('MITZ', 'MITSUBISHI', inplace=True)\n",
        "big_df_smaller['Make'].replace('TESL', 'TESLA', inplace=True)\n",
        "big_df_smaller['Make'].replace('CHEVEROLET', 'CHEVROLET', inplace=True)\n",
        "big_df_smaller['Make'].replace('INFIN', 'INFINITI', inplace=True)\n",
        "big_df_smaller['Make'].replace('MNNI', 'MINI', inplace=True)\n",
        "big_df_smaller['Make'].replace('SUBURU', 'SUBARU', inplace=True)\n",
        "big_df_smaller['Make'].replace('MITSU', 'MITSUBISHI', inplace=True)\n",
        "big_df_smaller['Make'].replace('MERCEDES-BENZ', 'MERCEDES', inplace=True)\n",
        "big_df_smaller['Make'].replace('HYUNDI', 'HYUNDAI', inplace=True)\n",
        "big_df_smaller['Make'].replace('TOYTOA', 'TOYOTA', inplace=True)\n",
        "big_df_smaller['Make'].replace('CRYSLER', 'CHRYSLER', inplace=True)\n",
        "big_df_smaller['Make'].replace('YAMA', 'YAMAHA', inplace=True)\n",
        "big_df_smaller['Make'].replace('SUBU', 'SUBARU', inplace=True)\n",
        "big_df_smaller['Make'].replace('MAZ', 'MAZDA', inplace=True)\n",
        "big_df_smaller['Make'].replace('HYUNDA', 'HYUNDAI', inplace=True)\n",
        "big_df_smaller['Make'].replace('HUMM', 'HUMMER', inplace=True)\n",
        "big_df_smaller['Make'].replace('RANG', 'RANGE-ROVER', inplace=True)\n",
        "big_df_smaller['Make'].replace('CAD', 'CADILLAC', inplace=True)\n",
        "big_df_smaller['Make'].replace('TOTY', 'TOYOTA', inplace=True)\n",
        "big_df_smaller['Make'].replace('MERZ BENZ', 'MERCEDES', inplace=True)\n",
        "big_df_smaller['Make'].replace('JAG', 'JAGUAR', inplace=True)\n",
        "big_df_smaller['Make'].replace('MAZADA', 'MAZDA', inplace=True)\n",
        "big_df_smaller['Make'].replace('BENZ', 'MERCEDES', inplace=True)"
      ]
    },
    {
      "cell_type": "code",
      "execution_count": 15,
      "metadata": {
        "id": "xXP-_5d5Uxx-"
      },
      "outputs": [],
      "source": [
        "big_df_smaller['Make'].replace('KAWK', 'KAWASAKI', inplace=True)\n",
        "big_df_smaller['Make'].replace('TAO TAO', 'TAOTAO', inplace=True)\n",
        "big_df_smaller['Make'].replace('NISSA', 'NISSAN', inplace=True)\n",
        "big_df_smaller['Make'].replace('SAA', 'SAAB', inplace=True)\n",
        "big_df_smaller['Make'].replace('MINI COOPER', 'MINI-COOPER', inplace=True)\n",
        "big_df_smaller['Make'].replace('MINI', 'MINI-COOPER', inplace=True)\n",
        "big_df_smaller['Make'].replace('KW', 'KAWASAKI', inplace=True)\n",
        "big_df_smaller['Make'].replace('SATR', 'SATURN', inplace=True)\n",
        "big_df_smaller['Make'].replace('INF', 'INFINITI', inplace=True)\n",
        "big_df_smaller['Make'].replace('HARLEY DAVIDSON', 'HARLEY-DAVIDSON', inplace=True)\n",
        "big_df_smaller['Make'].replace('PETE', 'PETERBILT', inplace=True)\n",
        "big_df_smaller['Make'].replace('HINDA', 'HONDA', inplace=True)\n",
        "big_df_smaller['Make'].replace('PETERBUILT', 'PETERBILT', inplace=True)\n",
        "big_df_smaller['Make'].replace('IZUZU', 'ISUZU', inplace=True)\n",
        "big_df_smaller['Make'].replace('HYUNDAY', 'HYUNDAI', inplace=True)\n",
        "big_df_smaller['Make'].replace('VOLKWAGON', 'VOLKSWAGON', inplace=True)\n",
        "big_df_smaller['Make'].replace('FREI', 'FREIGHTLINER', inplace=True)\n",
        "big_df_smaller['Make'].replace('INFINTI', 'INFINITI', inplace=True)\n",
        "big_df_smaller['Make'].replace('TOYOYA', 'TOYOTA', inplace=True)\n",
        "big_df_smaller['Make'].replace('HUNDAI', 'HYUNDAI', inplace=True)\n",
        "big_df_smaller['Make'].replace('HYNDAI', 'HYUNDAI', inplace=True)\n",
        "big_df_smaller['Make'].replace('MERCEDEZ BENZ', 'MERCEDES', inplace=True)\n",
        "big_df_smaller['Make'].replace('NISAN', 'NISSAN', inplace=True)\n",
        "big_df_smaller['Make'].replace('TSMR', 'TESLA', inplace=True)\n",
        "big_df_smaller['Make'].replace('CHEVE', 'CHEVROLET', inplace=True)\n",
        "big_df_smaller['Make'].replace('VOLKS WAGON', 'VOLKSWAGON', inplace=True)\n",
        "big_df_smaller['Make'].replace('HARLEY', 'HARLEY-DAVIDSON', inplace=True)\n",
        "big_df_smaller['Make'].replace('TOTOTA', 'TOYOTA', inplace=True)\n",
        "big_df_smaller['Make'].replace('PORCHE', 'PORSCHE', inplace=True)\n",
        "big_df_smaller['Make'].replace('HON', 'HONDA', inplace=True)\n",
        "big_df_smaller['Make'].replace('HYUDAI', 'HYUNDAI', inplace=True)\n",
        "big_df_smaller['Make'].replace('MASE', 'MASERATI', inplace=True)\n",
        "big_df_smaller['Make'].replace('HYANDAI', 'HYUNDAI', inplace=True)\n",
        "big_df_smaller['Make'].replace('KENW', 'KENWORTH', inplace=True)\n",
        "big_df_smaller['Make'].replace('MER', 'MERCEDES', inplace=True)\n",
        "big_df_smaller['Make'].replace('HUYN', 'HYUNDAI', inplace=True)\n",
        "big_df_smaller['Make'].replace('LAND', 'LAND-ROVER', inplace=True)\n",
        "big_df_smaller['Make'].replace('INFINIT', 'INFINITI', inplace=True)\n",
        "big_df_smaller['Make'].replace('BWM', 'BMW', inplace=True)\n",
        "big_df_smaller['Make'].replace('MADZA', 'MAZDA', inplace=True)\n",
        "big_df_smaller['Make'].replace('CHYRSLER', 'CHRYSLER', inplace=True)\n",
        "big_df_smaller['Make'].replace('CHEVEY', 'CHEVROLET', inplace=True)\n",
        "big_df_smaller['Make'].replace('HONA', 'HONDA', inplace=True)\n",
        "big_df_smaller['Make'].replace('CHYSLER', 'CHRYSLER', inplace=True)\n",
        "big_df_smaller['Make'].replace('TOYTOTA', 'TOYOTA', inplace=True)\n",
        "big_df_smaller['Make'].replace('MB', 'MERCEDES', inplace=True)\n"
      ]
    },
    {
      "cell_type": "code",
      "execution_count": 16,
      "metadata": {
        "id": "JCunhIQTZAZ9"
      },
      "outputs": [],
      "source": [
        "big_df_smaller['Make'].replace('INTE', 'INTERNATIONAL', inplace=True)\n",
        "big_df_smaller['Make'].replace('ACCURA', 'ACURA', inplace=True)\n",
        "big_df_smaller['Make'].replace('FREIGHT', 'FREIGHTLINER', inplace=True)\n",
        "big_df_smaller['Make'].replace('MERZEDES', 'MERCEDES', inplace=True)\n",
        "big_df_smaller['Make'].replace('CHEVERLOT', 'CHEVROLET', inplace=True)\n",
        "big_df_smaller['Make'].replace('CEHVY', 'CHEVROLET', inplace=True)\n",
        "big_df_smaller['Make'].replace('TOYOA', 'TOYOTA', inplace=True)\n",
        "big_df_smaller['Make'].replace('TYOTA', 'TOYOTA', inplace=True)\n",
        "big_df_smaller['Make'].replace('TOYOYTA', 'TOYOTA', inplace=True)\n",
        "big_df_smaller['Make'].replace('VOLKSWAGGON', 'VOLKSWAGON', inplace=True)\n",
        "big_df_smaller['Make'].replace('VOLKWAGEN', 'VOLKSWAGON', inplace=True)\n",
        "big_df_smaller['Make'].replace('VOLSWAGON', 'VOLKSWAGON', inplace=True)\n",
        "big_df_smaller['Make'].replace('VOLTSWAGON', 'VOLKSWAGON', inplace=True)\n",
        "big_df_smaller['Make'].replace('FOR', 'FORD', inplace=True)\n",
        "big_df_smaller['Make'].replace('SMRT', 'SMART', inplace=True)\n",
        "big_df_smaller['Make'].replace('HUYNDAI', 'HYUNDAI', inplace=True)\n",
        "big_df_smaller['Make'].replace('HYU', 'HYUNDAI', inplace=True)\n",
        "big_df_smaller['Make'].replace('HYND', 'HYUNDAI', inplace=True)\n",
        "big_df_smaller['Make'].replace('HYN', 'HYUNDAI', inplace=True)\n",
        "big_df_smaller['Make'].replace('CRYS', 'CHRYSLER', inplace=True)\n",
        "big_df_smaller['Make'].replace('CHRYLSER', 'CHRYSLER', inplace=True)\n",
        "big_df_smaller['Make'].replace('CRYSTLER', 'CHRYSLER', inplace=True)\n",
        "big_df_smaller['Make'].replace('HNDA', 'HONDA', inplace=True)\n",
        "big_df_smaller['Make'].replace('HODA', 'HONDA', inplace=True)\n",
        "big_df_smaller['Make'].replace('MIT', 'MITSUBISHI', inplace=True)\n",
        "big_df_smaller['Make'].replace('MITSIBISHI', 'MITSUBISHI', inplace=True)\n",
        "big_df_smaller['Make'].replace('MISTUBISHI', 'MITSUBISHI', inplace=True)\n",
        "big_df_smaller['Make'].replace('MITSUBUSHI', 'MITSUBISHI', inplace=True)\n",
        "big_df_smaller['Make'].replace('MERC BENZ', 'MERCEDES', inplace=True)\n",
        "big_df_smaller['Make'].replace('MERCADES', 'MERCEDES', inplace=True)\n",
        "big_df_smaller['Make'].replace('NEW FLYER', 'NEW-FLYER', inplace=True)\n",
        "big_df_smaller['Make'].replace('HD', 'HARLEY-DAVIDSON', inplace=True)\n",
        "big_df_smaller['Make'].replace('RANGE', 'RANGE-ROVER', inplace=True)\n",
        "big_df_smaller['Make'].replace('SUBURA', 'SUBARU', inplace=True)\n",
        "big_df_smaller['Make'].replace('ACRUA', 'ACURA', inplace=True)\n",
        "big_df_smaller['Make'].replace('INFINI', 'INFINITI', inplace=True)\n",
        "big_df_smaller['Make'].replace('INFINITE', 'INFINITI', inplace=True)\n",
        "big_df_smaller['Make'].replace('INIFINITI', 'INFINITI', inplace=True)\n",
        "big_df_smaller['Make'].replace('SUZ', 'SUZUKI', inplace=True)\n",
        "big_df_smaller['Make'].replace('ROV', 'LEXUS', inplace=True)\n",
        "big_df_smaller['Make'].replace('INT', 'INTERNATIONAL', inplace=True)\n",
        "big_df_smaller['Make'].replace('DUCA', 'DUCATI', inplace=True)"
      ]
    },
    {
      "cell_type": "code",
      "execution_count": 17,
      "metadata": {
        "id": "0m5ISeOu1we7"
      },
      "outputs": [],
      "source": [
        "big_df_smaller['Make'].replace('SAT', 'SATURN', inplace=True)\n",
        "big_df_smaller['Make'].replace('CADDILAC', 'CADILLAC', inplace=True)\n",
        "big_df_smaller['Make'].replace('MITTS', 'MITSUBISHI', inplace=True)\n",
        "big_df_smaller['Make'].replace('COOPER', 'MINI-COOPER', inplace=True)\n",
        "big_df_smaller['Make'].replace('ALFA ROMEO', 'ALFA-ROMEO', inplace=True)\n",
        "big_df_smaller['Make'].replace('FOED', 'FORD', inplace=True)\n",
        "big_df_smaller['Make'].replace('STER', 'STERLING', inplace=True)\n",
        "big_df_smaller['Make'].replace('THOM', 'THOMAS', inplace=True)\n",
        "big_df_smaller['Make'].replace('MAZA', 'MAZDA', inplace=True)\n",
        "big_df_smaller['Make'].replace('ALFA', 'ALFA-ROMEO', inplace=True)\n",
        "big_df_smaller['Make'].replace('MECURY', 'MERCURY', inplace=True)\n",
        "big_df_smaller['Make'].replace('INIFINITI', 'INFINITI', inplace=True)\n",
        "big_df_smaller['Make'].replace('LEXIS', 'LEXUS', inplace=True)\n",
        "big_df_smaller['Make'].replace('HODNA', 'HONDA', inplace=True)\n",
        "big_df_smaller['Make'].replace('SUZIKI', 'SUZUKI', inplace=True)\n",
        "big_df_smaller['Make'].replace('DOGE', 'DODGE', inplace=True)\n",
        "big_df_smaller['Make'].replace('MITSUBSHI', 'MITSUBISHI', inplace=True)\n",
        "big_df_smaller['Make'].replace('HIUNDAI', 'HYUNDAI', inplace=True)\n",
        "big_df_smaller['Make'].replace('HYUNAI', 'HYUNDAI', inplace=True)\n",
        "big_df_smaller['Make'].replace('DIDGE', 'DODGE', inplace=True)\n",
        "big_df_smaller['Make'].replace('HYUANDI', 'HYUNDAI', inplace=True)\n",
        "big_df_smaller['Make'].replace('UNK', 'UNKNOWN', inplace=True)\n",
        "big_df_smaller['Make'].replace('HOMDA', 'HONDA', inplace=True)\n",
        "big_df_smaller['Make'].replace('HIONDA', 'HONDA', inplace=True)\n",
        "big_df_smaller['Make'].replace('CHEVROLETE', 'CHEVROLET', inplace=True)\n",
        "big_df_smaller['Make'].replace('NIS', 'NISSAN', inplace=True)\n",
        "big_df_smaller['Make'].replace('CADILLIAC', 'CADILLAC', inplace=True)\n",
        "big_df_smaller['Make'].replace('VOLKSW', 'VOLKSWAGON', inplace=True)\n",
        "big_df_smaller['Make'].replace('SION', 'SCION', inplace=True)\n",
        "big_df_smaller['Make'].replace('VOLSWAGEN', 'VOLKSWAGON', inplace=True)\n",
        "big_df_smaller['Make'].replace('VOLKSWAGAN', 'VOLKSWAGON', inplace=True)\n",
        "big_df_smaller['Make'].replace('LINCON', 'LINCOLN', inplace=True)\n",
        "big_df_smaller['Make'].replace('TOOTA', 'TOYOTA', inplace=True)\n",
        "big_df_smaller['Make'].replace('CHEROLET', 'CHEVROLET', inplace=True)\n",
        "big_df_smaller['Make'].replace('MINNI', 'MINI-COOPER', inplace=True)"
      ]
    },
    {
      "cell_type": "code",
      "execution_count": 18,
      "metadata": {
        "id": "VLCEqhuv3933"
      },
      "outputs": [],
      "source": [
        "big_df_smaller['Make'].replace('WHITE', 'UNKNOWN', inplace=True)\n",
        "big_df_smaller['Make'].replace('INFINITY', 'INFINITI', inplace=True)\n",
        "big_df_smaller['Make'].replace('CHRISLER', 'CHRYSLER', inplace=True)\n",
        "big_df_smaller['Make'].replace('TOTOYA', 'TOYOTA', inplace=True)\n",
        "big_df_smaller['Make'].replace('HUNDAY', 'HYUNDAI', inplace=True)\n",
        "big_df_smaller['Make'].replace('CHYR', 'CHRYSLER', inplace=True)\n",
        "big_df_smaller['Make'].replace('FIRD', 'FORD', inplace=True)\n",
        "big_df_smaller['Make'].replace('SUSUKI', 'SUZUKI', inplace=True)\n",
        "big_df_smaller['Make'].replace('MITZUBISHI', 'MITZUBISHI', inplace=True)\n",
        "big_df_smaller['Make'].replace('HYUANDAI', 'HYUNDAI', inplace=True)\n",
        "big_df_smaller['Make'].replace('MIFU', 'UNKNOWN', inplace=True)\n",
        "big_df_smaller['Make'].replace('None', 'UNKNOWN', inplace=True)\n",
        "big_df_smaller['Make'].replace('CRY', 'CHRYSLER', inplace=True)\n",
        "big_df_smaller['Make'].replace('HARL', 'HARLEY-DAVIDSON', inplace=True)\n",
        "big_df_smaller['Make'].replace('WEST', 'UNKNOWN', inplace=True)\n",
        "big_df_smaller['Make'].replace('TOYOTA SCION', 'SCION', inplace=True)\n",
        "big_df_smaller['Make'].replace('BUIK', 'BUICK', inplace=True)\n",
        "big_df_smaller['Make'].replace('SUBAR', 'SUBARU', inplace=True)\n",
        "big_df_smaller['Make'].replace('VOLV0', 'VOLVO', inplace=True)\n",
        "big_df_smaller['Make'].replace('PREM', 'PREMIER', inplace=True)\n",
        "big_df_smaller['Make'].replace('NSSAN', 'NISSAN', inplace=True)\n",
        "big_df_smaller['Make'].replace('HYUNDAU', 'HYUNDAI', inplace=True)\n",
        "big_df_smaller['Make'].replace('TOYORA', 'TOYOTA', inplace=True)\n",
        "big_df_smaller['Make'].replace('NISSAM', 'NISSAN', inplace=True)\n",
        "big_df_smaller['Make'].replace('MITUBISHI', 'MITSUBISHI', inplace=True)\n",
        "big_df_smaller['Make'].replace('MITSHUBISHI', 'MITSUBISHI', inplace=True)\n",
        "big_df_smaller['Make'].replace('BENT', 'BENTLEY', inplace=True)\n",
        "big_df_smaller['Make'].replace('MADZ', 'MAZDA', inplace=True)\n",
        "big_df_smaller['Make'].replace('CHVY', 'CHEVROLET', inplace=True)\n",
        "big_df_smaller['Make'].replace('LEXSUS', 'LEXUS', inplace=True)\n",
        "big_df_smaller['Make'].replace('INTER', 'INTERNATIONAL', inplace=True)\n",
        "big_df_smaller['Make'].replace('SSR', 'CHEVROLET', inplace=True)\n",
        "big_df_smaller['Make'].replace('VIP', 'UNKNOWN', inplace=True)\n",
        "big_df_smaller['Make'].replace('MRAEZ', 'MASERATI', inplace=True)\n",
        "big_df_smaller['Make'].replace('MISSAN', 'NISSAN', inplace=True)\n",
        "big_df_smaller['Make'].replace('HONAD', 'HONDA', inplace=True)\n",
        "big_df_smaller['Make'].replace('WORK', 'UNKNOWN', inplace=True)\n",
        "big_df_smaller['Make'].replace('CHECY', 'CHEVROLET', inplace=True)\n",
        "big_df_smaller['Make'].replace('CHEVROLEY', 'CHEVROLET', inplace=True)\n",
        "big_df_smaller['Make'].replace('CHRSYLER', 'CHRYSLER', inplace=True)\n",
        "big_df_smaller['Make'].replace('ORD', 'FORD', inplace=True)\n",
        "big_df_smaller['Make'].replace('MITSUBISH', 'MITSUBISHI', inplace=True)\n",
        "big_df_smaller['Make'].replace('VOLS', 'VOLKSWAGON', inplace=True)\n",
        "big_df_smaller['Make'].replace('MERCZ', 'MERCEDES', inplace=True)\n",
        "big_df_smaller['Make'].replace('MITIS', 'MITSUBISHI', inplace=True)\n",
        "big_df_smaller['Make'].replace('CAMRY', 'TOYOTA', inplace=True)"
      ]
    },
    {
      "cell_type": "code",
      "execution_count": 19,
      "metadata": {
        "id": "BoXrFNR48G6m"
      },
      "outputs": [],
      "source": [
        "big_df_smaller['Make'].replace('CHRISLER', 'CHRYSLER', inplace=True)\n",
        "big_df_smaller['Make'].replace('NONE', 'UNKNOWN', inplace=True)\n",
        "big_df_smaller['Make'].replace('INFINITY', 'INFINITI', inplace=True)\n",
        "big_df_smaller['Make'].replace('MITZUBISHI', 'MITSUBISHI', inplace=True)\n",
        "big_df_smaller['Make'].replace('MREZ', 'MERCEDES', inplace=True)\n",
        "big_df_smaller['Make'].replace('TOYATA', 'TOYOTA', inplace=True)\n",
        "big_df_smaller['Make'].replace('SABB', 'SAAB', inplace=True)\n",
        "big_df_smaller['Make'].replace('CHEVRLET', 'CHEVROLET', inplace=True)\n",
        "big_df_smaller['Make'].replace('', 'CADILLAC', inplace=True)\n"
      ]
    },
    {
      "cell_type": "code",
      "execution_count": 20,
      "metadata": {
        "id": "JCiK3cXS83qh"
      },
      "outputs": [],
      "source": [
        "big_df_smaller['Make'].replace('PORSH', 'PORSCHE', inplace=True)\n",
        "big_df_smaller['Make'].replace('FRT', 'FREIGHTLINER', inplace=True)\n",
        "big_df_smaller['Make'].replace('SCOOTER', 'UNKNOWN', inplace=True)\n",
        "big_df_smaller['Make'].replace('BMX', 'UNKNOWN', inplace=True)\n",
        "big_df_smaller['Make'].replace('MIST', 'MITSUBISHI', inplace=True)\n",
        "big_df_smaller['Make'].replace('KAWA', 'KAWASAKI', inplace=True)\n",
        "big_df_smaller['Make'].replace('ALTIMA', 'NISSAN', inplace=True)\n",
        "big_df_smaller['Make'].replace('ISZU', 'ISUZU', inplace=True)\n",
        "big_df_smaller['Make'].replace('FOD', 'FORD', inplace=True)\n",
        "big_df_smaller['Make'].replace('MERCEDS', 'MERCEDES', inplace=True)\n"
      ]
    },
    {
      "cell_type": "code",
      "execution_count": 21,
      "metadata": {
        "id": "pz1D5D6i91wI"
      },
      "outputs": [],
      "source": [
        "big_df_smaller['Make'].replace('ONDA', 'HONDA', inplace=True)\n",
        "big_df_smaller['Make'].replace('BENTLY', 'BENTLEY', inplace=True)\n",
        "big_df_smaller['Make'].replace('ACCORD', 'HONDA', inplace=True)\n",
        "big_df_smaller['Make'].replace('VK', 'UNKNOWN', inplace=True)\n",
        "big_df_smaller['Make'].replace('KAW', 'KAWASAKI', inplace=True)\n",
        "big_df_smaller['Make'].replace('MD', 'MERCEDES', inplace=True)\n",
        "big_df_smaller['Make'].replace('SUNNY', 'NISSAN', inplace=True)\n",
        "big_df_smaller['Make'].replace('HOMD', 'HONDA', inplace=True)\n",
        "big_df_smaller['Make'].replace('COROLLA', 'TOYOTA', inplace=True)\n",
        "big_df_smaller['Make'].replace('MECEDES', 'MERCEDES', inplace=True)\n",
        "big_df_smaller['Make'].replace('NISSSAN', 'NISSAN', inplace=True)\n",
        "big_df_smaller['Make'].replace('TPYOTA', 'TOYOTA', inplace=True)\n",
        "big_df_smaller['Make'].replace('SUBR', 'SUBARU', inplace=True)\n",
        "big_df_smaller['Make'].replace('XX', 'UNKNOWN', inplace=True)"
      ]
    },
    {
      "cell_type": "code",
      "execution_count": 22,
      "metadata": {
        "id": "HoCK4rhJ_Dli"
      },
      "outputs": [],
      "source": [
        "big_df_smaller['Make'].replace('FERR', 'FERRARI', inplace=True)\n",
        "big_df_smaller['Make'].replace('WV', 'VOLKSWAGON', inplace=True)\n",
        "big_df_smaller['Make'].replace('VOKSWAGON', 'VOLKSWAGON', inplace=True)\n",
        "big_df_smaller['Make'].replace('LEXUX', 'LEXUS', inplace=True)\n",
        "big_df_smaller['Make'].replace('WOLKSWAGEN', 'VOLKSWAGON', inplace=True)\n",
        "big_df_smaller['Make'].replace('KAWASKI', 'KAWASAKI', inplace=True)\n",
        "big_df_smaller['Make'].replace('TOYPTA', 'TOYOTA', inplace=True)\n",
        "big_df_smaller['Make'].replace('NISSON', 'NISSAN', inplace=True)\n",
        "big_df_smaller['Make'].replace('FORK', 'FORD', inplace=True)\n",
        "big_df_smaller['Make'].replace('CADALIC', 'CADILLAC', inplace=True)\n",
        "big_df_smaller['Make'].replace('VOLKSWA', 'VOLKSWAGON', inplace=True)\n",
        "big_df_smaller['Make'].replace('MITTSUBISHI', 'MITSUBISHI', inplace=True)\n",
        "big_df_smaller['Make'].replace('HUYUNDAI', 'HYUNDAI', inplace=True)\n",
        "big_df_smaller['Make'].replace('RANGEROVER', 'RANGE-ROVER', inplace=True)\n",
        "big_df_smaller['Make'].replace('IZU', 'ISUZU', inplace=True)\n",
        "big_df_smaller['Make'].replace('HOME', 'UNKNOWN', inplace=True)\n",
        "big_df_smaller['Make'].replace('KENILWORTH', 'UNKNOWN', inplace=True)\n",
        "big_df_smaller['Make'].replace('DODGE RAM', 'DODGE', inplace=True)\n",
        "big_df_smaller['Make'].replace('VOVLO', 'VOLVO', inplace=True)\n",
        "big_df_smaller['Make'].replace('LUXUS', 'LEXUS', inplace=True)\n",
        "big_df_smaller['Make'].replace('WESTERN STAR', 'WESTERN-STAR', inplace=True)\n",
        "big_df_smaller['Make'].replace('MBENZ', 'MERCEDES', inplace=True)"
      ]
    },
    {
      "cell_type": "code",
      "execution_count": 23,
      "metadata": {
        "id": "10waCGmeA6EH"
      },
      "outputs": [],
      "source": [
        "big_df_smaller['Make'].replace('LEXAS', 'LEXUS', inplace=True)\n",
        "big_df_smaller['Make'].replace('NISSN', 'NISSAN', inplace=True)\n",
        "big_df_smaller['Make'].replace('STLG', 'STERLING', inplace=True)\n",
        "big_df_smaller['Make'].replace('MADA', 'MAZDA', inplace=True)\n",
        "big_df_smaller['Make'].replace('MAD', 'MAZDA', inplace=True)\n",
        "big_df_smaller['Make'].replace('VOLKWAG', 'VOLKSWAGON', inplace=True)\n",
        "big_df_smaller['Make'].replace('TELSA', 'TESLA', inplace=True)\n",
        "big_df_smaller['Make'].replace('PORSCH', 'PORSCHE', inplace=True)\n",
        "big_df_smaller['Make'].replace('PLYMOTH', 'PLYMOUTH', inplace=True)\n",
        "big_df_smaller['Make'].replace('LANR', 'LAND-ROVER', inplace=True)\n",
        "big_df_smaller['Make'].replace('TAO', 'TAOTAO', inplace=True)"
      ]
    },
    {
      "cell_type": "code",
      "execution_count": 24,
      "metadata": {
        "id": "VCTg4rhlBpc-"
      },
      "outputs": [],
      "source": [
        "big_df_smaller['Make'].replace('CHEVYROLET', 'CHEVROLET', inplace=True)\n",
        "big_df_smaller['Make'].replace('DOGDE', 'DODGE', inplace=True)\n",
        "big_df_smaller['Make'].replace('VOL', 'VOLVO', inplace=True)\n",
        "big_df_smaller['Make'].replace('TAIWAN GOLDEN B', 'TAIWAN GOLDEN BEE', inplace=True)\n",
        "big_df_smaller['Make'].replace('MITSUB', 'MITSUBISHI', inplace=True)\n",
        "big_df_smaller['Make'].replace('MERCE', 'MERCEDES', inplace=True)\n",
        "big_df_smaller['Make'].replace('BNW', 'BMW', inplace=True)\n",
        "big_df_smaller['Make'].replace('LICOLN', 'LINCOLN', inplace=True)\n",
        "big_df_smaller['Make'].replace('MERCED', 'MERCEDES', inplace=True)\n",
        "big_df_smaller['Make'].replace('CHRYLER', 'CHRYSLER', inplace=True)\n",
        "big_df_smaller['Make'].replace('LINCOLIN', 'LINCOLN', inplace=True)\n",
        "big_df_smaller['Make'].replace('MERECEDES', 'MERCEDES', inplace=True)\n",
        "big_df_smaller['Make'].replace('TOYTO', 'TOYOTA', inplace=True)\n",
        "big_df_smaller['Make'].replace('CHVROLET', 'CHEVROLET', inplace=True)\n",
        "big_df_smaller['Make'].replace('EPO', 'UNKNOWN', inplace=True)\n",
        "big_df_smaller['Make'].replace('CHEVR', 'CHEVROLET', inplace=True)\n",
        "big_df_smaller['Make'].replace('TOT', 'TOYOTA', inplace=True)\n",
        "big_df_smaller['Make'].replace('BWI', 'UNKNOWN', inplace=True)"
      ]
    },
    {
      "cell_type": "code",
      "execution_count": 25,
      "metadata": {
        "id": "hsPU2siXDFBP"
      },
      "outputs": [],
      "source": [
        "big_df_smaller['Make'].replace('MISS', 'MITSUBISHI', inplace=True)\n",
        "big_df_smaller['Make'].replace('TOTYOTA', 'TOYOTA', inplace=True)\n",
        "big_df_smaller['Make'].replace('NISAAN', 'NISSAN', inplace=True)\n",
        "big_df_smaller['Make'].replace('CIVIC', 'HONDA', inplace=True)\n",
        "big_df_smaller['Make'].replace('TEST', 'UNKNOWN', inplace=True)\n",
        "big_df_smaller['Make'].replace('CHEVOLET', 'CHEVROLET', inplace=True)\n",
        "big_df_smaller['Make'].replace('MITISUBISHI', 'MITSUBISHI', inplace=True)\n",
        "big_df_smaller['Make'].replace('TPYPTA', 'TOYOTA', inplace=True)\n",
        "big_df_smaller['Make'].replace('OLDMOBILE', 'OLDSMOBILE', inplace=True)\n",
        "big_df_smaller['Make'].replace('CHY', 'CHEVROLET', inplace=True)\n",
        "big_df_smaller['Make'].replace('YOYOTA', 'TOYOTA', inplace=True)\n",
        "big_df_smaller['Make'].replace('CHEY', 'CHEVROLET', inplace=True)\n",
        "big_df_smaller['Make'].replace('SMAR', 'MART', inplace=True)\n",
        "big_df_smaller['Make'].replace('HONDS', 'HONDA', inplace=True)"
      ]
    },
    {
      "cell_type": "code",
      "execution_count": 26,
      "metadata": {
        "id": "pzECPMX2D9Dv"
      },
      "outputs": [],
      "source": [
        "big_df_smaller['Make'].replace('HYUNADAI', 'HYUNDAI', inplace=True)\n",
        "big_df_smaller['Make'].replace('GENS', 'GENESIS', inplace=True)\n",
        "big_df_smaller['Make'].replace('ASTON MARTIN', 'ASTON-MARTIN', inplace=True)\n",
        "big_df_smaller['Make'].replace('CADILLA', 'CADILLAC', inplace=True)\n",
        "big_df_smaller['Make'].replace('HUND', 'HYUNDAI', inplace=True)\n",
        "big_df_smaller['Make'].replace('FTL', 'UNKNOWN', inplace=True)\n",
        "big_df_smaller['Make'].replace('SUBUARU', 'SUBARU', inplace=True)\n",
        "big_df_smaller['Make'].replace('MITSUBIHI', 'MITSUBISHI', inplace=True)\n",
        "big_df_smaller['Make'].replace('CEHV', 'CHEVROLET', inplace=True)\n",
        "big_df_smaller['Make'].replace('RAV4', 'TOYOTA', inplace=True)\n",
        "big_df_smaller['Make'].replace('BUCK', 'BUICK', inplace=True)\n",
        "big_df_smaller['Make'].replace('PONIAC', 'PONTIAC', inplace=True)\n",
        "big_df_smaller['Make'].replace('MART', 'SMART', inplace=True)\n",
        "big_df_smaller['Make'].replace('MERCEDEES', 'MERCEDES', inplace=True)\n",
        "big_df_smaller['Make'].replace('FROD', 'FORD', inplace=True)\n",
        "big_df_smaller['Make'].replace('VOLKESWAGON', 'VOLKWAGON', inplace=True)\n",
        "big_df_smaller['Make'].replace('SURE', 'UNKNOWN', inplace=True)\n",
        "big_df_smaller['Make'].replace('JEP', 'JEEP', inplace=True)\n",
        "big_df_smaller['Make'].replace('MERCEDEZ-BENZ', 'MERCEDES', inplace=True)\n",
        "big_df_smaller['Make'].replace('HUDS', 'HUDSON', inplace=True)\n",
        "big_df_smaller['Make'].replace('TOYOTOA', 'TOYOTA', inplace=True)"
      ]
    },
    {
      "cell_type": "code",
      "execution_count": 27,
      "metadata": {
        "id": "RY_yEZ1UFjtm"
      },
      "outputs": [],
      "source": [
        "big_df_smaller['Make'].replace('NIISSAN', 'NISSAN', inplace=True)\n",
        "big_df_smaller['Make'].replace('VOLKWAGON', 'VOLKSWAGON', inplace=True)\n",
        "big_df_smaller['Make'].replace('CEHVROLET', 'CHEVROLET', inplace=True)\n",
        "big_df_smaller['Make'].replace('HONDA`', 'HONDA', inplace=True)\n",
        "big_df_smaller['Make'].replace('TOMAS', 'THOMAS', inplace=True)\n",
        "big_df_smaller['Make'].replace('MERDZ', 'MERCEDES', inplace=True)\n",
        "big_df_smaller['Make'].replace('CADDILLAC', 'CADILLAC', inplace=True)\n",
        "big_df_smaller['Make'].replace('VOLKSWAG', 'VOLKSWAGON', inplace=True)\n",
        "big_df_smaller['Make'].replace('CHEVROET', 'CHEVROLET', inplace=True)\n",
        "big_df_smaller['Make'].replace('HAUL', 'UNKNOWN', inplace=True)\n",
        "big_df_smaller['Make'].replace('CHR', 'CHRYSLER', inplace=True)\n",
        "big_df_smaller['Make'].replace('MERCEDE', 'MERCEDES', inplace=True)\n",
        "big_df_smaller['Make'].replace('ASTO', 'ASTON-MARTIN', inplace=True)\n",
        "big_df_smaller['Make'].replace('RANGE ROV', 'RANGE-ROVER', inplace=True)\n",
        "big_df_smaller['Make'].replace('JETTA', 'VOLKSWAGON', inplace=True)\n",
        "big_df_smaller['Make'].replace('LODA', 'UNKNOWN', inplace=True)\n",
        "big_df_smaller['Make'].replace('TAGA', 'UNKNOWN', inplace=True)\n",
        "big_df_smaller['Make'].replace('FRIEGHTLINER', 'FREIGHTLINER', inplace=True)\n",
        "big_df_smaller['Make'].replace('KAWI', 'KAWASAKI', inplace=True)\n",
        "big_df_smaller['Make'].replace('TOYOTS', 'TOYOTA', inplace=True)\n",
        "big_df_smaller['Make'].replace('SPRINTER', 'MERCEDES', inplace=True)"
      ]
    },
    {
      "cell_type": "code",
      "execution_count": 28,
      "metadata": {},
      "outputs": [],
      "source": [
        "big_df_smaller['Make'].replace('PORS', 'PORSCHE', inplace=True)\n",
        "big_df_smaller['Make'].replace('HIUNDAY', 'HYUNDAI', inplace=True)\n",
        "big_df_smaller['Make'].replace('STAR', 'WESTERN-STAR', inplace=True)\n",
        "big_df_smaller['Make'].replace('RANG ROVER', 'RANGE-ROVER', inplace=True)\n",
        "big_df_smaller['Make'].replace('CADDI', 'CADILLAC', inplace=True)\n",
        "big_df_smaller['Make'].replace('FRD', 'FORD', inplace=True)\n",
        "big_df_smaller['Make'].replace('STRG', 'HONDA', inplace=True)\n",
        "big_df_smaller['Make'].replace('GORD', 'FORD', inplace=True)\n",
        "big_df_smaller['Make'].replace('VOKS', 'VOLKSWAGON', inplace=True)\n",
        "big_df_smaller['Make'].replace('HUNDI', 'HYUNDAI', inplace=True)\n",
        "big_df_smaller['Make'].replace('BUEL', 'BUELL', inplace=True)\n",
        "big_df_smaller['Make'].replace('TAOT', 'TAOTAO', inplace=True)\n",
        "big_df_smaller['Make'].replace('HOBDA', 'HONDA', inplace=True)\n",
        "big_df_smaller['Make'].replace('ATV', 'UNKNOWN', inplace=True)\n",
        "big_df_smaller['Make'].replace('TOYOTA/SCION', 'TOYOTA', inplace=True)\n",
        "big_df_smaller['Make'].replace('PONTAIC', 'PONTIAC', inplace=True)\n",
        "big_df_smaller['Make'].replace('UTIL', 'UTILITY', inplace=True)\n",
        "big_df_smaller['Make'].replace('DATS', 'DATSUN', inplace=True)\n",
        "big_df_smaller['Make'].replace('CEV', 'UNKNOWN', inplace=True)\n",
        "big_df_smaller['Make'].replace('TOYOTSA', 'TOYOTA', inplace=True)\n",
        "big_df_smaller['Make'].replace('DAEW', 'DAEWOO', inplace=True)\n",
        "big_df_smaller['Make'].replace('GILG', 'GILGEE', inplace=True)\n",
        "big_df_smaller['Make'].replace('MOPED', 'UNKNOWN', inplace=True)\n",
        "big_df_smaller['Make'].replace('MBW', 'BMW', inplace=True)\n",
        "big_df_smaller['Make'].replace('HIND', 'HYUNDAI', inplace=True)\n",
        "big_df_smaller['Make'].replace('JEEF', 'JEEP', inplace=True)\n",
        "big_df_smaller['Make'].replace('SUBURAU', 'SUBARU', inplace=True)\n",
        "big_df_smaller['Make'].replace('LEUS', 'LEXUS', inplace=True)\n",
        "big_df_smaller['Make'].replace('CRAN', 'UNKNOWN', inplace=True)\n",
        "big_df_smaller['Make'].replace('MASERATTI', 'MASERATI', inplace=True)\n",
        "big_df_smaller['Make'].replace('MERCDES', 'MERCEDES', inplace=True)\n",
        "big_df_smaller['Make'].replace('INIFITI', 'INFINITI', inplace=True)\n",
        "big_df_smaller['Make'].replace('GNC', 'GM', inplace=True)\n",
        "big_df_smaller['Make'].replace('CADALLAC', 'CADILLAC', inplace=True)\n",
        "big_df_smaller['Make'].replace('TOYOTO', 'TOYOTA', inplace=True)\n",
        "big_df_smaller['Make'].replace('MITSBISHI', 'MITSUBISHI', inplace=True)\n",
        "big_df_smaller['Make'].replace('HUN', 'HYUNDAI', inplace=True)\n",
        "big_df_smaller['Make'].replace('TIYITA', 'TOYOTA', inplace=True)\n",
        "big_df_smaller['Make'].replace('HOINDA', 'HONDA', inplace=True)\n",
        "big_df_smaller['Make'].replace('HYUD', 'HYUNDAI', inplace=True)\n",
        "big_df_smaller['Make'].replace('SUBARY', 'SUBARU', inplace=True)\n",
        "big_df_smaller['Make'].replace('MITSUBISSHI', 'MITSUBISHI', inplace=True)"
      ]
    },
    {
      "cell_type": "code",
      "execution_count": 29,
      "metadata": {},
      "outputs": [],
      "source": [
        "big_df_smaller['Make'].replace('ELANTRA', 'HYUNDAI', inplace=True)\n",
        "big_df_smaller['Make'].replace('BLUE', 'UNKNOWN', inplace=True)\n",
        "big_df_smaller['Make'].replace('OLDS MOBILE', 'OLDSMOBILE', inplace=True)\n",
        "big_df_smaller['Make'].replace('JAQUAR', 'JAGUAR', inplace=True)\n",
        "big_df_smaller['Make'].replace('CEVROLET', 'CHEVROLET', inplace=True)\n",
        "big_df_smaller['Make'].replace('MISTSUBISHI', 'MITSUBISHI', inplace=True)\n",
        "big_df_smaller['Make'].replace('YAHMAHA', 'YAMAHA', inplace=True)\n",
        "big_df_smaller['Make'].replace('TOUOTA', 'TOYOTA', inplace=True)\n",
        "big_df_smaller['Make'].replace('FRTL', 'FREIGHTLINER', inplace=True)\n",
        "big_df_smaller['Make'].replace('DOD', 'UNKNOWN', inplace=True)\n",
        "big_df_smaller['Make'].replace('JONDA', 'HONDA', inplace=True)\n",
        "big_df_smaller['Make'].replace('UHAUL', 'UNKNOWN', inplace=True)\n",
        "big_df_smaller['Make'].replace('VOLKE', 'VOLKSWAGON', inplace=True)\n",
        "big_df_smaller['Make'].replace('RIDE ON', 'UNKNOWN', inplace=True)\n",
        "big_df_smaller['Make'].replace('CHEVT', 'CHEVROLET', inplace=True)\n",
        "big_df_smaller['Make'].replace('MZDA', 'MAZDA', inplace=True)\n",
        "big_df_smaller['Make'].replace('TIYT', 'TOYOTA', inplace=True)\n",
        "big_df_smaller['Make'].replace('TRUCK', 'UNKNOWN', inplace=True)\n",
        "big_df_smaller['Make'].replace('CHRYSL', 'CHRYSLER', inplace=True)\n",
        "big_df_smaller['Make'].replace('SATUR', 'SATURN', inplace=True)\n",
        "big_df_smaller['Make'].replace('CHEVU', 'CHEVROLET', inplace=True)\n",
        "big_df_smaller['Make'].replace('PORC', 'PORSCHE', inplace=True)\n",
        "big_df_smaller['Make'].replace('2016', 'UNKNOWN', inplace=True)\n",
        "big_df_smaller['Make'].replace('TOOYOTA', 'TOYOTA', inplace=True)\n",
        "big_df_smaller['Make'].replace('VOLKW', 'VOLKSWAGON', inplace=True)\n",
        "big_df_smaller['Make'].replace('IHC', 'UNKNOWN', inplace=True)\n",
        "big_df_smaller['Make'].replace('MRZ', 'UNKNOWN', inplace=True)\n",
        "big_df_smaller['Make'].replace('MTIS', 'MITSUBISHI', inplace=True)\n",
        "big_df_smaller['Make'].replace('HYNDIA', 'HYUNDAI', inplace=True)\n",
        "big_df_smaller['Make'].replace('FRGHT', 'FREIGHTLINER', inplace=True)\n",
        "big_df_smaller['Make'].replace('INFNITY', 'INFINITI', inplace=True)\n",
        "big_df_smaller['Make'].replace('POINTIAC', 'PONTIAC', inplace=True)"
      ]
    },
    {
      "cell_type": "code",
      "execution_count": 30,
      "metadata": {},
      "outputs": [],
      "source": [
        "big_df_smaller['Make'].replace('AURA', 'SATURN', inplace=True)\n",
        "big_df_smaller['Make'].replace('CHEVROLT', 'CHEVROLET', inplace=True)\n",
        "big_df_smaller['Make'].replace('BIGT', 'UNKNOWN', inplace=True)\n",
        "big_df_smaller['Make'].replace('HYUNDUI', 'HYUNDAI', inplace=True)\n",
        "big_df_smaller['Make'].replace('AUCRA', 'ACURA', inplace=True)\n",
        "big_df_smaller['Make'].replace('INFNITI', 'INFINITI', inplace=True)\n",
        "big_df_smaller['Make'].replace('TTOYOTA', 'TOYOTA', inplace=True)\n",
        "big_df_smaller['Make'].replace('VULC', 'UNKNOWN', inplace=True)\n",
        "big_df_smaller['Make'].replace('CHE', 'CHEVROLET', inplace=True)\n",
        "big_df_smaller['Make'].replace('HOONDA', 'HONDA', inplace=True)\n",
        "big_df_smaller['Make'].replace('FPRD', 'FORD', inplace=True)\n",
        "big_df_smaller['Make'].replace('SUBARA', 'SUBARY', inplace=True)\n",
        "big_df_smaller['Make'].replace('BISSAN', 'NISSAN', inplace=True)\n",
        "big_df_smaller['Make'].replace('PORCH', 'PORSCHE', inplace=True)\n",
        "big_df_smaller['Make'].replace('FORDQ', 'FORD', inplace=True)\n",
        "big_df_smaller['Make'].replace('MITSIBUSHI', 'MITSUBISHI', inplace=True)\n",
        "big_df_smaller['Make'].replace('YAM', 'YAMAHA', inplace=True)\n",
        "big_df_smaller['Make'].replace('TOYA', 'TOYOTA', inplace=True)\n",
        "big_df_smaller['Make'].replace('TOY0TA', 'TOYOTA', inplace=True)\n",
        "big_df_smaller['Make'].replace('MITZU', 'MITSUBISHI', inplace=True)\n",
        "big_df_smaller['Make'].replace('MIITS', 'MITSUBISHI', inplace=True)\n",
        "big_df_smaller['Make'].replace('ROUTER', 'UNKNOWN', inplace=True)\n",
        "big_df_smaller['Make'].replace('MINICOOPER', 'MINI-COOPER', inplace=True)\n",
        "big_df_smaller['Make'].replace('JEEO', 'JEEP', inplace=True)\n",
        "big_df_smaller['Make'].replace('MEBE', 'MERCEDES', inplace=True)\n",
        "big_df_smaller['Make'].replace('LANDR', 'LAND-ROVER', inplace=True)\n",
        "big_df_smaller['Make'].replace('ACRA', 'ACURA', inplace=True)\n",
        "big_df_smaller['Make'].replace('HONDAY', 'HONDA', inplace=True)\n",
        "big_df_smaller['Make'].replace('MISUBISHI', 'MITSUBISHI', inplace=True)\n",
        "big_df_smaller['Make'].replace('BRIM', 'UNKNOWN', inplace=True)\n",
        "big_df_smaller['Make'].replace('GENISIS', 'GENESIS', inplace=True)\n",
        "big_df_smaller['Make'].replace('DDODGE', 'DODGE', inplace=True)\n",
        "big_df_smaller['Make'].replace('PASSAT', 'VOLKSWAGON', inplace=True)\n",
        "big_df_smaller['Make'].replace('NISSAB', 'NISSAN', inplace=True)\n",
        "big_df_smaller['Make'].replace('CHRYSER', 'CHRYSLER', inplace=True)\n",
        "big_df_smaller['Make'].replace('LAMBO', 'LAMBORGHINI', inplace=True)\n",
        "big_df_smaller['Make'].replace('YUKON', 'GM', inplace=True)\n",
        "big_df_smaller['Make'].replace('MERCERY', 'FORD', inplace=True)\n",
        "big_df_smaller['Make'].replace('MAXDA', 'MAZDA', inplace=True)\n",
        "big_df_smaller['Make'].replace('VWOLKS', 'VOLKSWAGON', inplace=True)\n",
        "big_df_smaller['Make'].replace('DORD', 'FORD', inplace=True)\n",
        "big_df_smaller['Make'].replace('HUMAN', 'UNKNOWN', inplace=True)\n",
        "big_df_smaller['Make'].replace('OYOTA', 'TOYOTA', inplace=True)\n",
        "big_df_smaller['Make'].replace('CHEVROLE', 'CHEVROLET', inplace=True)\n",
        "big_df_smaller['Make'].replace('Z71', 'CHEVROLET', inplace=True)\n",
        "big_df_smaller['Make'].replace('TOYOAT', 'TOYOTA', inplace=True)\n",
        "big_df_smaller['Make'].replace('OLSMOBILE', 'OLDSMOBILE', inplace=True)\n",
        "big_df_smaller['Make'].replace('SUBARY', 'SUBARU', inplace=True)"
      ]
    },
    {
      "cell_type": "code",
      "execution_count": 31,
      "metadata": {},
      "outputs": [],
      "source": [
        "big_df_smaller['Make'].replace('TRAILER', 'UNKNOWN', inplace=True)\n",
        "big_df_smaller['Make'].replace('CHEVOROLET', 'CHEVROLET', inplace=True)\n",
        "big_df_smaller['Make'].replace('NISSANA', 'NISSAN', inplace=True)\n",
        "big_df_smaller['Make'].replace('MURCURY', 'FORD', inplace=True)\n",
        "big_df_smaller['Make'].replace('MNI', 'MINI-COOPER', inplace=True)\n",
        "big_df_smaller['Make'].replace('POR', 'PORSCHE', inplace=True)\n",
        "big_df_smaller['Make'].replace('KIS', 'KIA', inplace=True)\n",
        "big_df_smaller['Make'].replace('LANDOVER', 'LAND-ROVER', inplace=True)\n",
        "big_df_smaller['Make'].replace('THOMAS BUILT', 'THOMAS', inplace=True)\n",
        "big_df_smaller['Make'].replace('MAZFA', 'MAZDA', inplace=True)\n",
        "big_df_smaller['Make'].replace('ACUA', 'ACURA', inplace=True)\n",
        "big_df_smaller['Make'].replace('SILVER', 'UNKNOWN', inplace=True)\n",
        "big_df_smaller['Make'].replace('VOKSWAGEN', 'VOLKSWAGON', inplace=True)\n",
        "big_df_smaller['Make'].replace('GOLD', 'UNKNOWN', inplace=True)\n",
        "big_df_smaller['Make'].replace('MEZ', 'MERCEDES', inplace=True)\n",
        "big_df_smaller['Make'].replace('TOYITA', 'TOYOTA', inplace=True)\n",
        "big_df_smaller['Make'].replace('AVURA', 'ACURA', inplace=True)\n",
        "big_df_smaller['Make'].replace('LOAD', 'UNKNOWN', inplace=True)\n",
        "big_df_smaller['Make'].replace('FHRT', 'FREIGHTLINER', inplace=True)\n",
        "big_df_smaller['Make'].replace('HYUMDAI', 'HYUNDAI', inplace=True)\n",
        "big_df_smaller['Make'].replace('DODE', 'DODGE', inplace=True)\n",
        "big_df_smaller['Make'].replace('HUYANDI', 'HYUNDAI', inplace=True)\n",
        "big_df_smaller['Make'].replace('SABARU', 'SUBARU', inplace=True)\n",
        "big_df_smaller['Make'].replace('SPNR', 'UNKNOWN', inplace=True)\n",
        "big_df_smaller['Make'].replace('VOLO', 'VOLVO', inplace=True)"
      ]
    },
    {
      "cell_type": "code",
      "execution_count": 32,
      "metadata": {
        "colab": {
          "base_uri": "https://localhost:8080/"
        },
        "id": "juSKRko9A3ut",
        "outputId": "bd74e167-0ceb-4cd4-aa5c-ade66738a7de"
      },
      "outputs": [
        {
          "name": "stdout",
          "output_type": "stream",
          "text": [
            "TOYOTA         317315\n",
            "HONDA          267382\n",
            "FORD           166197\n",
            "NISSAN         138338\n",
            "CHEVROLET      133213\n",
            "                ...  \n",
            "BUICK VAN           1\n",
            "JOND                1\n",
            "MAZDVAL2013         1\n",
            "DADG                1\n",
            "HYUNVAL2005         1\n",
            "Name: Make, Length: 3964, dtype: int64\n"
          ]
        }
      ],
      "source": [
        "makes_list = big_df_smaller['Make'].value_counts()\n",
        "print(makes_list)\n",
        "filtered_makes = makes_list[makes_list < 15]\n",
        "filtered_makes.head(50)"
      ]
    },
    {
      "cell_type": "code",
      "execution_count": 33,
      "metadata": {
        "id": "z2hkHsNfub1E"
      },
      "outputs": [],
      "source": [
        "big_df_smaller['Date Of Stop'] = pd.to_datetime(big_df_smaller['Date Of Stop'])\n",
        "big_df_smaller['Year Date'] = big_df_smaller['Date Of Stop'].dt.year\n",
        "big_df_smaller['Month'] = big_df_smaller['Date Of Stop'].dt.month\n",
        "big_df_smaller['Day'] = big_df_smaller['Date Of Stop'].dt.day"
      ]
    },
    {
      "cell_type": "code",
      "execution_count": 34,
      "metadata": {
        "id": "mZ_RZeYR_euv"
      },
      "outputs": [],
      "source": [
        "big_df_smaller['Time Of Stop'] = pd.to_datetime(big_df_smaller['Time Of Stop'])\n",
        "big_df_smaller['Hour of Stop'] = big_df_smaller['Time Of Stop'].dt.hour"
      ]
    },
    {
      "cell_type": "code",
      "execution_count": null,
      "metadata": {
        "id": "upqJM-WmI2gB"
      },
      "outputs": [],
      "source": []
    },
    {
      "cell_type": "code",
      "execution_count": 35,
      "metadata": {
        "id": "SfJJFRNIub1F"
      },
      "outputs": [],
      "source": [
        "# rf_df = big_df_smaller.drop(['Time Of Stop', 'Location', 'Latitude',\n",
        "#        'Longitude', 'Belts', 'Personal Injury',\n",
        "#        'Fatal', 'Alcohol', 'Work Zone', 'Search Conducted',\n",
        "#        'Search Disposition', 'Search Outcome', 'Search Type',\n",
        "#        'Search Arrest Reason', 'State', 'Year','Description','Make'], axis = 1)"
      ]
    },
    {
      "cell_type": "code",
      "execution_count": 36,
      "metadata": {
        "id": "VkgdsOAOub1F"
      },
      "outputs": [],
      "source": [
        "random_forest_df = big_df_smaller.drop(['Date Of Stop','Driver State','State','Time Of Stop'], axis = 1)"
      ]
    },
    {
      "cell_type": "code",
      "execution_count": 37,
      "metadata": {
        "colab": {
          "base_uri": "https://localhost:8080/"
        },
        "id": "8vWVScDoub1G",
        "outputId": "d0809c26-84cc-4b4c-c783-9fd270f037d9"
      },
      "outputs": [
        {
          "data": {
            "text/plain": [
              "Index(['SeqID', 'Agency', 'SubAgency', 'Description', 'Location', 'Latitude',\n",
              "       'Longitude', 'Accident', 'Belts', 'Personal Injury', 'Property Damage',\n",
              "       'Fatal', 'Commercial License', 'HAZMAT', 'Commercial Vehicle',\n",
              "       'Alcohol', 'Work Zone', 'Search Conducted', 'Search Disposition',\n",
              "       'Search Outcome', 'Search Reason', 'Search Reason For Stop',\n",
              "       'Search Type', 'Search Arrest Reason', 'VehicleType', 'Year', 'Make',\n",
              "       'Model', 'Color', 'Violation Type', 'Charge', 'Article',\n",
              "       'Contributed To Accident', 'Race', 'Gender', 'Driver City', 'DL State',\n",
              "       'Arrest Type', 'Geolocation', 'Driver State Category',\n",
              "       'License Plate State Category', 'Year Date', 'Month', 'Day',\n",
              "       'Hour of Stop'],\n",
              "      dtype='object')"
            ]
          },
          "execution_count": 37,
          "metadata": {},
          "output_type": "execute_result"
        }
      ],
      "source": [
        "random_forest_df.columns"
      ]
    },
    {
      "cell_type": "code",
      "execution_count": 38,
      "metadata": {
        "colab": {
          "base_uri": "https://localhost:8080/"
        },
        "id": "4G9jQKxnub1G",
        "outputId": "644b776e-3035-491b-d9da-ec566b477cbd"
      },
      "outputs": [
        {
          "name": "stdout",
          "output_type": "stream",
          "text": [
            "There are no null values in the DataFrame.\n"
          ]
        }
      ],
      "source": [
        "# Check if there are any null values in the entire DataFrame\n",
        "if random_forest_df.isnull().values.any():\n",
        "    print(\"There are null values in the DataFrame.\")\n",
        "else:\n",
        "    print(\"There are no null values in the DataFrame.\")"
      ]
    },
    {
      "cell_type": "code",
      "execution_count": 39,
      "metadata": {},
      "outputs": [],
      "source": [
        "big_df_smaller.to_csv('Traffic_Violations_Updated_Makes.csv', index=False)"
      ]
    },
    {
      "cell_type": "code",
      "execution_count": 47,
      "metadata": {},
      "outputs": [
        {
          "data": {
            "text/plain": [
              "Index(['SeqID', 'Date Of Stop', 'Time Of Stop', 'Agency', 'SubAgency',\n",
              "       'Description', 'Location', 'Latitude', 'Longitude', 'Accident', 'Belts',\n",
              "       'Personal Injury', 'Property Damage', 'Fatal', 'Commercial License',\n",
              "       'HAZMAT', 'Commercial Vehicle', 'Alcohol', 'Work Zone',\n",
              "       'Search Conducted', 'Search Disposition', 'Search Outcome',\n",
              "       'Search Reason', 'Search Reason For Stop', 'Search Type',\n",
              "       'Search Arrest Reason', 'State', 'VehicleType', 'Year', 'Make', 'Model',\n",
              "       'Color', 'Violation Type', 'Charge', 'Article',\n",
              "       'Contributed To Accident', 'Race', 'Gender', 'Driver City',\n",
              "       'Driver State', 'DL State', 'Arrest Type', 'Geolocation',\n",
              "       'Driver State Category', 'License Plate State Category', 'Year Date',\n",
              "       'Month', 'Day', 'Hour of Stop'],\n",
              "      dtype='object')"
            ]
          },
          "execution_count": 47,
          "metadata": {},
          "output_type": "execute_result"
        }
      ],
      "source": [
        "big_df_smaller.columns"
      ]
    },
    {
      "cell_type": "code",
      "execution_count": 40,
      "metadata": {
        "id": "CqDXKx6Mub1H"
      },
      "outputs": [],
      "source": [
        "# # Convert categorical data to numeric with `pd.get_dummies`\n",
        "# # Specify the columns you want to one-hot encode\n",
        "# columns_to_encode = ['Accident', 'Search Reason', 'Race','Gender', 'Driver State','Property Damage','Color']\n",
        "\n",
        "# # Use get_dummies to convert the specified columns into dummy variables\n",
        "# random_dummies = pd.get_dummies(random_forest_df[columns_to_encode], prefix=columns_to_encode, drop_first=True)\n",
        "\n",
        "# # Concatenate the dummy variables with the original DataFrame\n",
        "# random_forest_df = pd.concat([random_forest_df, random_dummies], axis=1)\n",
        "\n",
        "# # Drop the original categorical columns if needed\n",
        "# random_forest_df = random_forest_df.drop(columns_to_encode, axis=1)\n",
        "\n",
        "# # Print the resulting DataFrame\n",
        "# print(random_forest_df)"
      ]
    },
    {
      "cell_type": "code",
      "execution_count": 41,
      "metadata": {
        "id": "ruMVN6aoub1H"
      },
      "outputs": [],
      "source": [
        "# #Beginning Random Forest Modeling\n",
        "# X=random_forest_df.copy()\n",
        "# X.drop(\"Violation Type\",axis=1, inplace=True)\n",
        "# y=random_forest_df['Violation Type'].ravel()"
      ]
    },
    {
      "cell_type": "code",
      "execution_count": 42,
      "metadata": {
        "id": "ILmCrxCKub1H"
      },
      "outputs": [],
      "source": [
        "# X.dtypes"
      ]
    },
    {
      "cell_type": "code",
      "execution_count": 43,
      "metadata": {
        "id": "9u67nv9Xub1I"
      },
      "outputs": [],
      "source": [
        "# Splitting into Train and Test sets\n",
        "# X_train, X_test, y_train, y_test = train_test_split(X, y, random_state=7)"
      ]
    },
    {
      "cell_type": "code",
      "execution_count": 44,
      "metadata": {
        "id": "IZ1g-hWoub1I"
      },
      "outputs": [],
      "source": [
        "# #Fitting the Random Forest Model\n",
        "# # Create a random forest classifier\n",
        "# rf_model = RandomForestClassifier(n_estimators=500, random_state=7)\n",
        "# # Fitting the model\n",
        "# rf_model = rf_model.fit(X_train, y_train)"
      ]
    },
    {
      "cell_type": "code",
      "execution_count": 45,
      "metadata": {
        "id": "cwQ7Is07ub1J"
      },
      "outputs": [],
      "source": [
        "# #Making Predictions\n",
        "# predictions = rf_model.predict(X_test)\n",
        "# # Calculating the confusion matrix\n",
        "# cm = confusion_matrix(y_test, predictions)\n",
        "# cm_df = pd.DataFrame(\n",
        "#     cm, index=[\"Actual citation\", \"Actual warning\"], columns=[\"Predicted citation\", \"Predicted warning\"]\n",
        "# )\n",
        "\n",
        "# # Calculating the accuracy score\n",
        "# acc_score = accuracy_score(y_test, predictions)"
      ]
    },
    {
      "cell_type": "code",
      "execution_count": 46,
      "metadata": {
        "colab": {
          "base_uri": "https://localhost:8080/",
          "height": 262
        },
        "id": "7a_7v5Jfub1J",
        "outputId": "57274a56-d5fb-4ba6-c70b-d9ba66ad7d6d"
      },
      "outputs": [
        {
          "name": "stdout",
          "output_type": "stream",
          "text": [
            "Confusion Matrix\n"
          ]
        },
        {
          "ename": "NameError",
          "evalue": "name 'cm_df' is not defined",
          "output_type": "error",
          "traceback": [
            "\u001b[1;31m---------------------------------------------------------------------------\u001b[0m",
            "\u001b[1;31mNameError\u001b[0m                                 Traceback (most recent call last)",
            "\u001b[1;32mc:\\Users\\Sami\\Classwork\\Projects\\Project_4\\Copy_of_sm_state_make_cleaning.ipynb Cell 47\u001b[0m line \u001b[0;36m3\n\u001b[0;32m      <a href='vscode-notebook-cell:/c%3A/Users/Sami/Classwork/Projects/Project_4/Copy_of_sm_state_make_cleaning.ipynb#X64sZmlsZQ%3D%3D?line=0'>1</a>\u001b[0m \u001b[39m# Displaying results\u001b[39;00m\n\u001b[0;32m      <a href='vscode-notebook-cell:/c%3A/Users/Sami/Classwork/Projects/Project_4/Copy_of_sm_state_make_cleaning.ipynb#X64sZmlsZQ%3D%3D?line=1'>2</a>\u001b[0m \u001b[39mprint\u001b[39m(\u001b[39m\"\u001b[39m\u001b[39mConfusion Matrix\u001b[39m\u001b[39m\"\u001b[39m)\n\u001b[1;32m----> <a href='vscode-notebook-cell:/c%3A/Users/Sami/Classwork/Projects/Project_4/Copy_of_sm_state_make_cleaning.ipynb#X64sZmlsZQ%3D%3D?line=2'>3</a>\u001b[0m display(cm_df)\n\u001b[0;32m      <a href='vscode-notebook-cell:/c%3A/Users/Sami/Classwork/Projects/Project_4/Copy_of_sm_state_make_cleaning.ipynb#X64sZmlsZQ%3D%3D?line=3'>4</a>\u001b[0m \u001b[39mprint\u001b[39m(\u001b[39mf\u001b[39m\u001b[39m\"\u001b[39m\u001b[39mAccuracy Score : \u001b[39m\u001b[39m{\u001b[39;00macc_score\u001b[39m}\u001b[39;00m\u001b[39m\"\u001b[39m)\n\u001b[0;32m      <a href='vscode-notebook-cell:/c%3A/Users/Sami/Classwork/Projects/Project_4/Copy_of_sm_state_make_cleaning.ipynb#X64sZmlsZQ%3D%3D?line=4'>5</a>\u001b[0m \u001b[39mprint\u001b[39m(\u001b[39m\"\u001b[39m\u001b[39mClassification Report\u001b[39m\u001b[39m\"\u001b[39m)\n",
            "\u001b[1;31mNameError\u001b[0m: name 'cm_df' is not defined"
          ]
        }
      ],
      "source": [
        "# Displaying results\n",
        "print(\"Confusion Matrix\")\n",
        "display(cm_df)\n",
        "print(f\"Accuracy Score : {acc_score}\")\n",
        "print(\"Classification Report\")\n",
        "print(classification_report(y_test, predictions))"
      ]
    },
    {
      "cell_type": "code",
      "execution_count": null,
      "metadata": {
        "id": "trLKS_G7ub1J"
      },
      "outputs": [],
      "source": [
        "# # Random Forests in sklearn will automatically calculate feature importance\n",
        "# importances = rf_model.feature_importances_\n",
        "# # We can sort the features by their importance\n",
        "# sorted(zip(rf_model.feature_importances_, X.columns), reverse=True)"
      ]
    },
    {
      "cell_type": "code",
      "execution_count": null,
      "metadata": {
        "id": "lRWbxl_Uub1J"
      },
      "outputs": [],
      "source": [
        "# # Visualize the features by importance\n",
        "# importances_df = pd.DataFrame(sorted(zip(rf_model.feature_importances_, X.columns), reverse=True))\n",
        "# importances_df.set_index(importances_df[1], inplace=True)\n",
        "# importances_df.drop(columns=1, inplace=True)\n",
        "# importances_df.rename(columns={0: 'Feature Importances'}, inplace=True)\n",
        "# importances_sorted = importances_df.sort_values(by='Feature Importances').head(20)\n",
        "# importances_sorted.plot(kind='barh', color='lightgreen', title= 'Features Importances', legend=False)"
      ]
    }
  ],
  "metadata": {
    "colab": {
      "provenance": []
    },
    "kernelspec": {
      "display_name": "dev",
      "language": "python",
      "name": "python3"
    },
    "language_info": {
      "codemirror_mode": {
        "name": "ipython",
        "version": 3
      },
      "file_extension": ".py",
      "mimetype": "text/x-python",
      "name": "python",
      "nbconvert_exporter": "python",
      "pygments_lexer": "ipython3",
      "version": "3.10.11"
    }
  },
  "nbformat": 4,
  "nbformat_minor": 0
}
