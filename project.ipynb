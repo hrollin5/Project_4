{
 "cells": [
  {
   "cell_type": "code",
   "execution_count": 1,
   "metadata": {},
   "outputs": [],
   "source": [
    "import pandas as pd\n",
    "from pathlib import Path\n",
    "import re"
   ]
  },
  {
   "cell_type": "code",
   "execution_count": 2,
   "metadata": {},
   "outputs": [],
   "source": [
    "big_path = \"Traffic_Violations.csv\"\n",
    "big_df = pd.read_csv(big_path, low_memory=False)\n",
    "path= \"sample_data.csv\"\n",
    "df = pd.read_csv(path, low_memory=False)"
   ]
  },
  {
   "cell_type": "code",
   "execution_count": 3,
   "metadata": {},
   "outputs": [
    {
     "data": {
      "text/html": [
       "<div>\n",
       "<style scoped>\n",
       "    .dataframe tbody tr th:only-of-type {\n",
       "        vertical-align: middle;\n",
       "    }\n",
       "\n",
       "    .dataframe tbody tr th {\n",
       "        vertical-align: top;\n",
       "    }\n",
       "\n",
       "    .dataframe thead th {\n",
       "        text-align: right;\n",
       "    }\n",
       "</style>\n",
       "<table border=\"1\" class=\"dataframe\">\n",
       "  <thead>\n",
       "    <tr style=\"text-align: right;\">\n",
       "      <th></th>\n",
       "      <th>SeqID</th>\n",
       "      <th>Date Of Stop</th>\n",
       "      <th>Time Of Stop</th>\n",
       "      <th>Agency</th>\n",
       "      <th>SubAgency</th>\n",
       "      <th>Description</th>\n",
       "      <th>Location</th>\n",
       "      <th>Latitude</th>\n",
       "      <th>Longitude</th>\n",
       "      <th>Accident</th>\n",
       "      <th>...</th>\n",
       "      <th>Charge</th>\n",
       "      <th>Article</th>\n",
       "      <th>Contributed To Accident</th>\n",
       "      <th>Race</th>\n",
       "      <th>Gender</th>\n",
       "      <th>Driver City</th>\n",
       "      <th>Driver State</th>\n",
       "      <th>DL State</th>\n",
       "      <th>Arrest Type</th>\n",
       "      <th>Geolocation</th>\n",
       "    </tr>\n",
       "  </thead>\n",
       "  <tbody>\n",
       "    <tr>\n",
       "      <th>0</th>\n",
       "      <td>971ef50f-f138-419f-89e5-5d2cc5d7b75a</td>\n",
       "      <td>04/30/2023</td>\n",
       "      <td>23:55:00</td>\n",
       "      <td>MCP</td>\n",
       "      <td>4th District, Wheaton</td>\n",
       "      <td>DRIVING VEHICLE ON HIGHWAY WITH SUSPENDED REGI...</td>\n",
       "      <td>KEMP MILL ROAD @ ALPERT LANE</td>\n",
       "      <td>39.053038</td>\n",
       "      <td>-77.024637</td>\n",
       "      <td>No</td>\n",
       "      <td>...</td>\n",
       "      <td>13-401(h)</td>\n",
       "      <td>Transportation Article</td>\n",
       "      <td>False</td>\n",
       "      <td>WHITE</td>\n",
       "      <td>F</td>\n",
       "      <td>SILVER SPRING</td>\n",
       "      <td>MD</td>\n",
       "      <td>MD</td>\n",
       "      <td>A - Marked Patrol</td>\n",
       "      <td>(39.0530383333333, -77.0246366666667)</td>\n",
       "    </tr>\n",
       "    <tr>\n",
       "      <th>1</th>\n",
       "      <td>1b3ad74c-9e3b-47af-acba-cc3fcb656e6f</td>\n",
       "      <td>04/30/2023</td>\n",
       "      <td>04:24:00</td>\n",
       "      <td>MCP</td>\n",
       "      <td>2nd District, Bethesda</td>\n",
       "      <td>NEGLIGENT DRIVING VEHICLE IN CARELESS AND IMPR...</td>\n",
       "      <td>JONES MILL ROAD/ LE VELLE DRIVE</td>\n",
       "      <td>38.991480</td>\n",
       "      <td>-77.097113</td>\n",
       "      <td>No</td>\n",
       "      <td>...</td>\n",
       "      <td>21-901.1(b)</td>\n",
       "      <td>Transportation Article</td>\n",
       "      <td>False</td>\n",
       "      <td>BLACK</td>\n",
       "      <td>F</td>\n",
       "      <td>SILVER SPRING</td>\n",
       "      <td>MD</td>\n",
       "      <td>MD</td>\n",
       "      <td>A - Marked Patrol</td>\n",
       "      <td>(38.99148, -77.0971133333333)</td>\n",
       "    </tr>\n",
       "    <tr>\n",
       "      <th>2</th>\n",
       "      <td>1b3ad74c-9e3b-47af-acba-cc3fcb656e6f</td>\n",
       "      <td>04/30/2023</td>\n",
       "      <td>04:24:00</td>\n",
       "      <td>MCP</td>\n",
       "      <td>2nd District, Bethesda</td>\n",
       "      <td>RECKLESS DRIVING VEHICLE IN WANTON AND WILLFUL...</td>\n",
       "      <td>JONES MILL ROAD/ LE VELLE DRIVE</td>\n",
       "      <td>38.991480</td>\n",
       "      <td>-77.097113</td>\n",
       "      <td>No</td>\n",
       "      <td>...</td>\n",
       "      <td>21-901.1(a)</td>\n",
       "      <td>Transportation Article</td>\n",
       "      <td>False</td>\n",
       "      <td>BLACK</td>\n",
       "      <td>F</td>\n",
       "      <td>SILVER SPRING</td>\n",
       "      <td>MD</td>\n",
       "      <td>MD</td>\n",
       "      <td>A - Marked Patrol</td>\n",
       "      <td>(38.99148, -77.0971133333333)</td>\n",
       "    </tr>\n",
       "    <tr>\n",
       "      <th>3</th>\n",
       "      <td>1b3ad74c-9e3b-47af-acba-cc3fcb656e6f</td>\n",
       "      <td>04/30/2023</td>\n",
       "      <td>04:24:00</td>\n",
       "      <td>MCP</td>\n",
       "      <td>2nd District, Bethesda</td>\n",
       "      <td>FAILURE TO DRIVE VEHICLE ON RIGHT HALF OF ROAD...</td>\n",
       "      <td>JONES MILL ROAD/ LE VELLE DRIVE</td>\n",
       "      <td>38.991480</td>\n",
       "      <td>-77.097113</td>\n",
       "      <td>No</td>\n",
       "      <td>...</td>\n",
       "      <td>21-301(a)</td>\n",
       "      <td>Transportation Article</td>\n",
       "      <td>False</td>\n",
       "      <td>BLACK</td>\n",
       "      <td>F</td>\n",
       "      <td>SILVER SPRING</td>\n",
       "      <td>MD</td>\n",
       "      <td>MD</td>\n",
       "      <td>A - Marked Patrol</td>\n",
       "      <td>(38.99148, -77.0971133333333)</td>\n",
       "    </tr>\n",
       "    <tr>\n",
       "      <th>4</th>\n",
       "      <td>1b3ad74c-9e3b-47af-acba-cc3fcb656e6f</td>\n",
       "      <td>04/30/2023</td>\n",
       "      <td>04:24:00</td>\n",
       "      <td>MCP</td>\n",
       "      <td>2nd District, Bethesda</td>\n",
       "      <td>DRIVING VEHICLE WHILE UNDER THE INFLUENCE OF A...</td>\n",
       "      <td>JONES MILL ROAD/ LE VELLE DRIVE</td>\n",
       "      <td>38.991480</td>\n",
       "      <td>-77.097113</td>\n",
       "      <td>No</td>\n",
       "      <td>...</td>\n",
       "      <td>21-902(a1i)</td>\n",
       "      <td>Transportation Article</td>\n",
       "      <td>False</td>\n",
       "      <td>BLACK</td>\n",
       "      <td>F</td>\n",
       "      <td>SILVER SPRING</td>\n",
       "      <td>MD</td>\n",
       "      <td>MD</td>\n",
       "      <td>A - Marked Patrol</td>\n",
       "      <td>(38.99148, -77.0971133333333)</td>\n",
       "    </tr>\n",
       "  </tbody>\n",
       "</table>\n",
       "<p>5 rows × 43 columns</p>\n",
       "</div>"
      ],
      "text/plain": [
       "                                  SeqID Date Of Stop Time Of Stop Agency  \\\n",
       "0  971ef50f-f138-419f-89e5-5d2cc5d7b75a   04/30/2023     23:55:00    MCP   \n",
       "1  1b3ad74c-9e3b-47af-acba-cc3fcb656e6f   04/30/2023     04:24:00    MCP   \n",
       "2  1b3ad74c-9e3b-47af-acba-cc3fcb656e6f   04/30/2023     04:24:00    MCP   \n",
       "3  1b3ad74c-9e3b-47af-acba-cc3fcb656e6f   04/30/2023     04:24:00    MCP   \n",
       "4  1b3ad74c-9e3b-47af-acba-cc3fcb656e6f   04/30/2023     04:24:00    MCP   \n",
       "\n",
       "                SubAgency                                        Description  \\\n",
       "0   4th District, Wheaton  DRIVING VEHICLE ON HIGHWAY WITH SUSPENDED REGI...   \n",
       "1  2nd District, Bethesda  NEGLIGENT DRIVING VEHICLE IN CARELESS AND IMPR...   \n",
       "2  2nd District, Bethesda  RECKLESS DRIVING VEHICLE IN WANTON AND WILLFUL...   \n",
       "3  2nd District, Bethesda  FAILURE TO DRIVE VEHICLE ON RIGHT HALF OF ROAD...   \n",
       "4  2nd District, Bethesda  DRIVING VEHICLE WHILE UNDER THE INFLUENCE OF A...   \n",
       "\n",
       "                          Location   Latitude  Longitude Accident  ...  \\\n",
       "0     KEMP MILL ROAD @ ALPERT LANE  39.053038 -77.024637       No  ...   \n",
       "1  JONES MILL ROAD/ LE VELLE DRIVE  38.991480 -77.097113       No  ...   \n",
       "2  JONES MILL ROAD/ LE VELLE DRIVE  38.991480 -77.097113       No  ...   \n",
       "3  JONES MILL ROAD/ LE VELLE DRIVE  38.991480 -77.097113       No  ...   \n",
       "4  JONES MILL ROAD/ LE VELLE DRIVE  38.991480 -77.097113       No  ...   \n",
       "\n",
       "        Charge                 Article Contributed To Accident   Race Gender  \\\n",
       "0    13-401(h)  Transportation Article                   False  WHITE      F   \n",
       "1  21-901.1(b)  Transportation Article                   False  BLACK      F   \n",
       "2  21-901.1(a)  Transportation Article                   False  BLACK      F   \n",
       "3    21-301(a)  Transportation Article                   False  BLACK      F   \n",
       "4  21-902(a1i)  Transportation Article                   False  BLACK      F   \n",
       "\n",
       "     Driver City Driver State DL State        Arrest Type  \\\n",
       "0  SILVER SPRING           MD       MD  A - Marked Patrol   \n",
       "1  SILVER SPRING           MD       MD  A - Marked Patrol   \n",
       "2  SILVER SPRING           MD       MD  A - Marked Patrol   \n",
       "3  SILVER SPRING           MD       MD  A - Marked Patrol   \n",
       "4  SILVER SPRING           MD       MD  A - Marked Patrol   \n",
       "\n",
       "                             Geolocation  \n",
       "0  (39.0530383333333, -77.0246366666667)  \n",
       "1          (38.99148, -77.0971133333333)  \n",
       "2          (38.99148, -77.0971133333333)  \n",
       "3          (38.99148, -77.0971133333333)  \n",
       "4          (38.99148, -77.0971133333333)  \n",
       "\n",
       "[5 rows x 43 columns]"
      ]
     },
     "execution_count": 3,
     "metadata": {},
     "output_type": "execute_result"
    }
   ],
   "source": [
    "df.head()"
   ]
  },
  {
   "cell_type": "code",
   "execution_count": 4,
   "metadata": {},
   "outputs": [
    {
     "data": {
      "text/plain": [
       "Index(['SeqID', 'Date Of Stop', 'Time Of Stop', 'Agency', 'SubAgency',\n",
       "       'Description', 'Location', 'Latitude', 'Longitude', 'Accident', 'Belts',\n",
       "       'Personal Injury', 'Property Damage', 'Fatal', 'Commercial License',\n",
       "       'HAZMAT', 'Commercial Vehicle', 'Alcohol', 'Work Zone',\n",
       "       'Search Conducted', 'Search Disposition', 'Search Outcome',\n",
       "       'Search Reason', 'Search Reason For Stop', 'Search Type',\n",
       "       'Search Arrest Reason', 'State', 'VehicleType', 'Year', 'Make', 'Model',\n",
       "       'Color', 'Violation Type', 'Charge', 'Article',\n",
       "       'Contributed To Accident', 'Race', 'Gender', 'Driver City',\n",
       "       'Driver State', 'DL State', 'Arrest Type', 'Geolocation'],\n",
       "      dtype='object')"
      ]
     },
     "execution_count": 4,
     "metadata": {},
     "output_type": "execute_result"
    }
   ],
   "source": [
    "df.columns"
   ]
  },
  {
   "cell_type": "code",
   "execution_count": 26,
   "metadata": {},
   "outputs": [],
   "source": [
    "# Drop the columns that we have deemed unhelpful\n",
    "big_df_smaller = big_df.drop([\"Agency\", \"Geolocation\", \"VehicleType\", \"HAZMAT\", \n",
    "                                \"Commercial Vehicle\", \"Commercial License\", \"Article\", \"Charge\", \n",
    "                                \"SeqID\", \"SubAgency\", \"Model\", \"Contributed To Accident\", \"Driver State\", \n",
    "                                \"Driver City\", \"Arrest Type\", \"Search Reason For Stop\"], axis = 1)"
   ]
  },
  {
   "cell_type": "code",
   "execution_count": 27,
   "metadata": {},
   "outputs": [],
   "source": [
    "# Drop rows that do not result in a citation or warning\n",
    "big_df_smaller.drop(big_df_smaller[big_df_smaller['Violation Type'] == 'ESERO'].index, inplace=True)\n",
    "big_df_smaller.drop(big_df_smaller[big_df_smaller['Violation Type'] == 'SERO'].index, inplace=True)"
   ]
  },
  {
   "cell_type": "code",
   "execution_count": 28,
   "metadata": {},
   "outputs": [
    {
     "data": {
      "text/plain": [
       "(1790375, 27)"
      ]
     },
     "execution_count": 28,
     "metadata": {},
     "output_type": "execute_result"
    }
   ],
   "source": [
    "# Clean the Year column\n",
    "# Drop rows with null year\n",
    "big_df_smaller = big_df_smaller.dropna(subset=[\"Year\"])\n",
    "# Change year to integer\n",
    "big_df_smaller[\"Year\"]= big_df_smaller[\"Year\"].astype(int)\n",
    "# Get years in a list\n",
    "years = big_df_smaller[\"Year\"].unique()\n",
    "# Make a list of garbage years\n",
    "years_to_remove = [0, 6338, 1005, 1196, 2912, 1009, 2088, 1007, 2102, 2109, 2105, 2997]\n",
    "# Clean the list of years\n",
    "good_years = [value for value in years if value not in years_to_remove]\n",
    "# Keep only rows with good years\n",
    "big_df_smaller = big_df_smaller[big_df_smaller[\"Year\"].isin(good_years)]\n",
    "big_df_smaller.shape"
   ]
  },
  {
   "cell_type": "code",
   "execution_count": 29,
   "metadata": {},
   "outputs": [],
   "source": [
    "# Keep only data that has latitude and longitude\n",
    "big_df_smaller = big_df_smaller[(big_df_smaller['Latitude'] != 0) & (big_df_smaller['Longitude'] != 0)]\n"
   ]
  },
  {
   "cell_type": "code",
   "execution_count": 30,
   "metadata": {},
   "outputs": [
    {
     "data": {
      "text/plain": [
       "0"
      ]
     },
     "execution_count": 30,
     "metadata": {},
     "output_type": "execute_result"
    }
   ],
   "source": [
    "null_count = big_df_smaller['Accident'].isnull().sum()\n",
    "null_count"
   ]
  },
  {
   "cell_type": "code",
   "execution_count": 31,
   "metadata": {},
   "outputs": [
    {
     "name": "stdout",
     "output_type": "stream",
     "text": [
      "There are null values in the DataFrame.\n"
     ]
    }
   ],
   "source": [
    "if big_df_smaller.isnull().values.any():\n",
    "    print(\"There are null values in the DataFrame.\")\n",
    "else:\n",
    "    print(\"There are no null values in the DataFrame.\")"
   ]
  },
  {
   "cell_type": "code",
   "execution_count": 32,
   "metadata": {},
   "outputs": [
    {
     "data": {
      "text/plain": [
       "NaN                       1594492\n",
       "Incident to Arrest          38901\n",
       "Probable Cause              19049\n",
       "Consensual                  10615\n",
       "K-9                          1463\n",
       "Other                         873\n",
       "Exigent Circumstances         440\n",
       "Probable Cause for CDS          4\n",
       "Arrest/Tow                      3\n",
       "plain view marijuana            3\n",
       "DUI                             1\n",
       "Name: Search Reason, dtype: int64"
      ]
     },
     "execution_count": 32,
     "metadata": {},
     "output_type": "execute_result"
    }
   ],
   "source": [
    "big_df_smaller[\"Search Reason\"].value_counts(dropna = False)"
   ]
  },
  {
   "cell_type": "code",
   "execution_count": 8,
   "metadata": {},
   "outputs": [
    {
     "name": "stdout",
     "output_type": "stream",
     "text": [
      "Value counts for 'Search Reason' column for big_df:\n",
      "Incident to Arrest    8\n",
      "Consensual            2\n",
      "Name: Search Reason, dtype: int64\n",
      "\n",
      "Value counts for 'Search Reason' column for df:\n",
      "Incident to Arrest    8\n",
      "Consensual            2\n",
      "Name: Search Reason, dtype: int64\n"
     ]
    }
   ],
   "source": [
    "print(\"Value counts for 'Search Reason' column for big_df:\")\n",
    "print(df['Search Reason'].value_counts())\n",
    "\n",
    "print(\"\\nValue counts for 'Search Reason' column for df:\")\n",
    "print(df['Search Reason'].value_counts())"
   ]
  },
  {
   "cell_type": "code",
   "execution_count": 78,
   "metadata": {},
   "outputs": [],
   "source": [
    "big_df_smaller['Date Of Stop'] = pd.to_datetime(big_df_smaller['Date Of Stop'])\n",
    "big_df_smaller['Year Date'] = big_df_smaller['Date Of Stop'].dt.year\n",
    "big_df_smaller['Month'] = big_df_smaller['Date Of Stop'].dt.month\n",
    "big_df_smaller['Day'] = big_df_smaller['Date Of Stop'].dt.day"
   ]
  },
  {
   "cell_type": "code",
   "execution_count": 34,
   "metadata": {},
   "outputs": [],
   "source": [
    "# Drop rows with null Description\n",
    "big_df_smaller = big_df_smaller.dropna(subset=[\"Description\"])"
   ]
  },
  {
   "cell_type": "code",
   "execution_count": 35,
   "metadata": {},
   "outputs": [],
   "source": [
    "# Use Regex to replace any description including speeding with just \"Speeding\"\n",
    "pattern = re.compile(r'.*EXCEEDING.*SPEED LIMIT.*', flags=re.IGNORECASE)\n",
    "\n",
    "big_df_smaller['Description'] = big_df_smaller['Description'].apply(lambda x: re.sub(pattern, 'Speeding', x))"
   ]
  },
  {
   "cell_type": "code",
   "execution_count": 36,
   "metadata": {},
   "outputs": [
    {
     "data": {
      "text/plain": [
       "14529"
      ]
     },
     "execution_count": 36,
     "metadata": {},
     "output_type": "execute_result"
    }
   ],
   "source": [
    "big_df_smaller[\"Description\"].nunique()"
   ]
  },
  {
   "cell_type": "code",
   "execution_count": 37,
   "metadata": {},
   "outputs": [],
   "source": [
    "# Use Regex to replace any description including speeding with just \"Speeding\"\n",
    "pattern = re.compile(r'.*FAILURE.*YIELD.*', flags=re.IGNORECASE)\n",
    "\n",
    "big_df_smaller['Description'] = big_df_smaller['Description'].apply(lambda x: re.sub(pattern, 'Failure to Yield', x))"
   ]
  },
  {
   "cell_type": "code",
   "execution_count": 38,
   "metadata": {},
   "outputs": [],
   "source": [
    "# Use Regex to replace any description including speeding with just \"Speeding\"\n",
    "pattern = re.compile(r'.*FAIL.*YIELD.*', flags=re.IGNORECASE)\n",
    "\n",
    "big_df_smaller['Description'] = big_df_smaller['Description'].apply(lambda x: re.sub(pattern, 'Failure to Yield', x))"
   ]
  },
  {
   "cell_type": "code",
   "execution_count": 39,
   "metadata": {},
   "outputs": [],
   "source": [
    "# Use Regex to replace any description including speeding with just \"Speeding\"\n",
    "pattern = re.compile(r'.*LEARNER.*PERMIT.*', flags=re.IGNORECASE)\n",
    "\n",
    "big_df_smaller['Description'] = big_df_smaller['Description'].apply(lambda x: re.sub(pattern, 'Learners Permit', x))"
   ]
  },
  {
   "cell_type": "code",
   "execution_count": 40,
   "metadata": {},
   "outputs": [],
   "source": [
    "# Use Regex to replace any description including speeding with just \"Speeding\"\n",
    "pattern = re.compile(r'.*SPEED.*', flags=re.IGNORECASE)\n",
    "\n",
    "big_df_smaller['Description'] = big_df_smaller['Description'].apply(lambda x: re.sub(pattern, 'Speeding', x))"
   ]
  },
  {
   "cell_type": "code",
   "execution_count": 41,
   "metadata": {},
   "outputs": [],
   "source": [
    "# Use Regex to replace any description including speeding with just \"Speeding\"\n",
    "pattern = re.compile(r'.*SPEEDING.*', flags=re.IGNORECASE)\n",
    "\n",
    "big_df_smaller['Description'] = big_df_smaller['Description'].apply(lambda x: re.sub(pattern, 'Speeding', x))"
   ]
  },
  {
   "cell_type": "code",
   "execution_count": 42,
   "metadata": {},
   "outputs": [],
   "source": [
    "# Use Regex to replace any description including speeding with just \"Speeding\"\n",
    "pattern = re.compile(r'.*LAMP.*', flags=re.IGNORECASE)\n",
    "\n",
    "big_df_smaller['Description'] = big_df_smaller['Description'].apply(lambda x: re.sub(pattern, 'Improper Equipment', x))"
   ]
  },
  {
   "cell_type": "code",
   "execution_count": 43,
   "metadata": {},
   "outputs": [],
   "source": [
    "# Use Regex to replace any description including speeding with just \"Speeding\"\n",
    "pattern = re.compile(r'.*HEADLIGHT.*', flags=re.IGNORECASE)\n",
    "\n",
    "big_df_smaller['Description'] = big_df_smaller['Description'].apply(lambda x: re.sub(pattern, 'Improper Equipment', x))"
   ]
  },
  {
   "cell_type": "code",
   "execution_count": 44,
   "metadata": {},
   "outputs": [],
   "source": [
    "# Use Regex to replace any description including speeding with just \"Speeding\"\n",
    "pattern = re.compile(r'.*REQUIRED.*MINIMUM.*EQUIPMENT.*', flags=re.IGNORECASE)\n",
    "\n",
    "big_df_smaller['Description'] = big_df_smaller['Description'].apply(lambda x: re.sub(pattern, 'Improper Equipment', x))"
   ]
  },
  {
   "cell_type": "code",
   "execution_count": 45,
   "metadata": {},
   "outputs": [],
   "source": [
    "# Use Regex to replace any description including speeding with just \"Speeding\"\n",
    "pattern = re.compile(r'.*INOPERATIVE.*', flags=re.IGNORECASE)\n",
    "\n",
    "big_df_smaller['Description'] = big_df_smaller['Description'].apply(lambda x: re.sub(pattern, 'Improper Equipment', x))"
   ]
  },
  {
   "cell_type": "code",
   "execution_count": 46,
   "metadata": {},
   "outputs": [],
   "source": [
    "# Use Regex to replace any description including speeding with just \"Speeding\"\n",
    "pattern = re.compile(r'.*MISSING.*', flags=re.IGNORECASE)\n",
    "\n",
    "big_df_smaller['Description'] = big_df_smaller['Description'].apply(lambda x: re.sub(pattern, 'Improper Equipment', x))"
   ]
  },
  {
   "cell_type": "code",
   "execution_count": 47,
   "metadata": {},
   "outputs": [],
   "source": [
    "# Use Regex to replace any description including speeding with just \"Speeding\"\n",
    "pattern = re.compile(r'.*THROWING.*', flags=re.IGNORECASE)\n",
    "\n",
    "big_df_smaller['Description'] = big_df_smaller['Description'].apply(lambda x: re.sub(pattern, 'Littering', x))"
   ]
  },
  {
   "cell_type": "code",
   "execution_count": 48,
   "metadata": {},
   "outputs": [],
   "source": [
    "# Use Regex to replace any description including speeding with just \"Speeding\"\n",
    "pattern = re.compile(r'.*DUMPING.*', flags=re.IGNORECASE)\n",
    "\n",
    "big_df_smaller['Description'] = big_df_smaller['Description'].apply(lambda x: re.sub(pattern, 'Littering', x))"
   ]
  },
  {
   "cell_type": "code",
   "execution_count": 49,
   "metadata": {},
   "outputs": [],
   "source": [
    "# Use Regex to replace any description including speeding with just \"Speeding\"\n",
    "pattern = re.compile(r'.*PARK.*', flags=re.IGNORECASE)\n",
    "\n",
    "big_df_smaller['Description'] = big_df_smaller['Description'].apply(lambda x: re.sub(pattern, 'Non-Moving Violation', x))"
   ]
  },
  {
   "cell_type": "code",
   "execution_count": 50,
   "metadata": {},
   "outputs": [],
   "source": [
    "# Use Regex to replace any description including speeding with just \"Speeding\"\n",
    "pattern = re.compile(r'.*ABANDONING.*VEH.*', flags=re.IGNORECASE)\n",
    "\n",
    "big_df_smaller['Description'] = big_df_smaller['Description'].apply(lambda x: re.sub(pattern, 'Non-Moving Violation', x))"
   ]
  },
  {
   "cell_type": "code",
   "execution_count": 51,
   "metadata": {},
   "outputs": [],
   "source": [
    "# Use Regex to replace any description including speeding with just \"Speeding\"\n",
    "pattern = re.compile(r'.*INFLUENCE.*ALCOHOL.*', flags=re.IGNORECASE)\n",
    "\n",
    "big_df_smaller['Description'] = big_df_smaller['Description'].apply(lambda x: re.sub(pattern, 'DUI', x))"
   ]
  },
  {
   "cell_type": "code",
   "execution_count": 52,
   "metadata": {},
   "outputs": [],
   "source": [
    "# Use Regex to replace any description including speeding with just \"Speeding\"\n",
    "pattern = re.compile(r'.*IMPAIRED.*ALCOHOL.*', flags=re.IGNORECASE)\n",
    "\n",
    "big_df_smaller['Description'] = big_df_smaller['Description'].apply(lambda x: re.sub(pattern, 'DUI', x))"
   ]
  },
  {
   "cell_type": "code",
   "execution_count": 53,
   "metadata": {},
   "outputs": [],
   "source": [
    "# Use Regex to replace any description including speeding with just \"Speeding\"\n",
    "pattern = re.compile(r'.*DRUGS.*', flags=re.IGNORECASE)\n",
    "\n",
    "big_df_smaller['Description'] = big_df_smaller['Description'].apply(lambda x: re.sub(pattern, 'DUI', x))"
   ]
  },
  {
   "cell_type": "code",
   "execution_count": 54,
   "metadata": {},
   "outputs": [],
   "source": [
    "# Use Regex to replace any description including speeding with just \"Speeding\"\n",
    "pattern = re.compile(r'.*IMPAIRED.*', flags=re.IGNORECASE)\n",
    "\n",
    "big_df_smaller['Description'] = big_df_smaller['Description'].apply(lambda x: re.sub(pattern, 'DUI', x))"
   ]
  },
  {
   "cell_type": "code",
   "execution_count": 55,
   "metadata": {},
   "outputs": [],
   "source": [
    "# Use Regex to replace any description including speeding with just \"Speeding\"\n",
    "pattern = re.compile(r'.*FAILED.*STOP.*SIGN.*', flags=re.IGNORECASE)\n",
    "\n",
    "big_df_smaller['Description'] = big_df_smaller['Description'].apply(lambda x: re.sub(pattern, 'Improper Stop', x))"
   ]
  },
  {
   "cell_type": "code",
   "execution_count": 56,
   "metadata": {},
   "outputs": [],
   "source": [
    "# Use Regex to replace any description including speeding with just \"Speeding\"\n",
    "pattern = re.compile(r'.*FAILURE.*STOP.*SIGN.*', flags=re.IGNORECASE)\n",
    "\n",
    "big_df_smaller['Description'] = big_df_smaller['Description'].apply(lambda x: re.sub(pattern, 'Improper Stop', x))"
   ]
  },
  {
   "cell_type": "code",
   "execution_count": 57,
   "metadata": {},
   "outputs": [],
   "source": [
    "# Use Regex to replace any description including speeding with just \"Speeding\"\n",
    "pattern = re.compile(r'.*FAIL.*STOP.*SIGN.*', flags=re.IGNORECASE)\n",
    "\n",
    "big_df_smaller['Description'] = big_df_smaller['Description'].apply(lambda x: re.sub(pattern, 'Improper Stop', x))"
   ]
  },
  {
   "cell_type": "code",
   "execution_count": 58,
   "metadata": {},
   "outputs": [],
   "source": [
    "# Use Regex to replace any description including speeding with just \"Speeding\"\n",
    "pattern = re.compile(r'.*FAILURE.*STOP.*SIGNAL.*', flags=re.IGNORECASE)\n",
    "\n",
    "big_df_smaller['Description'] = big_df_smaller['Description'].apply(lambda x: re.sub(pattern, 'Improper Stop', x))"
   ]
  },
  {
   "cell_type": "code",
   "execution_count": 59,
   "metadata": {},
   "outputs": [],
   "source": [
    "# Use Regex to replace any description including speeding with just \"Speeding\"\n",
    "pattern = re.compile(r'.*FAILED.*STOP.*SIGNAL.*', flags=re.IGNORECASE)\n",
    "\n",
    "big_df_smaller['Description'] = big_df_smaller['Description'].apply(lambda x: re.sub(pattern, 'Improper Stop', x))"
   ]
  },
  {
   "cell_type": "code",
   "execution_count": 60,
   "metadata": {},
   "outputs": [],
   "source": [
    "# Use Regex to replace any description including speeding with just \"Speeding\"\n",
    "pattern = re.compile(r'.*ELECTRONIC.*MSG.*', flags=re.IGNORECASE)\n",
    "\n",
    "big_df_smaller['Description'] = big_df_smaller['Description'].apply(lambda x: re.sub(pattern, 'Using Phone', x))"
   ]
  },
  {
   "cell_type": "code",
   "execution_count": 61,
   "metadata": {},
   "outputs": [],
   "source": [
    "# Use Regex to replace any description including speeding with just \"Speeding\"\n",
    "pattern = re.compile(r'.*PHONE.*', flags=re.IGNORECASE)\n",
    "\n",
    "big_df_smaller['Description'] = big_df_smaller['Description'].apply(lambda x: re.sub(pattern, 'Using Phone', x))"
   ]
  },
  {
   "cell_type": "code",
   "execution_count": 62,
   "metadata": {},
   "outputs": [],
   "source": [
    "# Use Regex to replace any description including speeding with just \"Speeding\"\n",
    "pattern = re.compile(r'.*TEXTMSG.*', flags=re.IGNORECASE)\n",
    "\n",
    "big_df_smaller['Description'] = big_df_smaller['Description'].apply(lambda x: re.sub(pattern, 'Using Phone', x))"
   ]
  },
  {
   "cell_type": "code",
   "execution_count": 63,
   "metadata": {},
   "outputs": [],
   "source": [
    "# Use Regex to replace any description including speeding with just \"Speeding\"\n",
    "pattern = re.compile(r'.*TEXT.*', flags=re.IGNORECASE)\n",
    "\n",
    "big_df_smaller['Description'] = big_df_smaller['Description'].apply(lambda x: re.sub(pattern, 'Using Phone', x))"
   ]
  },
  {
   "cell_type": "code",
   "execution_count": 64,
   "metadata": {},
   "outputs": [],
   "source": [
    "# Use Regex to replace any description including speeding with just \"Speeding\"\n",
    "pattern = re.compile(r'.*TINT.*', flags=re.IGNORECASE)\n",
    "\n",
    "big_df_smaller['Description'] = big_df_smaller['Description'].apply(lambda x: re.sub(pattern, 'Obstructed View', x))"
   ]
  },
  {
   "cell_type": "code",
   "execution_count": 65,
   "metadata": {},
   "outputs": [],
   "source": [
    "# Use Regex to replace any description including speeding with just \"Speeding\"\n",
    "pattern = re.compile(r'.*OBSTRUCTED.*', flags=re.IGNORECASE)\n",
    "\n",
    "big_df_smaller['Description'] = big_df_smaller['Description'].apply(lambda x: re.sub(pattern, 'Obstructed View', x))"
   ]
  },
  {
   "cell_type": "code",
   "execution_count": 66,
   "metadata": {},
   "outputs": [],
   "source": [
    "# Use Regex to replace any description including speeding with just \"Speeding\"\n",
    "pattern = re.compile(r'.*RECKLESS.*', flags=re.IGNORECASE)\n",
    "\n",
    "big_df_smaller['Description'] = big_df_smaller['Description'].apply(lambda x: re.sub(pattern, 'Reckless Driving', x))"
   ]
  },
  {
   "cell_type": "code",
   "execution_count": 67,
   "metadata": {},
   "outputs": [],
   "source": [
    "# Use Regex to replace any description including speeding with just \"Speeding\"\n",
    "pattern = re.compile(r'.*ACCIDENT.*', flags=re.IGNORECASE)\n",
    "\n",
    "big_df_smaller['Description'] = big_df_smaller['Description'].apply(lambda x: re.sub(pattern, 'Involved in Accident', x))"
   ]
  },
  {
   "cell_type": "code",
   "execution_count": 68,
   "metadata": {},
   "outputs": [],
   "source": [
    "# Use Regex to replace any description including speeding with just \"Speeding\"\n",
    "pattern = re.compile(r'.*UNATTENDED.*DAMAGED.*', flags=re.IGNORECASE)\n",
    "\n",
    "big_df_smaller['Description'] = big_df_smaller['Description'].apply(lambda x: re.sub(pattern, 'Involved in Accident', x))"
   ]
  },
  {
   "cell_type": "code",
   "execution_count": 69,
   "metadata": {},
   "outputs": [
    {
     "data": {
      "text/plain": [
       "Index(['SeqID', 'Date Of Stop', 'Time Of Stop', 'Agency', 'SubAgency',\n",
       "       'Description', 'Location', 'Latitude', 'Longitude', 'Accident', 'Belts',\n",
       "       'Personal Injury', 'Property Damage', 'Fatal', 'Commercial License',\n",
       "       'HAZMAT', 'Commercial Vehicle', 'Alcohol', 'Work Zone',\n",
       "       'Search Conducted', 'Search Disposition', 'Search Outcome',\n",
       "       'Search Reason', 'Search Reason For Stop', 'Search Type',\n",
       "       'Search Arrest Reason', 'State', 'VehicleType', 'Year', 'Make', 'Model',\n",
       "       'Color', 'Violation Type', 'Charge', 'Article',\n",
       "       'Contributed To Accident', 'Race', 'Gender', 'Driver City',\n",
       "       'Driver State', 'DL State', 'Arrest Type', 'Geolocation',\n",
       "       'Search Reason Code', 'Violation Type Code', 'Search Outcome Code',\n",
       "       'Search Disposition Type Code', 'Search Conducted Type Code'],\n",
       "      dtype='object')"
      ]
     },
     "execution_count": 69,
     "metadata": {},
     "output_type": "execute_result"
    }
   ],
   "source": [
    "df.columns"
   ]
  },
  {
   "cell_type": "code",
   "execution_count": 70,
   "metadata": {},
   "outputs": [
    {
     "name": "stdout",
     "output_type": "stream",
     "text": [
      "Null values in big_df:\n",
      "SeqID                            0\n",
      "Date Of Stop                     0\n",
      "Time Of Stop                     0\n",
      "Agency                           0\n",
      "SubAgency                        0\n",
      "Description                     10\n",
      "Location                         4\n",
      "Latitude                         0\n",
      "Longitude                        0\n",
      "Accident                         0\n",
      "Belts                            0\n",
      "Personal Injury                  0\n",
      "Property Damage                  0\n",
      "Fatal                            0\n",
      "Commercial License               0\n",
      "HAZMAT                           0\n",
      "Commercial Vehicle               0\n",
      "Alcohol                          0\n",
      "Work Zone                        0\n",
      "Search Conducted            716752\n",
      "Search Disposition         1803841\n",
      "Search Outcome              736010\n",
      "Search Reason              1803841\n",
      "Search Reason For Stop      717020\n",
      "Search Type                1803849\n",
      "Search Arrest Reason       1830456\n",
      "State                           59\n",
      "VehicleType                      0\n",
      "Year                         10394\n",
      "Make                            68\n",
      "Model                          213\n",
      "Color                        21697\n",
      "Violation Type                   0\n",
      "Charge                           0\n",
      "Article                      86233\n",
      "Contributed To Accident          0\n",
      "Race                             0\n",
      "Gender                           0\n",
      "Driver City                    481\n",
      "Driver State                    11\n",
      "DL State                       929\n",
      "Arrest Type                      0\n",
      "Geolocation                      0\n",
      "dtype: int64\n",
      "\n",
      "Null values in df:\n",
      "SeqID                             0\n",
      "Date Of Stop                      0\n",
      "Time Of Stop                      0\n",
      "Agency                            0\n",
      "SubAgency                         0\n",
      "Description                       0\n",
      "Location                          0\n",
      "Latitude                          0\n",
      "Longitude                         0\n",
      "Accident                          0\n",
      "Belts                             0\n",
      "Personal Injury                   0\n",
      "Property Damage                   0\n",
      "Fatal                             0\n",
      "Commercial License                0\n",
      "HAZMAT                            0\n",
      "Commercial Vehicle                0\n",
      "Alcohol                           0\n",
      "Work Zone                         0\n",
      "Search Conducted                 49\n",
      "Search Disposition              189\n",
      "Search Outcome                   49\n",
      "Search Reason                   189\n",
      "Search Reason For Stop           49\n",
      "Search Type                     189\n",
      "Search Arrest Reason            191\n",
      "State                             0\n",
      "VehicleType                       0\n",
      "Year                              0\n",
      "Make                              0\n",
      "Model                             0\n",
      "Color                             2\n",
      "Violation Type                    0\n",
      "Charge                            0\n",
      "Article                          10\n",
      "Contributed To Accident           0\n",
      "Race                              0\n",
      "Gender                            0\n",
      "Driver City                       0\n",
      "Driver State                      0\n",
      "DL State                          0\n",
      "Arrest Type                       0\n",
      "Geolocation                       0\n",
      "Search Reason Code              189\n",
      "Violation Type Code               0\n",
      "Search Outcome Code              49\n",
      "Search Disposition Type Code    189\n",
      "Search Conducted Type Code       49\n",
      "dtype: int64\n"
     ]
    }
   ],
   "source": [
    "# Check for null values in big_df\n",
    "big_df_null_counts = big_df.isnull().sum()\n",
    "print(\"Null values in big_df:\")\n",
    "print(big_df_null_counts)\n",
    "\n",
    "# Check for null values in df\n",
    "df_null_counts = df.isnull().sum()\n",
    "print(\"\\nNull values in df:\")\n",
    "print(df_null_counts)"
   ]
  },
  {
   "cell_type": "code",
   "execution_count": 71,
   "metadata": {},
   "outputs": [],
   "source": [
    "df_filled = df.fillna('Nothing')\n"
   ]
  },
  {
   "cell_type": "code",
   "execution_count": 72,
   "metadata": {},
   "outputs": [
    {
     "name": "stdout",
     "output_type": "stream",
     "text": [
      "SeqID                           0\n",
      "Date Of Stop                    0\n",
      "Time Of Stop                    0\n",
      "Agency                          0\n",
      "SubAgency                       0\n",
      "Description                     0\n",
      "Location                        0\n",
      "Latitude                        0\n",
      "Longitude                       0\n",
      "Accident                        0\n",
      "Belts                           0\n",
      "Personal Injury                 0\n",
      "Property Damage                 0\n",
      "Fatal                           0\n",
      "Commercial License              0\n",
      "HAZMAT                          0\n",
      "Commercial Vehicle              0\n",
      "Alcohol                         0\n",
      "Work Zone                       0\n",
      "Search Conducted                0\n",
      "Search Disposition              0\n",
      "Search Outcome                  0\n",
      "Search Reason                   0\n",
      "Search Reason For Stop          0\n",
      "Search Type                     0\n",
      "Search Arrest Reason            0\n",
      "State                           0\n",
      "VehicleType                     0\n",
      "Year                            0\n",
      "Make                            0\n",
      "Model                           0\n",
      "Color                           0\n",
      "Violation Type                  0\n",
      "Charge                          0\n",
      "Article                         0\n",
      "Contributed To Accident         0\n",
      "Race                            0\n",
      "Gender                          0\n",
      "Driver City                     0\n",
      "Driver State                    0\n",
      "DL State                        0\n",
      "Arrest Type                     0\n",
      "Geolocation                     0\n",
      "Search Reason Code              0\n",
      "Violation Type Code             0\n",
      "Search Outcome Code             0\n",
      "Search Disposition Type Code    0\n",
      "Search Conducted Type Code      0\n",
      "dtype: int64\n"
     ]
    }
   ],
   "source": [
    "print(df_filled.isnull().sum())"
   ]
  },
  {
   "cell_type": "code",
   "execution_count": 73,
   "metadata": {},
   "outputs": [
    {
     "name": "stdout",
     "output_type": "stream",
     "text": [
      "\n",
      "Value counts for 'Violation Type' column for df:\n",
      "Citation    104\n",
      "Warning      85\n",
      "ESERO        10\n",
      "Name: Violation Type, dtype: int64\n"
     ]
    }
   ],
   "source": [
    "print(\"\\nValue counts for 'Violation Type' column for df:\")\n",
    "print(df['Violation Type'].value_counts())"
   ]
  },
  {
   "cell_type": "code",
   "execution_count": 75,
   "metadata": {},
   "outputs": [],
   "source": [
    "# Define a mapping dictionary for the 'Violation Type'\n",
    "violation_type_mapping = {'Citation': 1, 'Warning': 2, 'ESERO': 3}\n",
    "\n",
    "# Map the values in the 'Violation Type' column to numeric values\n",
    "df['Violation Type'] = df['Violation Type'].map(violation_type_mapping)\n"
   ]
  },
  {
   "cell_type": "code",
   "execution_count": 76,
   "metadata": {},
   "outputs": [
    {
     "name": "stdout",
     "output_type": "stream",
     "text": [
      "\n",
      "Value counts for 'Violation Type' column for df:\n",
      "Series([], Name: Violation Type, dtype: int64)\n"
     ]
    }
   ],
   "source": [
    "print(\"\\nValue counts for 'Violation Type' column for df:\")\n",
    "print(df['Violation Type'].value_counts())"
   ]
  },
  {
   "cell_type": "code",
   "execution_count": 77,
   "metadata": {},
   "outputs": [
    {
     "data": {
      "text/html": [
       "<div>\n",
       "<style scoped>\n",
       "    .dataframe tbody tr th:only-of-type {\n",
       "        vertical-align: middle;\n",
       "    }\n",
       "\n",
       "    .dataframe tbody tr th {\n",
       "        vertical-align: top;\n",
       "    }\n",
       "\n",
       "    .dataframe thead th {\n",
       "        text-align: right;\n",
       "    }\n",
       "</style>\n",
       "<table border=\"1\" class=\"dataframe\">\n",
       "  <thead>\n",
       "    <tr style=\"text-align: right;\">\n",
       "      <th></th>\n",
       "      <th>Fatal</th>\n",
       "      <th>Alcohol</th>\n",
       "      <th>Work Zone</th>\n",
       "      <th>Search Conducted</th>\n",
       "      <th>Search Disposition</th>\n",
       "      <th>Search Outcome</th>\n",
       "      <th>Search Reason</th>\n",
       "    </tr>\n",
       "  </thead>\n",
       "  <tbody>\n",
       "    <tr>\n",
       "      <th>1</th>\n",
       "      <td>False</td>\n",
       "      <td>False</td>\n",
       "      <td>False</td>\n",
       "      <td>False</td>\n",
       "      <td>True</td>\n",
       "      <td>False</td>\n",
       "      <td>True</td>\n",
       "    </tr>\n",
       "    <tr>\n",
       "      <th>2</th>\n",
       "      <td>False</td>\n",
       "      <td>False</td>\n",
       "      <td>False</td>\n",
       "      <td>False</td>\n",
       "      <td>True</td>\n",
       "      <td>False</td>\n",
       "      <td>True</td>\n",
       "    </tr>\n",
       "    <tr>\n",
       "      <th>3</th>\n",
       "      <td>False</td>\n",
       "      <td>False</td>\n",
       "      <td>False</td>\n",
       "      <td>False</td>\n",
       "      <td>True</td>\n",
       "      <td>False</td>\n",
       "      <td>True</td>\n",
       "    </tr>\n",
       "    <tr>\n",
       "      <th>4</th>\n",
       "      <td>False</td>\n",
       "      <td>False</td>\n",
       "      <td>False</td>\n",
       "      <td>False</td>\n",
       "      <td>True</td>\n",
       "      <td>False</td>\n",
       "      <td>True</td>\n",
       "    </tr>\n",
       "    <tr>\n",
       "      <th>5</th>\n",
       "      <td>False</td>\n",
       "      <td>False</td>\n",
       "      <td>False</td>\n",
       "      <td>False</td>\n",
       "      <td>True</td>\n",
       "      <td>False</td>\n",
       "      <td>True</td>\n",
       "    </tr>\n",
       "    <tr>\n",
       "      <th>...</th>\n",
       "      <td>...</td>\n",
       "      <td>...</td>\n",
       "      <td>...</td>\n",
       "      <td>...</td>\n",
       "      <td>...</td>\n",
       "      <td>...</td>\n",
       "      <td>...</td>\n",
       "    </tr>\n",
       "    <tr>\n",
       "      <th>1877994</th>\n",
       "      <td>False</td>\n",
       "      <td>False</td>\n",
       "      <td>False</td>\n",
       "      <td>False</td>\n",
       "      <td>True</td>\n",
       "      <td>False</td>\n",
       "      <td>True</td>\n",
       "    </tr>\n",
       "    <tr>\n",
       "      <th>1877996</th>\n",
       "      <td>False</td>\n",
       "      <td>False</td>\n",
       "      <td>False</td>\n",
       "      <td>True</td>\n",
       "      <td>True</td>\n",
       "      <td>True</td>\n",
       "      <td>True</td>\n",
       "    </tr>\n",
       "    <tr>\n",
       "      <th>1877999</th>\n",
       "      <td>False</td>\n",
       "      <td>False</td>\n",
       "      <td>False</td>\n",
       "      <td>False</td>\n",
       "      <td>True</td>\n",
       "      <td>False</td>\n",
       "      <td>True</td>\n",
       "    </tr>\n",
       "    <tr>\n",
       "      <th>1878000</th>\n",
       "      <td>False</td>\n",
       "      <td>False</td>\n",
       "      <td>False</td>\n",
       "      <td>False</td>\n",
       "      <td>True</td>\n",
       "      <td>False</td>\n",
       "      <td>True</td>\n",
       "    </tr>\n",
       "    <tr>\n",
       "      <th>1878004</th>\n",
       "      <td>False</td>\n",
       "      <td>False</td>\n",
       "      <td>False</td>\n",
       "      <td>False</td>\n",
       "      <td>True</td>\n",
       "      <td>False</td>\n",
       "      <td>True</td>\n",
       "    </tr>\n",
       "  </tbody>\n",
       "</table>\n",
       "<p>1665836 rows × 7 columns</p>\n",
       "</div>"
      ],
      "text/plain": [
       "         Fatal  Alcohol  Work Zone  Search Conducted  Search Disposition  \\\n",
       "1        False    False      False             False                True   \n",
       "2        False    False      False             False                True   \n",
       "3        False    False      False             False                True   \n",
       "4        False    False      False             False                True   \n",
       "5        False    False      False             False                True   \n",
       "...        ...      ...        ...               ...                 ...   \n",
       "1877994  False    False      False             False                True   \n",
       "1877996  False    False      False              True                True   \n",
       "1877999  False    False      False             False                True   \n",
       "1878000  False    False      False             False                True   \n",
       "1878004  False    False      False             False                True   \n",
       "\n",
       "         Search Outcome  Search Reason  \n",
       "1                 False           True  \n",
       "2                 False           True  \n",
       "3                 False           True  \n",
       "4                 False           True  \n",
       "5                 False           True  \n",
       "...                 ...            ...  \n",
       "1877994           False           True  \n",
       "1877996            True           True  \n",
       "1877999           False           True  \n",
       "1878000           False           True  \n",
       "1878004           False           True  \n",
       "\n",
       "[1665836 rows x 7 columns]"
      ]
     },
     "execution_count": 77,
     "metadata": {},
     "output_type": "execute_result"
    }
   ],
   "source": [
    "big_df_smaller[['Fatal', 'Alcohol', 'Work Zone', 'Search Conducted',\n",
    "       'Search Disposition', 'Search Outcome', 'Search Reason']].isnull()"
   ]
  },
  {
   "cell_type": "code",
   "execution_count": 83,
   "metadata": {},
   "outputs": [
    {
     "name": "stdout",
     "output_type": "stream",
     "text": [
      "Index(['SeqID', 'Date Of Stop', 'Time Of Stop', 'Agency', 'SubAgency',\n",
      "       'Description', 'Location', 'Latitude', 'Longitude', 'Accident', 'Belts',\n",
      "       'Personal Injury', 'Property Damage', 'Fatal', 'Commercial License',\n",
      "       'HAZMAT', 'Commercial Vehicle', 'Alcohol', 'Work Zone',\n",
      "       'Search Conducted', 'Search Disposition', 'Search Outcome',\n",
      "       'Search Reason', 'Search Reason For Stop', 'Search Type',\n",
      "       'Search Arrest Reason', 'State', 'VehicleType', 'Year', 'Make', 'Model',\n",
      "       'Color', 'Violation Type', 'Charge', 'Article',\n",
      "       'Contributed To Accident', 'Race', 'Gender', 'Driver City',\n",
      "       'Driver State', 'DL State', 'Arrest Type', 'Geolocation'],\n",
      "      dtype='object')\n"
     ]
    }
   ],
   "source": [
    "print(df.columns)"
   ]
  },
  {
   "cell_type": "code",
   "execution_count": 85,
   "metadata": {},
   "outputs": [],
   "source": [
    "# Save the DataFrame with the new column to a new CSV file\n",
    "df.to_csv('sample_data2.csv', index=False)"
   ]
  },
  {
   "cell_type": "code",
   "execution_count": null,
   "metadata": {},
   "outputs": [],
   "source": []
  }
 ],
 "metadata": {
  "kernelspec": {
   "display_name": "dev",
   "language": "python",
   "name": "python3"
  },
  "language_info": {
   "codemirror_mode": {
    "name": "ipython",
    "version": 3
   },
   "file_extension": ".py",
   "mimetype": "text/x-python",
   "name": "python",
   "nbconvert_exporter": "python",
   "pygments_lexer": "ipython3",
   "version": "3.10.9"
  }
 },
 "nbformat": 4,
 "nbformat_minor": 2
}
