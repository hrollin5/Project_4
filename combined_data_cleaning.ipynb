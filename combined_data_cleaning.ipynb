{
 "cells": [
  {
   "cell_type": "code",
   "execution_count": 1,
   "metadata": {},
   "outputs": [],
   "source": [
    "import pandas as pd\n",
    "from pathlib import Path\n",
    "import re"
   ]
  },
  {
   "cell_type": "code",
   "execution_count": 2,
   "metadata": {},
   "outputs": [],
   "source": [
    "# Set the limit for max rows and columns to display\n",
    "pd.options.display.max_rows = 50\n",
    "pd.options.display.max_columns = 50"
   ]
  },
  {
   "cell_type": "code",
   "execution_count": 3,
   "metadata": {},
   "outputs": [],
   "source": [
    "#big_path = \"../../../Traffic_Violations.csv\"\n",
    "big_path = \"Traffic_Violations.csv\"\n",
    "big_df = pd.read_csv(big_path, low_memory=False)"
   ]
  },
  {
   "cell_type": "code",
   "execution_count": 4,
   "metadata": {},
   "outputs": [
    {
     "data": {
      "text/html": [
       "<div>\n",
       "<style scoped>\n",
       "    .dataframe tbody tr th:only-of-type {\n",
       "        vertical-align: middle;\n",
       "    }\n",
       "\n",
       "    .dataframe tbody tr th {\n",
       "        vertical-align: top;\n",
       "    }\n",
       "\n",
       "    .dataframe thead th {\n",
       "        text-align: right;\n",
       "    }\n",
       "</style>\n",
       "<table border=\"1\" class=\"dataframe\">\n",
       "  <thead>\n",
       "    <tr style=\"text-align: right;\">\n",
       "      <th></th>\n",
       "      <th>SeqID</th>\n",
       "      <th>Date Of Stop</th>\n",
       "      <th>Time Of Stop</th>\n",
       "      <th>Agency</th>\n",
       "      <th>SubAgency</th>\n",
       "      <th>Description</th>\n",
       "      <th>Location</th>\n",
       "      <th>Latitude</th>\n",
       "      <th>Longitude</th>\n",
       "      <th>Accident</th>\n",
       "      <th>Belts</th>\n",
       "      <th>Personal Injury</th>\n",
       "      <th>Property Damage</th>\n",
       "      <th>Fatal</th>\n",
       "      <th>Commercial License</th>\n",
       "      <th>HAZMAT</th>\n",
       "      <th>Commercial Vehicle</th>\n",
       "      <th>Alcohol</th>\n",
       "      <th>Work Zone</th>\n",
       "      <th>Search Conducted</th>\n",
       "      <th>Search Disposition</th>\n",
       "      <th>Search Outcome</th>\n",
       "      <th>Search Reason</th>\n",
       "      <th>Search Reason For Stop</th>\n",
       "      <th>Search Type</th>\n",
       "      <th>Search Arrest Reason</th>\n",
       "      <th>State</th>\n",
       "      <th>VehicleType</th>\n",
       "      <th>Year</th>\n",
       "      <th>Make</th>\n",
       "      <th>Model</th>\n",
       "      <th>Color</th>\n",
       "      <th>Violation Type</th>\n",
       "      <th>Charge</th>\n",
       "      <th>Article</th>\n",
       "      <th>Contributed To Accident</th>\n",
       "      <th>Race</th>\n",
       "      <th>Gender</th>\n",
       "      <th>Driver City</th>\n",
       "      <th>Driver State</th>\n",
       "      <th>DL State</th>\n",
       "      <th>Arrest Type</th>\n",
       "      <th>Geolocation</th>\n",
       "    </tr>\n",
       "  </thead>\n",
       "  <tbody>\n",
       "    <tr>\n",
       "      <th>0</th>\n",
       "      <td>52282e8c-f2e1-4bb5-8509-2d5e4f8da8ca</td>\n",
       "      <td>05/01/2023</td>\n",
       "      <td>23:11:00</td>\n",
       "      <td>MCP</td>\n",
       "      <td>3rd District, Silver Spring</td>\n",
       "      <td>OPERATING UNREGISTERED MOTOR VEHICLE ON HIGHWAY</td>\n",
       "      <td>BRIGGS CHANEY RD @ COLUMIBA PIKE</td>\n",
       "      <td>0.000000</td>\n",
       "      <td>0.000000</td>\n",
       "      <td>No</td>\n",
       "      <td>No</td>\n",
       "      <td>No</td>\n",
       "      <td>No</td>\n",
       "      <td>No</td>\n",
       "      <td>No</td>\n",
       "      <td>No</td>\n",
       "      <td>No</td>\n",
       "      <td>No</td>\n",
       "      <td>No</td>\n",
       "      <td>No</td>\n",
       "      <td>NaN</td>\n",
       "      <td>Citation</td>\n",
       "      <td>NaN</td>\n",
       "      <td>17-107(a1)</td>\n",
       "      <td>NaN</td>\n",
       "      <td>NaN</td>\n",
       "      <td>MD</td>\n",
       "      <td>02 - Automobile</td>\n",
       "      <td>2007.0</td>\n",
       "      <td>CHEV</td>\n",
       "      <td>CRUZ</td>\n",
       "      <td>BLACK</td>\n",
       "      <td>Citation</td>\n",
       "      <td>13-401(b1)</td>\n",
       "      <td>Transportation Article</td>\n",
       "      <td>False</td>\n",
       "      <td>WHITE</td>\n",
       "      <td>M</td>\n",
       "      <td>GAITHERSBURG</td>\n",
       "      <td>MD</td>\n",
       "      <td>MD</td>\n",
       "      <td>A - Marked Patrol</td>\n",
       "      <td>(0.0, 0.0)</td>\n",
       "    </tr>\n",
       "    <tr>\n",
       "      <th>1</th>\n",
       "      <td>971ef50f-f138-419f-89e5-5d2cc5d7b75a</td>\n",
       "      <td>04/30/2023</td>\n",
       "      <td>23:55:00</td>\n",
       "      <td>MCP</td>\n",
       "      <td>4th District, Wheaton</td>\n",
       "      <td>DRIVING VEHICLE ON HIGHWAY WITH SUSPENDED REGI...</td>\n",
       "      <td>KEMP MILL ROAD @ ALPERT LANE</td>\n",
       "      <td>39.053038</td>\n",
       "      <td>-77.024637</td>\n",
       "      <td>No</td>\n",
       "      <td>No</td>\n",
       "      <td>No</td>\n",
       "      <td>No</td>\n",
       "      <td>No</td>\n",
       "      <td>No</td>\n",
       "      <td>No</td>\n",
       "      <td>No</td>\n",
       "      <td>No</td>\n",
       "      <td>No</td>\n",
       "      <td>No</td>\n",
       "      <td>NaN</td>\n",
       "      <td>Citation</td>\n",
       "      <td>NaN</td>\n",
       "      <td>55*</td>\n",
       "      <td>NaN</td>\n",
       "      <td>NaN</td>\n",
       "      <td>MD</td>\n",
       "      <td>02 - Automobile</td>\n",
       "      <td>2013.0</td>\n",
       "      <td>HYUNDAI</td>\n",
       "      <td>SONATA</td>\n",
       "      <td>RED</td>\n",
       "      <td>Citation</td>\n",
       "      <td>13-401(h)</td>\n",
       "      <td>Transportation Article</td>\n",
       "      <td>False</td>\n",
       "      <td>WHITE</td>\n",
       "      <td>F</td>\n",
       "      <td>SILVER SPRING</td>\n",
       "      <td>MD</td>\n",
       "      <td>MD</td>\n",
       "      <td>A - Marked Patrol</td>\n",
       "      <td>(39.0530383333333, -77.0246366666667)</td>\n",
       "    </tr>\n",
       "    <tr>\n",
       "      <th>2</th>\n",
       "      <td>1b3ad74c-9e3b-47af-acba-cc3fcb656e6f</td>\n",
       "      <td>04/30/2023</td>\n",
       "      <td>04:24:00</td>\n",
       "      <td>MCP</td>\n",
       "      <td>2nd District, Bethesda</td>\n",
       "      <td>NEGLIGENT DRIVING VEHICLE IN CARELESS AND IMPR...</td>\n",
       "      <td>JONES MILL ROAD/ LE VELLE DRIVE</td>\n",
       "      <td>38.991480</td>\n",
       "      <td>-77.097113</td>\n",
       "      <td>No</td>\n",
       "      <td>No</td>\n",
       "      <td>No</td>\n",
       "      <td>No</td>\n",
       "      <td>No</td>\n",
       "      <td>No</td>\n",
       "      <td>No</td>\n",
       "      <td>No</td>\n",
       "      <td>No</td>\n",
       "      <td>No</td>\n",
       "      <td>No</td>\n",
       "      <td>NaN</td>\n",
       "      <td>Citation</td>\n",
       "      <td>NaN</td>\n",
       "      <td>21-304(c)</td>\n",
       "      <td>NaN</td>\n",
       "      <td>NaN</td>\n",
       "      <td>MD</td>\n",
       "      <td>02 - Automobile</td>\n",
       "      <td>2019.0</td>\n",
       "      <td>NISSAN</td>\n",
       "      <td>ALTIMA</td>\n",
       "      <td>GRAY</td>\n",
       "      <td>Citation</td>\n",
       "      <td>21-901.1(b)</td>\n",
       "      <td>Transportation Article</td>\n",
       "      <td>False</td>\n",
       "      <td>BLACK</td>\n",
       "      <td>F</td>\n",
       "      <td>SILVER SPRING</td>\n",
       "      <td>MD</td>\n",
       "      <td>MD</td>\n",
       "      <td>A - Marked Patrol</td>\n",
       "      <td>(38.99148, -77.0971133333333)</td>\n",
       "    </tr>\n",
       "    <tr>\n",
       "      <th>3</th>\n",
       "      <td>1b3ad74c-9e3b-47af-acba-cc3fcb656e6f</td>\n",
       "      <td>04/30/2023</td>\n",
       "      <td>04:24:00</td>\n",
       "      <td>MCP</td>\n",
       "      <td>2nd District, Bethesda</td>\n",
       "      <td>RECKLESS DRIVING VEHICLE IN WANTON AND WILLFUL...</td>\n",
       "      <td>JONES MILL ROAD/ LE VELLE DRIVE</td>\n",
       "      <td>38.991480</td>\n",
       "      <td>-77.097113</td>\n",
       "      <td>No</td>\n",
       "      <td>No</td>\n",
       "      <td>No</td>\n",
       "      <td>No</td>\n",
       "      <td>No</td>\n",
       "      <td>No</td>\n",
       "      <td>No</td>\n",
       "      <td>No</td>\n",
       "      <td>No</td>\n",
       "      <td>No</td>\n",
       "      <td>No</td>\n",
       "      <td>NaN</td>\n",
       "      <td>Citation</td>\n",
       "      <td>NaN</td>\n",
       "      <td>21-304(c)</td>\n",
       "      <td>NaN</td>\n",
       "      <td>NaN</td>\n",
       "      <td>MD</td>\n",
       "      <td>02 - Automobile</td>\n",
       "      <td>2019.0</td>\n",
       "      <td>NISSAN</td>\n",
       "      <td>ALTIMA</td>\n",
       "      <td>GRAY</td>\n",
       "      <td>Citation</td>\n",
       "      <td>21-901.1(a)</td>\n",
       "      <td>Transportation Article</td>\n",
       "      <td>False</td>\n",
       "      <td>BLACK</td>\n",
       "      <td>F</td>\n",
       "      <td>SILVER SPRING</td>\n",
       "      <td>MD</td>\n",
       "      <td>MD</td>\n",
       "      <td>A - Marked Patrol</td>\n",
       "      <td>(38.99148, -77.0971133333333)</td>\n",
       "    </tr>\n",
       "    <tr>\n",
       "      <th>4</th>\n",
       "      <td>1b3ad74c-9e3b-47af-acba-cc3fcb656e6f</td>\n",
       "      <td>04/30/2023</td>\n",
       "      <td>04:24:00</td>\n",
       "      <td>MCP</td>\n",
       "      <td>2nd District, Bethesda</td>\n",
       "      <td>FAILURE TO DRIVE VEHICLE ON RIGHT HALF OF ROAD...</td>\n",
       "      <td>JONES MILL ROAD/ LE VELLE DRIVE</td>\n",
       "      <td>38.991480</td>\n",
       "      <td>-77.097113</td>\n",
       "      <td>No</td>\n",
       "      <td>No</td>\n",
       "      <td>No</td>\n",
       "      <td>No</td>\n",
       "      <td>No</td>\n",
       "      <td>No</td>\n",
       "      <td>No</td>\n",
       "      <td>No</td>\n",
       "      <td>No</td>\n",
       "      <td>No</td>\n",
       "      <td>No</td>\n",
       "      <td>NaN</td>\n",
       "      <td>Citation</td>\n",
       "      <td>NaN</td>\n",
       "      <td>21-304(c)</td>\n",
       "      <td>NaN</td>\n",
       "      <td>NaN</td>\n",
       "      <td>MD</td>\n",
       "      <td>02 - Automobile</td>\n",
       "      <td>2019.0</td>\n",
       "      <td>NISSAN</td>\n",
       "      <td>ALTIMA</td>\n",
       "      <td>GRAY</td>\n",
       "      <td>Citation</td>\n",
       "      <td>21-301(a)</td>\n",
       "      <td>Transportation Article</td>\n",
       "      <td>False</td>\n",
       "      <td>BLACK</td>\n",
       "      <td>F</td>\n",
       "      <td>SILVER SPRING</td>\n",
       "      <td>MD</td>\n",
       "      <td>MD</td>\n",
       "      <td>A - Marked Patrol</td>\n",
       "      <td>(38.99148, -77.0971133333333)</td>\n",
       "    </tr>\n",
       "  </tbody>\n",
       "</table>\n",
       "</div>"
      ],
      "text/plain": [
       "                                  SeqID Date Of Stop Time Of Stop Agency  \\\n",
       "0  52282e8c-f2e1-4bb5-8509-2d5e4f8da8ca   05/01/2023     23:11:00    MCP   \n",
       "1  971ef50f-f138-419f-89e5-5d2cc5d7b75a   04/30/2023     23:55:00    MCP   \n",
       "2  1b3ad74c-9e3b-47af-acba-cc3fcb656e6f   04/30/2023     04:24:00    MCP   \n",
       "3  1b3ad74c-9e3b-47af-acba-cc3fcb656e6f   04/30/2023     04:24:00    MCP   \n",
       "4  1b3ad74c-9e3b-47af-acba-cc3fcb656e6f   04/30/2023     04:24:00    MCP   \n",
       "\n",
       "                     SubAgency  \\\n",
       "0  3rd District, Silver Spring   \n",
       "1        4th District, Wheaton   \n",
       "2       2nd District, Bethesda   \n",
       "3       2nd District, Bethesda   \n",
       "4       2nd District, Bethesda   \n",
       "\n",
       "                                         Description  \\\n",
       "0    OPERATING UNREGISTERED MOTOR VEHICLE ON HIGHWAY   \n",
       "1  DRIVING VEHICLE ON HIGHWAY WITH SUSPENDED REGI...   \n",
       "2  NEGLIGENT DRIVING VEHICLE IN CARELESS AND IMPR...   \n",
       "3  RECKLESS DRIVING VEHICLE IN WANTON AND WILLFUL...   \n",
       "4  FAILURE TO DRIVE VEHICLE ON RIGHT HALF OF ROAD...   \n",
       "\n",
       "                           Location   Latitude  Longitude Accident Belts  \\\n",
       "0  BRIGGS CHANEY RD @ COLUMIBA PIKE   0.000000   0.000000       No    No   \n",
       "1      KEMP MILL ROAD @ ALPERT LANE  39.053038 -77.024637       No    No   \n",
       "2   JONES MILL ROAD/ LE VELLE DRIVE  38.991480 -77.097113       No    No   \n",
       "3   JONES MILL ROAD/ LE VELLE DRIVE  38.991480 -77.097113       No    No   \n",
       "4   JONES MILL ROAD/ LE VELLE DRIVE  38.991480 -77.097113       No    No   \n",
       "\n",
       "  Personal Injury Property Damage Fatal Commercial License HAZMAT  \\\n",
       "0              No              No    No                 No     No   \n",
       "1              No              No    No                 No     No   \n",
       "2              No              No    No                 No     No   \n",
       "3              No              No    No                 No     No   \n",
       "4              No              No    No                 No     No   \n",
       "\n",
       "  Commercial Vehicle Alcohol Work Zone Search Conducted Search Disposition  \\\n",
       "0                 No      No        No               No                NaN   \n",
       "1                 No      No        No               No                NaN   \n",
       "2                 No      No        No               No                NaN   \n",
       "3                 No      No        No               No                NaN   \n",
       "4                 No      No        No               No                NaN   \n",
       "\n",
       "  Search Outcome Search Reason Search Reason For Stop Search Type  \\\n",
       "0       Citation           NaN             17-107(a1)         NaN   \n",
       "1       Citation           NaN                    55*         NaN   \n",
       "2       Citation           NaN              21-304(c)         NaN   \n",
       "3       Citation           NaN              21-304(c)         NaN   \n",
       "4       Citation           NaN              21-304(c)         NaN   \n",
       "\n",
       "  Search Arrest Reason State      VehicleType    Year     Make   Model  Color  \\\n",
       "0                  NaN    MD  02 - Automobile  2007.0     CHEV    CRUZ  BLACK   \n",
       "1                  NaN    MD  02 - Automobile  2013.0  HYUNDAI  SONATA    RED   \n",
       "2                  NaN    MD  02 - Automobile  2019.0   NISSAN  ALTIMA   GRAY   \n",
       "3                  NaN    MD  02 - Automobile  2019.0   NISSAN  ALTIMA   GRAY   \n",
       "4                  NaN    MD  02 - Automobile  2019.0   NISSAN  ALTIMA   GRAY   \n",
       "\n",
       "  Violation Type       Charge                 Article  \\\n",
       "0       Citation   13-401(b1)  Transportation Article   \n",
       "1       Citation    13-401(h)  Transportation Article   \n",
       "2       Citation  21-901.1(b)  Transportation Article   \n",
       "3       Citation  21-901.1(a)  Transportation Article   \n",
       "4       Citation    21-301(a)  Transportation Article   \n",
       "\n",
       "   Contributed To Accident   Race Gender    Driver City Driver State DL State  \\\n",
       "0                    False  WHITE      M   GAITHERSBURG           MD       MD   \n",
       "1                    False  WHITE      F  SILVER SPRING           MD       MD   \n",
       "2                    False  BLACK      F  SILVER SPRING           MD       MD   \n",
       "3                    False  BLACK      F  SILVER SPRING           MD       MD   \n",
       "4                    False  BLACK      F  SILVER SPRING           MD       MD   \n",
       "\n",
       "         Arrest Type                            Geolocation  \n",
       "0  A - Marked Patrol                             (0.0, 0.0)  \n",
       "1  A - Marked Patrol  (39.0530383333333, -77.0246366666667)  \n",
       "2  A - Marked Patrol          (38.99148, -77.0971133333333)  \n",
       "3  A - Marked Patrol          (38.99148, -77.0971133333333)  \n",
       "4  A - Marked Patrol          (38.99148, -77.0971133333333)  "
      ]
     },
     "execution_count": 4,
     "metadata": {},
     "output_type": "execute_result"
    }
   ],
   "source": [
    "big_df.head()"
   ]
  },
  {
   "cell_type": "code",
   "execution_count": 5,
   "metadata": {},
   "outputs": [
    {
     "data": {
      "text/plain": [
       "Index(['SeqID', 'Date Of Stop', 'Time Of Stop', 'Agency', 'SubAgency',\n",
       "       'Description', 'Location', 'Latitude', 'Longitude', 'Accident', 'Belts',\n",
       "       'Personal Injury', 'Property Damage', 'Fatal', 'Commercial License',\n",
       "       'HAZMAT', 'Commercial Vehicle', 'Alcohol', 'Work Zone',\n",
       "       'Search Conducted', 'Search Disposition', 'Search Outcome',\n",
       "       'Search Reason', 'Search Reason For Stop', 'Search Type',\n",
       "       'Search Arrest Reason', 'State', 'VehicleType', 'Year', 'Make', 'Model',\n",
       "       'Color', 'Violation Type', 'Charge', 'Article',\n",
       "       'Contributed To Accident', 'Race', 'Gender', 'Driver City',\n",
       "       'Driver State', 'DL State', 'Arrest Type', 'Geolocation'],\n",
       "      dtype='object')"
      ]
     },
     "execution_count": 5,
     "metadata": {},
     "output_type": "execute_result"
    }
   ],
   "source": [
    "big_df.columns"
   ]
  },
  {
   "cell_type": "code",
   "execution_count": 6,
   "metadata": {},
   "outputs": [],
   "source": [
    "# Drop the columns that we have deemed unhelpful\n",
    "big_df_smaller = big_df.drop([\"Agency\", \"Geolocation\", \"VehicleType\", \"HAZMAT\", \n",
    "                                \"Commercial Vehicle\", \"Commercial License\", \"Article\", \"Charge\", \n",
    "                                \"SeqID\", \"SubAgency\", \"Model\", \"Contributed To Accident\", \"DL State\", \n",
    "                                \"Driver City\", \"Arrest Type\", \"Search Reason For Stop\"], axis = 1)"
   ]
  },
  {
   "cell_type": "code",
   "execution_count": 7,
   "metadata": {},
   "outputs": [],
   "source": [
    "# Drop rows that do not result in a citation or warning\n",
    "big_df_smaller.drop(big_df_smaller[big_df_smaller['Violation Type'] == 'ESERO'].index, inplace=True)\n",
    "big_df_smaller.drop(big_df_smaller[big_df_smaller['Violation Type'] == 'SERO'].index, inplace=True)"
   ]
  },
  {
   "cell_type": "code",
   "execution_count": 8,
   "metadata": {},
   "outputs": [
    {
     "data": {
      "text/plain": [
       "(1790375, 27)"
      ]
     },
     "execution_count": 8,
     "metadata": {},
     "output_type": "execute_result"
    }
   ],
   "source": [
    "# Clean the Year column\n",
    "# Drop rows with null year\n",
    "big_df_smaller = big_df_smaller.dropna(subset=[\"Year\"])\n",
    "# Change year to integer\n",
    "big_df_smaller[\"Year\"]= big_df_smaller[\"Year\"].astype(int)\n",
    "# Get years in a list\n",
    "years = big_df_smaller[\"Year\"].unique()\n",
    "# Make a list of garbage years\n",
    "years_to_remove = [0, 6338, 1005, 1196, 2912, 1009, 2088, 1007, 2102, 2109, 2105, 2997]\n",
    "# Clean the list of years\n",
    "good_years = [value for value in years if value not in years_to_remove]\n",
    "# Keep only rows with good years\n",
    "big_df_smaller = big_df_smaller[big_df_smaller[\"Year\"].isin(good_years)]\n",
    "big_df_smaller.shape"
   ]
  },
  {
   "cell_type": "code",
   "execution_count": 9,
   "metadata": {},
   "outputs": [],
   "source": [
    "# Keep only data that has latitude and longitude\n",
    "big_df_smaller = big_df_smaller[(big_df_smaller['Latitude'] != 0) & (big_df_smaller['Longitude'] != 0)]\n"
   ]
  },
  {
   "cell_type": "code",
   "execution_count": 10,
   "metadata": {},
   "outputs": [
    {
     "data": {
      "text/plain": [
       "Index(['Date Of Stop', 'Time Of Stop', 'Description', 'Location', 'Latitude',\n",
       "       'Longitude', 'Accident', 'Belts', 'Personal Injury', 'Property Damage',\n",
       "       'Fatal', 'Alcohol', 'Work Zone', 'Search Conducted',\n",
       "       'Search Disposition', 'Search Outcome', 'Search Reason', 'Search Type',\n",
       "       'Search Arrest Reason', 'State', 'Year', 'Make', 'Color',\n",
       "       'Violation Type', 'Race', 'Gender', 'Driver State'],\n",
       "      dtype='object')"
      ]
     },
     "execution_count": 10,
     "metadata": {},
     "output_type": "execute_result"
    }
   ],
   "source": [
    "big_df_smaller.columns"
   ]
  },
  {
   "cell_type": "code",
   "execution_count": 11,
   "metadata": {},
   "outputs": [
    {
     "name": "stdout",
     "output_type": "stream",
     "text": [
      "<class 'pandas.core.frame.DataFrame'>\n",
      "Int64Index: 1665844 entries, 1 to 1878004\n",
      "Data columns (total 27 columns):\n",
      " #   Column                Non-Null Count    Dtype  \n",
      "---  ------                --------------    -----  \n",
      " 0   Date Of Stop          1665844 non-null  object \n",
      " 1   Time Of Stop          1665844 non-null  object \n",
      " 2   Description           1665836 non-null  object \n",
      " 3   Location              1665841 non-null  object \n",
      " 4   Latitude              1665844 non-null  float64\n",
      " 5   Longitude             1665844 non-null  float64\n",
      " 6   Accident              1665844 non-null  object \n",
      " 7   Belts                 1665844 non-null  object \n",
      " 8   Personal Injury       1665844 non-null  object \n",
      " 9   Property Damage       1665844 non-null  object \n",
      " 10  Fatal                 1665844 non-null  object \n",
      " 11  Alcohol               1665844 non-null  object \n",
      " 12  Work Zone             1665844 non-null  object \n",
      " 13  Search Conducted      1023793 non-null  object \n",
      " 14  Search Disposition    71352 non-null    object \n",
      " 15  Search Outcome        1006152 non-null  object \n",
      " 16  Search Reason         71352 non-null    object \n",
      " 17  Search Type           71344 non-null    object \n",
      " 18  Search Arrest Reason  48011 non-null    object \n",
      " 19  State                 1665794 non-null  object \n",
      " 20  Year                  1665844 non-null  int32  \n",
      " 21  Make                  1665800 non-null  object \n",
      " 22  Color                 1655576 non-null  object \n",
      " 23  Violation Type        1665844 non-null  object \n",
      " 24  Race                  1665844 non-null  object \n",
      " 25  Gender                1665844 non-null  object \n",
      " 26  Driver State          1665839 non-null  object \n",
      "dtypes: float64(2), int32(1), object(24)\n",
      "memory usage: 349.5+ MB\n"
     ]
    }
   ],
   "source": [
    "big_df_smaller.info()"
   ]
  },
  {
   "cell_type": "code",
   "execution_count": 12,
   "metadata": {},
   "outputs": [],
   "source": [
    "# null_count = big_df_smaller['Accident'].isnull().sum()\n",
    "# null_count"
   ]
  },
  {
   "cell_type": "code",
   "execution_count": 13,
   "metadata": {},
   "outputs": [],
   "source": [
    "# if big_df_smaller.isnull().values.any():\n",
    "#     print(\"There are null values in the DataFrame.\")\n",
    "# else:\n",
    "#     print(\"There are no null values in the DataFrame.\")"
   ]
  },
  {
   "cell_type": "code",
   "execution_count": 14,
   "metadata": {},
   "outputs": [],
   "source": [
    "# big_df_smaller[['Fatal', 'Alcohol', 'Work Zone', 'Search Conducted',\n",
    "#        'Search Disposition', 'Search Outcome', 'Search Reason']].isnull()"
   ]
  },
  {
   "cell_type": "code",
   "execution_count": 15,
   "metadata": {},
   "outputs": [],
   "source": [
    "# # Check the number of null values in each column\n",
    "# null_count_per_column = big_df_smaller.isnull().sum()\n",
    "\n",
    "# # Display the result\n",
    "# print(\"Number of null values in each column:\")\n",
    "# print(null_count_per_column)\n"
   ]
  },
  {
   "cell_type": "code",
   "execution_count": 16,
   "metadata": {},
   "outputs": [],
   "source": [
    "\n",
    "# big_df_smaller[\"Search Reason\"].value_counts(dropna = False)\n"
   ]
  },
  {
   "cell_type": "code",
   "execution_count": 17,
   "metadata": {},
   "outputs": [],
   "source": [
    "big_df_smaller['Date Of Stop'] = pd.to_datetime(big_df_smaller['Date Of Stop'])\n",
    "big_df_smaller['Year of Stop'] = big_df_smaller['Date Of Stop'].dt.year\n",
    "big_df_smaller['Month of Stop'] = big_df_smaller['Date Of Stop'].dt.month\n",
    "random_forest_df = big_df_smaller.drop(['Date Of Stop'], axis = 1)"
   ]
  },
  {
   "cell_type": "code",
   "execution_count": 18,
   "metadata": {},
   "outputs": [],
   "source": [
    "# Drop rows with null Description\n",
    "big_df_smaller = big_df_smaller.dropna(subset=[\"Description\"])"
   ]
  },
  {
   "cell_type": "code",
   "execution_count": 19,
   "metadata": {},
   "outputs": [],
   "source": [
    "# Use Regex to replace any description including speeding with just \"Speeding\"\n",
    "pattern = re.compile(r'.*EXCEEDING.*SPEED LIMIT.*', flags=re.IGNORECASE)\n",
    "\n",
    "big_df_smaller['Description'] = big_df_smaller['Description'].apply(lambda x: re.sub(pattern, 'Speeding', x))"
   ]
  },
  {
   "cell_type": "code",
   "execution_count": 20,
   "metadata": {},
   "outputs": [
    {
     "data": {
      "text/plain": [
       "14529"
      ]
     },
     "execution_count": 20,
     "metadata": {},
     "output_type": "execute_result"
    }
   ],
   "source": [
    "big_df_smaller[\"Description\"].nunique()"
   ]
  },
  {
   "cell_type": "code",
   "execution_count": 21,
   "metadata": {},
   "outputs": [],
   "source": [
    "# Use Regex to replace any description including speeding with just \"Speeding\"\n",
    "pattern = re.compile(r'.*FAILURE.*YIELD.*', flags=re.IGNORECASE)\n",
    "\n",
    "big_df_smaller['Description'] = big_df_smaller['Description'].apply(lambda x: re.sub(pattern, 'Failure to Yield', x))"
   ]
  },
  {
   "cell_type": "code",
   "execution_count": 22,
   "metadata": {},
   "outputs": [],
   "source": [
    "# Use Regex to replace any description including speeding with just \"Speeding\"\n",
    "pattern = re.compile(r'.*FAIL.*YIELD.*', flags=re.IGNORECASE)\n",
    "\n",
    "big_df_smaller['Description'] = big_df_smaller['Description'].apply(lambda x: re.sub(pattern, 'Failure to Yield', x))"
   ]
  },
  {
   "cell_type": "code",
   "execution_count": 23,
   "metadata": {},
   "outputs": [],
   "source": [
    "# Use Regex to replace any description including speeding with just \"Speeding\"\n",
    "pattern = re.compile(r'.*LEARNER.*PERMIT.*', flags=re.IGNORECASE)\n",
    "\n",
    "big_df_smaller['Description'] = big_df_smaller['Description'].apply(lambda x: re.sub(pattern, 'Learners Permit', x))"
   ]
  },
  {
   "cell_type": "code",
   "execution_count": 24,
   "metadata": {},
   "outputs": [
    {
     "data": {
      "text/plain": [
       "14241"
      ]
     },
     "execution_count": 24,
     "metadata": {},
     "output_type": "execute_result"
    }
   ],
   "source": [
    "big_df_smaller[\"Description\"].nunique()"
   ]
  },
  {
   "cell_type": "code",
   "execution_count": 25,
   "metadata": {},
   "outputs": [],
   "source": [
    "# Use Regex to replace any description including speeding with just \"Speeding\"\n",
    "pattern = re.compile(r'.*SPEED.*', flags=re.IGNORECASE)\n",
    "\n",
    "big_df_smaller['Description'] = big_df_smaller['Description'].apply(lambda x: re.sub(pattern, 'Speeding', x))"
   ]
  },
  {
   "cell_type": "code",
   "execution_count": 26,
   "metadata": {},
   "outputs": [],
   "source": [
    "# Use Regex to replace any description including speeding with just \"Speeding\"\n",
    "pattern = re.compile(r'.*SPEEDING.*', flags=re.IGNORECASE)\n",
    "\n",
    "big_df_smaller['Description'] = big_df_smaller['Description'].apply(lambda x: re.sub(pattern, 'Speeding', x))"
   ]
  },
  {
   "cell_type": "code",
   "execution_count": 27,
   "metadata": {},
   "outputs": [
    {
     "data": {
      "text/plain": [
       "11705"
      ]
     },
     "execution_count": 27,
     "metadata": {},
     "output_type": "execute_result"
    }
   ],
   "source": [
    "big_df_smaller[\"Description\"].nunique()"
   ]
  },
  {
   "cell_type": "code",
   "execution_count": 28,
   "metadata": {},
   "outputs": [],
   "source": [
    "# Use Regex to replace any description including speeding with just \"Speeding\"\n",
    "pattern = re.compile(r'.*LAMP.*', flags=re.IGNORECASE)\n",
    "\n",
    "big_df_smaller['Description'] = big_df_smaller['Description'].apply(lambda x: re.sub(pattern, 'Improper Equipment', x))"
   ]
  },
  {
   "cell_type": "code",
   "execution_count": 29,
   "metadata": {},
   "outputs": [],
   "source": [
    "# Use Regex to replace any description including speeding with just \"Speeding\"\n",
    "pattern = re.compile(r'.*HEADLIGHT.*', flags=re.IGNORECASE)\n",
    "\n",
    "big_df_smaller['Description'] = big_df_smaller['Description'].apply(lambda x: re.sub(pattern, 'Improper Equipment', x))"
   ]
  },
  {
   "cell_type": "code",
   "execution_count": 30,
   "metadata": {},
   "outputs": [],
   "source": [
    "# Use Regex to replace any description including speeding with just \"Speeding\"\n",
    "pattern = re.compile(r'.*REQUIRED.*MINIMUM.*EQUIPMENT.*', flags=re.IGNORECASE)\n",
    "\n",
    "big_df_smaller['Description'] = big_df_smaller['Description'].apply(lambda x: re.sub(pattern, 'Improper Equipment', x))"
   ]
  },
  {
   "cell_type": "code",
   "execution_count": 31,
   "metadata": {},
   "outputs": [],
   "source": [
    "# Use Regex to replace any description including speeding with just \"Speeding\"\n",
    "pattern = re.compile(r'.*INOPERATIVE.*', flags=re.IGNORECASE)\n",
    "\n",
    "big_df_smaller['Description'] = big_df_smaller['Description'].apply(lambda x: re.sub(pattern, 'Improper Equipment', x))"
   ]
  },
  {
   "cell_type": "code",
   "execution_count": 32,
   "metadata": {},
   "outputs": [
    {
     "data": {
      "text/plain": [
       "9413"
      ]
     },
     "execution_count": 32,
     "metadata": {},
     "output_type": "execute_result"
    }
   ],
   "source": [
    "big_df_smaller[\"Description\"].nunique()"
   ]
  },
  {
   "cell_type": "code",
   "execution_count": 33,
   "metadata": {},
   "outputs": [],
   "source": [
    "# Use Regex to replace any description including speeding with just \"Speeding\"\n",
    "pattern = re.compile(r'.*PARK.*', flags=re.IGNORECASE)\n",
    "\n",
    "big_df_smaller['Description'] = big_df_smaller['Description'].apply(lambda x: re.sub(pattern, 'Non-Moving Violation', x))"
   ]
  },
  {
   "cell_type": "code",
   "execution_count": 34,
   "metadata": {},
   "outputs": [],
   "source": [
    "# Use Regex to replace any description including speeding with just \"Speeding\"\n",
    "pattern = re.compile(r'.*ABANDONING.*VEH.*', flags=re.IGNORECASE)\n",
    "\n",
    "big_df_smaller['Description'] = big_df_smaller['Description'].apply(lambda x: re.sub(pattern, 'Non-Moving Violation', x))"
   ]
  },
  {
   "cell_type": "code",
   "execution_count": 35,
   "metadata": {},
   "outputs": [
    {
     "data": {
      "text/plain": [
       "9151"
      ]
     },
     "execution_count": 35,
     "metadata": {},
     "output_type": "execute_result"
    }
   ],
   "source": [
    "big_df_smaller[\"Description\"].nunique()"
   ]
  },
  {
   "cell_type": "code",
   "execution_count": 36,
   "metadata": {},
   "outputs": [],
   "source": [
    "# Use Regex to replace any description including speeding with just \"Speeding\"\n",
    "pattern = re.compile(r'.*INFLUENCE.*ALCOHOL.*', flags=re.IGNORECASE)\n",
    "\n",
    "big_df_smaller['Description'] = big_df_smaller['Description'].apply(lambda x: re.sub(pattern, 'DUI', x))"
   ]
  },
  {
   "cell_type": "code",
   "execution_count": 37,
   "metadata": {},
   "outputs": [],
   "source": [
    "# Use Regex to replace any description including speeding with just \"Speeding\"\n",
    "pattern = re.compile(r'.*IMPAIRED.*ALCOHOL.*', flags=re.IGNORECASE)\n",
    "\n",
    "big_df_smaller['Description'] = big_df_smaller['Description'].apply(lambda x: re.sub(pattern, 'DUI', x))"
   ]
  },
  {
   "cell_type": "code",
   "execution_count": 38,
   "metadata": {},
   "outputs": [],
   "source": [
    "# Use Regex to replace any description including speeding with just \"Speeding\"\n",
    "pattern = re.compile(r'.*FAILED.*STOP.*SIGN.*', flags=re.IGNORECASE)\n",
    "\n",
    "big_df_smaller['Description'] = big_df_smaller['Description'].apply(lambda x: re.sub(pattern, 'Improper Stop', x))"
   ]
  },
  {
   "cell_type": "code",
   "execution_count": 39,
   "metadata": {},
   "outputs": [],
   "source": [
    "# Use Regex to replace any description including speeding with just \"Speeding\"\n",
    "pattern = re.compile(r'.*FAILURE.*STOP.*SIGN.*', flags=re.IGNORECASE)\n",
    "\n",
    "big_df_smaller['Description'] = big_df_smaller['Description'].apply(lambda x: re.sub(pattern, 'Improper Stop', x))"
   ]
  },
  {
   "cell_type": "code",
   "execution_count": 40,
   "metadata": {},
   "outputs": [],
   "source": [
    "# Use Regex to replace any description including speeding with just \"Speeding\"\n",
    "pattern = re.compile(r'.*FAIL.*STOP.*SIGN.*', flags=re.IGNORECASE)\n",
    "\n",
    "big_df_smaller['Description'] = big_df_smaller['Description'].apply(lambda x: re.sub(pattern, 'Improper Stop', x))"
   ]
  },
  {
   "cell_type": "code",
   "execution_count": 41,
   "metadata": {},
   "outputs": [],
   "source": [
    "# Use Regex to replace any description including speeding with just \"Speeding\"\n",
    "pattern = re.compile(r'.*FAILURE.*STOP.*SIGNAL.*', flags=re.IGNORECASE)\n",
    "\n",
    "big_df_smaller['Description'] = big_df_smaller['Description'].apply(lambda x: re.sub(pattern, 'Improper Stop', x))"
   ]
  },
  {
   "cell_type": "code",
   "execution_count": 42,
   "metadata": {},
   "outputs": [],
   "source": [
    "# Use Regex to replace any description including speeding with just \"Speeding\"\n",
    "pattern = re.compile(r'.*FAILED.*STOP.*SIGNAL.*', flags=re.IGNORECASE)\n",
    "\n",
    "big_df_smaller['Description'] = big_df_smaller['Description'].apply(lambda x: re.sub(pattern, 'Improper Stop', x))"
   ]
  },
  {
   "cell_type": "code",
   "execution_count": 43,
   "metadata": {},
   "outputs": [],
   "source": [
    "# Use Regex to replace any description including speeding with just \"Speeding\"\n",
    "pattern = re.compile(r'.*FAIL.*STOP.*SIGNAL.*', flags=re.IGNORECASE)\n",
    "\n",
    "big_df_smaller['Description'] = big_df_smaller['Description'].apply(lambda x: re.sub(pattern, 'Improper Stop', x))"
   ]
  },
  {
   "cell_type": "code",
   "execution_count": 44,
   "metadata": {},
   "outputs": [
    {
     "data": {
      "text/plain": [
       "8767"
      ]
     },
     "execution_count": 44,
     "metadata": {},
     "output_type": "execute_result"
    }
   ],
   "source": [
    "big_df_smaller[\"Description\"].nunique()"
   ]
  },
  {
   "cell_type": "code",
   "execution_count": 45,
   "metadata": {},
   "outputs": [],
   "source": [
    "# Use Regex to replace any description including speeding with just \"Speeding\"\n",
    "pattern = re.compile(r'.*ELECTRONIC.*MSG.*', flags=re.IGNORECASE)\n",
    "\n",
    "big_df_smaller['Description'] = big_df_smaller['Description'].apply(lambda x: re.sub(pattern, 'Texting', x))"
   ]
  },
  {
   "cell_type": "code",
   "execution_count": 46,
   "metadata": {},
   "outputs": [
    {
     "data": {
      "text/plain": [
       "8464"
      ]
     },
     "execution_count": 46,
     "metadata": {},
     "output_type": "execute_result"
    }
   ],
   "source": [
    "big_df_smaller[\"Description\"].nunique()"
   ]
  },
  {
   "cell_type": "markdown",
   "metadata": {},
   "source": [
    "### Function to replace the complete column value if a substring matches"
   ]
  },
  {
   "cell_type": "code",
   "execution_count": 47,
   "metadata": {},
   "outputs": [],
   "source": [
    "# Function to replace a complete value if a substring matches\n",
    "def data_cleanup(df, column_name, substring, replacement):\n",
    "    mask = df[column_name].str.contains(substring, case=False)\n",
    "    df.loc[mask, column_name] = replacement\n",
    "    return df"
   ]
  },
  {
   "cell_type": "code",
   "execution_count": 48,
   "metadata": {},
   "outputs": [],
   "source": [
    "# Replace Decription with REGISTRATION to 'Registration Violation'\n",
    "column_to_modify = 'Description'\n",
    "substring_to_match = 'REGISTRATION'\n",
    "replacement_value = 'Registration Violation'\n",
    "big_df_smaller = data_cleanup(big_df_smaller, column_to_modify, substring_to_match, replacement_value)"
   ]
  },
  {
   "cell_type": "code",
   "execution_count": 49,
   "metadata": {},
   "outputs": [],
   "source": [
    "# Replace Decription with REGISTRATION to 'Registration Violation'\n",
    "column_to_modify = 'Description'\n",
    "substring_to_match = 'UNREGISTERED'\n",
    "replacement_value = 'Registration Violation'\n",
    "big_df_smaller = data_cleanup(big_df_smaller, column_to_modify, substring_to_match, replacement_value)"
   ]
  },
  {
   "cell_type": "code",
   "execution_count": 50,
   "metadata": {},
   "outputs": [
    {
     "data": {
      "text/plain": [
       "8012"
      ]
     },
     "execution_count": 50,
     "metadata": {},
     "output_type": "execute_result"
    }
   ],
   "source": [
    "big_df_smaller[\"Description\"].nunique()"
   ]
  },
  {
   "cell_type": "code",
   "execution_count": 51,
   "metadata": {},
   "outputs": [],
   "source": [
    "# Replace Decription with SEATBELT to 'SeatBelt - Not restrained'\n",
    "column_to_modify = 'Description'\n",
    "substring_to_match = 'SEATBELT'\n",
    "replacement_value = 'SeatBelt - Not restrained'\n",
    "big_df_smaller = data_cleanup(big_df_smaller, column_to_modify, substring_to_match, replacement_value)"
   ]
  },
  {
   "cell_type": "code",
   "execution_count": 52,
   "metadata": {},
   "outputs": [],
   "source": [
    "# Replace Decription with SEAT BELT to 'SeatBelt - Not restrained'\n",
    "column_to_modify = 'Description'\n",
    "substring_to_match = 'SEAT BELT'\n",
    "replacement_value = 'SeatBelt - Not restrained'\n",
    "big_df_smaller = data_cleanup(big_df_smaller, column_to_modify, substring_to_match, replacement_value)"
   ]
  },
  {
   "cell_type": "code",
   "execution_count": 53,
   "metadata": {},
   "outputs": [
    {
     "data": {
      "text/plain": [
       "7823"
      ]
     },
     "execution_count": 53,
     "metadata": {},
     "output_type": "execute_result"
    }
   ],
   "source": [
    "big_df_smaller[\"Description\"].nunique()"
   ]
  },
  {
   "cell_type": "code",
   "execution_count": 54,
   "metadata": {},
   "outputs": [],
   "source": [
    "# Replace Decription with LICENSE to 'License Violation'\n",
    "column_to_modify = 'Description'\n",
    "substring_to_match = 'LICENSE'\n",
    "replacement_value = 'License Violation'\n",
    "big_df_smaller = data_cleanup(big_df_smaller, column_to_modify, substring_to_match, replacement_value)"
   ]
  },
  {
   "cell_type": "code",
   "execution_count": 55,
   "metadata": {},
   "outputs": [
    {
     "data": {
      "text/plain": [
       "7392"
      ]
     },
     "execution_count": 55,
     "metadata": {},
     "output_type": "execute_result"
    }
   ],
   "source": [
    "big_df_smaller[\"Description\"].nunique()"
   ]
  },
  {
   "cell_type": "code",
   "execution_count": 56,
   "metadata": {},
   "outputs": [],
   "source": [
    "# Replace Decription with SUSPENDED to 'Suspended License or Registration'\n",
    "column_to_modify = 'Description'\n",
    "substring_to_match = 'SUSPENDED'\n",
    "replacement_value = 'Suspended License or Registration'\n",
    "big_df_smaller = data_cleanup(big_df_smaller, column_to_modify, substring_to_match, replacement_value)"
   ]
  },
  {
   "cell_type": "code",
   "execution_count": 57,
   "metadata": {},
   "outputs": [],
   "source": [
    "# Replace Decription with LANE to 'Lane Violation'\n",
    "column_to_modify = 'Description'\n",
    "substring_to_match = 'LANE'\n",
    "replacement_value = 'Lane Violation'\n",
    "big_df_smaller = data_cleanup(big_df_smaller, column_to_modify, substring_to_match, replacement_value)"
   ]
  },
  {
   "cell_type": "code",
   "execution_count": 58,
   "metadata": {},
   "outputs": [
    {
     "data": {
      "text/plain": [
       "6961"
      ]
     },
     "execution_count": 58,
     "metadata": {},
     "output_type": "execute_result"
    }
   ],
   "source": [
    "big_df_smaller[\"Description\"].nunique()"
   ]
  },
  {
   "cell_type": "code",
   "execution_count": 59,
   "metadata": {},
   "outputs": [],
   "source": [
    "# Replace Decription with UNINSURED to 'Uninsured Vehicle'\n",
    "column_to_modify = 'Description'\n",
    "substring_to_match = 'UNINSURED'\n",
    "replacement_value = 'Uninsured Vehicle'\n",
    "big_df_smaller = data_cleanup(big_df_smaller, column_to_modify, substring_to_match, replacement_value)"
   ]
  },
  {
   "cell_type": "code",
   "execution_count": 60,
   "metadata": {},
   "outputs": [
    {
     "data": {
      "text/plain": [
       "6852"
      ]
     },
     "execution_count": 60,
     "metadata": {},
     "output_type": "execute_result"
    }
   ],
   "source": [
    "big_df_smaller[\"Description\"].nunique()"
   ]
  },
  {
   "cell_type": "code",
   "execution_count": 61,
   "metadata": {},
   "outputs": [],
   "source": [
    "# Replace Decription with FAILURE TO STOP to 'Failure to stop at different circumstances'\n",
    "column_to_modify = 'Description'\n",
    "substring_to_match = 'FAILURE TO STOP'\n",
    "replacement_value = 'Failure to stop at different circumstances'\n",
    "big_df_smaller = data_cleanup(big_df_smaller, column_to_modify, substring_to_match, replacement_value)"
   ]
  },
  {
   "cell_type": "code",
   "execution_count": 62,
   "metadata": {},
   "outputs": [
    {
     "data": {
      "text/plain": [
       "6692"
      ]
     },
     "execution_count": 62,
     "metadata": {},
     "output_type": "execute_result"
    }
   ],
   "source": [
    "big_df_smaller[\"Description\"].nunique()"
   ]
  },
  {
   "cell_type": "code",
   "execution_count": 63,
   "metadata": {},
   "outputs": [],
   "source": [
    "# Use Regex to replace any description including speeding with just \"Speeding\"\n",
    "pattern = re.compile(r'.*PHONE.*', flags=re.IGNORECASE)\n",
    "\n",
    "big_df_smaller['Description'] = big_df_smaller['Description'].apply(lambda x: re.sub(pattern, 'Using Phone', x))"
   ]
  },
  {
   "cell_type": "code",
   "execution_count": 64,
   "metadata": {},
   "outputs": [],
   "source": [
    "# Use Regex to replace any description including speeding with just \"Speeding\"\n",
    "pattern = re.compile(r'.*TEXTMSG.*', flags=re.IGNORECASE)\n",
    "\n",
    "big_df_smaller['Description'] = big_df_smaller['Description'].apply(lambda x: re.sub(pattern, 'Using Phone', x))"
   ]
  },
  {
   "cell_type": "code",
   "execution_count": 65,
   "metadata": {},
   "outputs": [],
   "source": [
    "# Use Regex to replace any description including speeding with just \"Speeding\"\n",
    "pattern = re.compile(r'.*TEXT.*', flags=re.IGNORECASE)\n",
    "\n",
    "big_df_smaller['Description'] = big_df_smaller['Description'].apply(lambda x: re.sub(pattern, 'Using Phone', x))"
   ]
  },
  {
   "cell_type": "code",
   "execution_count": 66,
   "metadata": {},
   "outputs": [
    {
     "data": {
      "text/plain": [
       "6432"
      ]
     },
     "execution_count": 66,
     "metadata": {},
     "output_type": "execute_result"
    }
   ],
   "source": [
    "big_df_smaller[\"Description\"].nunique()"
   ]
  },
  {
   "cell_type": "code",
   "execution_count": 67,
   "metadata": {},
   "outputs": [],
   "source": [
    "# Use Regex to replace any description including speeding with just \"Speeding\"\n",
    "pattern = re.compile(r'.*TINT.*', flags=re.IGNORECASE)\n",
    "\n",
    "big_df_smaller['Description'] = big_df_smaller['Description'].apply(lambda x: re.sub(pattern, 'Obstructed View', x))"
   ]
  },
  {
   "cell_type": "code",
   "execution_count": 68,
   "metadata": {},
   "outputs": [],
   "source": [
    "# Use Regex to replace any description including speeding with just \"Speeding\"\n",
    "pattern = re.compile(r'.*OBSTRUCTED.*', flags=re.IGNORECASE)\n",
    "\n",
    "big_df_smaller['Description'] = big_df_smaller['Description'].apply(lambda x: re.sub(pattern, 'Obstructed View', x))"
   ]
  },
  {
   "cell_type": "code",
   "execution_count": 69,
   "metadata": {},
   "outputs": [],
   "source": [
    "# Use Regex to replace any description including speeding with just \"Speeding\"\n",
    "pattern = re.compile(r'.*RECKLESS.*', flags=re.IGNORECASE)\n",
    "\n",
    "big_df_smaller['Description'] = big_df_smaller['Description'].apply(lambda x: re.sub(pattern, 'Reckless Driving', x))"
   ]
  },
  {
   "cell_type": "code",
   "execution_count": 70,
   "metadata": {},
   "outputs": [],
   "source": [
    "# Use Regex to replace any description including speeding with just \"Speeding\"\n",
    "pattern = re.compile(r'.*ACCIDENT.*', flags=re.IGNORECASE)\n",
    "\n",
    "big_df_smaller['Description'] = big_df_smaller['Description'].apply(lambda x: re.sub(pattern, 'Involved in Accident', x))"
   ]
  },
  {
   "cell_type": "code",
   "execution_count": 71,
   "metadata": {},
   "outputs": [],
   "source": [
    "# Use Regex to replace any description including speeding with just \"Speeding\"\n",
    "pattern = re.compile(r'.*UNATTENDED.*DAMAGED.*', flags=re.IGNORECASE)\n",
    "\n",
    "big_df_smaller['Description'] = big_df_smaller['Description'].apply(lambda x: re.sub(pattern, 'Involved in Accident', x))"
   ]
  },
  {
   "cell_type": "code",
   "execution_count": 72,
   "metadata": {},
   "outputs": [
    {
     "data": {
      "text/plain": [
       "5777"
      ]
     },
     "execution_count": 72,
     "metadata": {},
     "output_type": "execute_result"
    }
   ],
   "source": [
    "big_df_smaller[\"Description\"].nunique()"
   ]
  },
  {
   "cell_type": "code",
   "execution_count": 73,
   "metadata": {},
   "outputs": [],
   "source": [
    "# Replace Decription with PRIVATE PROPERTY to 'Trespassing'\n",
    "column_to_modify = 'Description'\n",
    "substring_to_match = 'PRIVATE PROPERTY'\n",
    "replacement_value = 'Trespassing'\n",
    "big_df_smaller = data_cleanup(big_df_smaller, column_to_modify, substring_to_match, replacement_value)"
   ]
  },
  {
   "cell_type": "code",
   "execution_count": 74,
   "metadata": {},
   "outputs": [
    {
     "data": {
      "text/plain": [
       "5726"
      ]
     },
     "execution_count": 74,
     "metadata": {},
     "output_type": "execute_result"
    }
   ],
   "source": [
    "big_df_smaller[\"Description\"].nunique()"
   ]
  },
  {
   "cell_type": "code",
   "execution_count": 75,
   "metadata": {},
   "outputs": [],
   "source": [
    "# Replace Decription with ' TURN' to 'Unsafe Turns'. Note the blank space before TURN to avoid replacing descriptions with 'RETURN'\n",
    "column_to_modify = 'Description'\n",
    "substring_to_match = ' TURN'\n",
    "replacement_value = 'Unsafe Turns'\n",
    "big_df_smaller = data_cleanup(big_df_smaller, column_to_modify, substring_to_match, replacement_value)"
   ]
  },
  {
   "cell_type": "code",
   "execution_count": 76,
   "metadata": {},
   "outputs": [],
   "source": [
    "# Replace Decription with '-TURN' to 'Unsafe Turns'.\n",
    "column_to_modify = 'Description'\n",
    "substring_to_match = '-TURN'\n",
    "replacement_value = 'Unsafe Turns'\n",
    "big_df_smaller = data_cleanup(big_df_smaller, column_to_modify, substring_to_match, replacement_value)"
   ]
  },
  {
   "cell_type": "code",
   "execution_count": 77,
   "metadata": {},
   "outputs": [],
   "source": [
    "# Combine Decription with 'DRIVING OFF ROADWAY WHILE PASSING VEHICLE' and 'DRIVING MOTOR VEHICLE OFF ROADWAY WHILE PASSING VEHICLE'\n",
    "column_to_modify = 'Description'\n",
    "substring_to_match = 'OFF ROADWAY'\n",
    "replacement_value = 'DRIVING OFF ROADWAY WHILE PASSING VEHICLE'\n",
    "big_df_smaller = data_cleanup(big_df_smaller, column_to_modify, substring_to_match, replacement_value)"
   ]
  },
  {
   "cell_type": "code",
   "execution_count": 78,
   "metadata": {},
   "outputs": [],
   "source": [
    "# Replace Decription with 'CROSSWALK' to 'Defy Crosswalk rules'.\n",
    "column_to_modify = 'Description'\n",
    "substring_to_match = 'CROSSWALK'\n",
    "replacement_value = 'Defy Crosswalk rules'\n",
    "big_df_smaller = data_cleanup(big_df_smaller, column_to_modify, substring_to_match, replacement_value)"
   ]
  },
  {
   "cell_type": "code",
   "execution_count": 79,
   "metadata": {},
   "outputs": [
    {
     "data": {
      "text/plain": [
       "5586"
      ]
     },
     "execution_count": 79,
     "metadata": {},
     "output_type": "execute_result"
    }
   ],
   "source": [
    "big_df_smaller[\"Description\"].nunique()"
   ]
  },
  {
   "cell_type": "code",
   "execution_count": 80,
   "metadata": {},
   "outputs": [
    {
     "data": {
      "text/plain": [
       "Speeding                                                                        301842\n",
       "Registration Violation                                                          268130\n",
       "License Violation                                                               184669\n",
       "DRIVER FAILURE TO OBEY PROPERLY PLACED TRAFFIC CONTROL DEVICE INSTRUCTIONS      148229\n",
       "Improper Stop                                                                   113981\n",
       "                                                                                 ...  \n",
       "UNLAWFUL USE OF HISTORIC PASSENGER VEH.,OR GENERAL DAILY TRANSPORTATION              1\n",
       "OPERATING MOTOR VEHICLE WITH FLAT TIRE, AXLE 2 RIGHT SIDE OUTER TIRE                 1\n",
       "DRIVING TO DRIVE) VEH. WHILE SO FAR IMPAIRED BY DRUGS CANNOT DRIVE SAFELY            1\n",
       "FAIL APPLY W/IN 48 HOURS FOR REPLACEMENT OF AFFIX-ED CURRENT REG.PLATE,TABS          1\n",
       "FAILURE OF MV OPER. DRIVING ON HWY TO  CARRY  EVID. OF REQ'D SECURITY FOR MV         1\n",
       "Name: Description, Length: 5586, dtype: int64"
      ]
     },
     "execution_count": 80,
     "metadata": {},
     "output_type": "execute_result"
    }
   ],
   "source": [
    "big_df_smaller[\"Description\"].value_counts()"
   ]
  },
  {
   "cell_type": "code",
   "execution_count": 81,
   "metadata": {},
   "outputs": [],
   "source": [
    "# Assuming 'Driver State' is a column in your DataFrame\n",
    "driver_states_info = big_df_smaller['Driver State']\n",
    "\n",
    "# Create a new column 'State Category' and set default value to 'out of state'\n",
    "big_df_smaller['Driver State Category'] = 'out of state'\n",
    "\n",
    "# Update the values based on the condition\n",
    "big_df_smaller.loc[driver_states_info == 'MD', 'Driver State Category'] = 'in state'"
   ]
  },
  {
   "cell_type": "code",
   "execution_count": 82,
   "metadata": {},
   "outputs": [],
   "source": [
    "# Assuming 'Driver State' is a column in your DataFrame\n",
    "plate_states_info = big_df_smaller['State']\n",
    "\n",
    "# Create a new column 'State Category' and set default value to 'out of state'\n",
    "big_df_smaller['License Plate State Category'] = 'out of state'\n",
    "\n",
    "# Update the values based on the condition\n",
    "big_df_smaller.loc[plate_states_info == 'MD', 'License Plate State Category'] = 'in state'"
   ]
  },
  {
   "cell_type": "code",
   "execution_count": 83,
   "metadata": {},
   "outputs": [],
   "source": [
    "big_df_smaller['Make'].replace('TOYT', 'TOYOTA', inplace=True)\n",
    "big_df_smaller['Make'].replace('HOND', 'HONDA', inplace=True)\n",
    "big_df_smaller['Make'].replace('CHEV', 'CHEVROLET', inplace=True)\n",
    "big_df_smaller['Make'].replace('NISS', 'NISSAN', inplace=True)\n",
    "big_df_smaller['Make'].replace('MERZ', 'MERCEDES', inplace=True)\n",
    "big_df_smaller['Make'].replace('HYUN', 'HYUNDAI', inplace=True)\n",
    "big_df_smaller['Make'].replace('VOLK', 'VOLKSWAGON', inplace=True)\n",
    "big_df_smaller['Make'].replace('ACUR', 'ACURA', inplace=True)\n",
    "big_df_smaller['Make'].replace('DODG', 'DODGE', inplace=True)\n",
    "big_df_smaller['Make'].replace('CHEVY', 'CHEVROLET', inplace=True)\n",
    "big_df_smaller['Make'].replace('CHRY', 'CHRYSLER', inplace=True)\n",
    "big_df_smaller['Make'].replace('MITS', 'MITSUBISHI', inplace=True)"
   ]
  },
  {
   "cell_type": "code",
   "execution_count": 84,
   "metadata": {},
   "outputs": [],
   "source": [
    "big_df_smaller['Make'].replace('SUBA', 'SUBARU', inplace=True)\n",
    "big_df_smaller['Make'].replace('MAZD', 'MAZDA', inplace=True)\n",
    "big_df_smaller['Make'].replace('CADI', 'CADILLAC', inplace=True)\n",
    "big_df_smaller['Make'].replace('VW', 'VOLKSWAGON', inplace=True)\n",
    "big_df_smaller['Make'].replace('INFI', 'INFINITI', inplace=True)\n",
    "big_df_smaller['Make'].replace('VOLKS', 'VOLKSWAGON', inplace=True)\n",
    "big_df_smaller['Make'].replace('MERC', 'MERCEDES', inplace=True)\n",
    "big_df_smaller['Make'].replace('LEXS', 'LEXUS', inplace=True)\n",
    "big_df_smaller['Make'].replace('LEXU', 'LEXUS', inplace=True)\n",
    "big_df_smaller['Make'].replace('VOLV', 'VOLVO', inplace=True)\n",
    "big_df_smaller['Make'].replace('PONT', 'PONTIAC', inplace=True)\n",
    "big_df_smaller['Make'].replace('TOYO', 'TOYOTA', inplace=True)\n",
    "big_df_smaller['Make'].replace('LINC', 'LINCOLN', inplace=True)\n",
    "big_df_smaller['Make'].replace('INIFINITY', 'INFINITI', inplace=True)\n",
    "big_df_smaller['Make'].replace('BUIC', 'BUICK', inplace=True)\n",
    "big_df_smaller['Make'].replace('MERCEDEZ', 'MERCEDES', inplace=True)\n",
    "big_df_smaller['Make'].replace('MERCEDES BENZ', 'MERCEDES', inplace=True)\n",
    "big_df_smaller['Make'].replace('TOY', 'TOYOTA', inplace=True)\n",
    "big_df_smaller['Make'].replace('OLDS', 'OLDSMOBILE', inplace=True)\n",
    "big_df_smaller['Make'].replace('NISSIAN', 'NISSAN', inplace=True)\n",
    "big_df_smaller['Make'].replace('LNDR', 'LAND-ROVER', inplace=True)\n",
    "big_df_smaller['Make'].replace('LAND ROVER', 'LAND-ROVER', inplace=True)\n",
    "big_df_smaller['Make'].replace('PORSHE', 'PORSCHE', inplace=True)\n",
    "big_df_smaller['Make'].replace('SATU', 'SATURN', inplace=True)\n",
    "big_df_smaller['Make'].replace('HYUND', 'HYUNDAI', inplace=True)\n",
    "big_df_smaller['Make'].replace('RANGE ROVER', 'RANGE-ROVER', inplace=True)\n",
    "big_df_smaller['Make'].replace('TOYOT', 'TOYOTA', inplace=True)\n",
    "big_df_smaller['Make'].replace('TOYTA', 'TOYOTA', inplace=True)\n",
    "big_df_smaller['Make'].replace('CHEVORLET', 'CHEVROLET', inplace=True)\n",
    "big_df_smaller['Make'].replace('INTL', 'INTERNATIONAL', inplace=True)\n",
    "big_df_smaller['Make'].replace('PTRB', 'PETERBILT', inplace=True)\n",
    "big_df_smaller['Make'].replace('ISUZ', 'ISUZU', inplace=True)\n",
    "big_df_smaller['Make'].replace('CHRYS', 'CHRYSLER', inplace=True)\n",
    "big_df_smaller['Make'].replace('LANDROVER', 'LAND-ROVER', inplace=True)\n",
    "big_df_smaller['Make'].replace('JAGU', 'JAGUAR', inplace=True)\n",
    "big_df_smaller['Make'].replace('ISU', 'ISUZU', inplace=True)\n",
    "big_df_smaller['Make'].replace('SCIO', 'SCION', inplace=True)\n",
    "big_df_smaller['Make'].replace('LEX', 'LEXUS', inplace=True)\n",
    "big_df_smaller['Make'].replace('SUZU', 'SUZUKI', inplace=True)\n",
    "big_df_smaller['Make'].replace('FRHT', 'FREIGHTLINER', inplace=True)\n",
    "big_df_smaller['Make'].replace('SUZI', 'SUZUKI', inplace=True)\n",
    "big_df_smaller['Make'].replace('STRN', 'SATURN', inplace=True)\n",
    "big_df_smaller['Make'].replace('HYUNDIA', 'HYUNDAI', inplace=True)\n",
    "big_df_smaller['Make'].replace('CHRYSTLER', 'CHRYSLER', inplace=True)\n",
    "big_df_smaller['Make'].replace('CADILAC', 'CADILLAC', inplace=True)\n",
    "big_df_smaller['Make'].replace('SUB', 'SUBARU', inplace=True)\n",
    "big_df_smaller['Make'].replace('PLYM', 'PLYMOUTH', inplace=True)\n",
    "big_df_smaller['Make'].replace('MITZ', 'MITSUBISHI', inplace=True)\n",
    "big_df_smaller['Make'].replace('TESL', 'TESLA', inplace=True)\n",
    "big_df_smaller['Make'].replace('CHEVEROLET', 'CHEVROLET', inplace=True)\n",
    "big_df_smaller['Make'].replace('INFIN', 'INFINITI', inplace=True)\n",
    "big_df_smaller['Make'].replace('MNNI', 'MINI', inplace=True)\n",
    "big_df_smaller['Make'].replace('SUBURU', 'SUBARU', inplace=True)\n",
    "big_df_smaller['Make'].replace('MITSU', 'MITSUBISHI', inplace=True)\n",
    "big_df_smaller['Make'].replace('MERCEDES-BENZ', 'MERCEDES', inplace=True)\n",
    "big_df_smaller['Make'].replace('HYUNDI', 'HYUNDAI', inplace=True)\n",
    "big_df_smaller['Make'].replace('TOYTOA', 'TOYOTA', inplace=True)\n",
    "big_df_smaller['Make'].replace('CRYSLER', 'CHRYSLER', inplace=True)\n",
    "big_df_smaller['Make'].replace('YAMA', 'YAMAHA', inplace=True)\n",
    "big_df_smaller['Make'].replace('SUBU', 'SUBARU', inplace=True)\n",
    "big_df_smaller['Make'].replace('MAZ', 'MAZDA', inplace=True)\n",
    "big_df_smaller['Make'].replace('HYUNDA', 'HYUNDAI', inplace=True)\n",
    "big_df_smaller['Make'].replace('HUMM', 'HUMMER', inplace=True)\n",
    "big_df_smaller['Make'].replace('RANG', 'RANGE-ROVER', inplace=True)\n",
    "big_df_smaller['Make'].replace('CAD', 'CADILLAC', inplace=True)\n",
    "big_df_smaller['Make'].replace('TOTY', 'TOYOTA', inplace=True)\n",
    "big_df_smaller['Make'].replace('MERZ BENZ', 'MERCEDES', inplace=True)\n",
    "big_df_smaller['Make'].replace('JAG', 'JAGUAR', inplace=True)\n",
    "big_df_smaller['Make'].replace('MAZADA', 'MAZDA', inplace=True)\n",
    "big_df_smaller['Make'].replace('BENZ', 'MERCEDES', inplace=True)\n",
    "big_df_smaller['Make'].replace('KAWK', 'KAWASAKI', inplace=True)\n",
    "big_df_smaller['Make'].replace('TAO TAO', 'TAOTAO', inplace=True)\n",
    "big_df_smaller['Make'].replace('NISSA', 'NISSAN', inplace=True)\n",
    "big_df_smaller['Make'].replace('SAA', 'SAAB', inplace=True)\n",
    "big_df_smaller['Make'].replace('MINI COOPER', 'MINI-COOPER', inplace=True)\n",
    "big_df_smaller['Make'].replace('MINI', 'MINI-COOPER', inplace=True)\n",
    "big_df_smaller['Make'].replace('KW', 'KAWASAKI', inplace=True)\n",
    "big_df_smaller['Make'].replace('SATR', 'SATURN', inplace=True)\n",
    "big_df_smaller['Make'].replace('INF', 'INFINITI', inplace=True)\n",
    "big_df_smaller['Make'].replace('HARLEY DAVIDSON', 'HARLEY-DAVIDSON', inplace=True)\n",
    "big_df_smaller['Make'].replace('PETE', 'PETERBILT', inplace=True)\n",
    "big_df_smaller['Make'].replace('HINDA', 'HONDA', inplace=True)\n",
    "big_df_smaller['Make'].replace('PETERBUILT', 'PETERBILT', inplace=True)\n",
    "big_df_smaller['Make'].replace('IZUZU', 'ISUZU', inplace=True)\n",
    "big_df_smaller['Make'].replace('HYUNDAY', 'HYUNDAI', inplace=True)\n",
    "big_df_smaller['Make'].replace('VOLKWAGON', 'VOLKSWAGON', inplace=True)\n",
    "big_df_smaller['Make'].replace('FREI', 'FREIGHTLINER', inplace=True)\n",
    "big_df_smaller['Make'].replace('INFINTI', 'INFINITI', inplace=True)\n",
    "big_df_smaller['Make'].replace('TOYOYA', 'TOYOTA', inplace=True)\n",
    "big_df_smaller['Make'].replace('HUNDAI', 'HYUNDAI', inplace=True)\n",
    "big_df_smaller['Make'].replace('HYNDAI', 'HYUNDAI', inplace=True)\n",
    "big_df_smaller['Make'].replace('MERCEDEZ BENZ', 'MERCEDES', inplace=True)\n",
    "big_df_smaller['Make'].replace('NISAN', 'NISSAN', inplace=True)\n",
    "big_df_smaller['Make'].replace('TSMR', 'TESLA', inplace=True)\n",
    "big_df_smaller['Make'].replace('CHEVE', 'CHEVROLET', inplace=True)\n",
    "big_df_smaller['Make'].replace('VOLKS WAGON', 'VOLKSWAGON', inplace=True)\n",
    "big_df_smaller['Make'].replace('HARLEY', 'HARLEY-DAVIDSON', inplace=True)\n",
    "big_df_smaller['Make'].replace('TOTOTA', 'TOYOTA', inplace=True)\n",
    "big_df_smaller['Make'].replace('PORCHE', 'PORSCHE', inplace=True)\n",
    "big_df_smaller['Make'].replace('HON', 'HONDA', inplace=True)\n",
    "big_df_smaller['Make'].replace('HYUDAI', 'HYUNDAI', inplace=True)\n",
    "big_df_smaller['Make'].replace('MASE', 'MASERATI', inplace=True)\n",
    "big_df_smaller['Make'].replace('HYANDAI', 'HYUNDAI', inplace=True)\n",
    "big_df_smaller['Make'].replace('KENW', 'KENWORTH', inplace=True)\n",
    "big_df_smaller['Make'].replace('MER', 'MERCEDES', inplace=True)\n",
    "big_df_smaller['Make'].replace('HUYN', 'HYUNDAI', inplace=True)\n",
    "big_df_smaller['Make'].replace('LAND', 'LAND-ROVER', inplace=True)\n",
    "big_df_smaller['Make'].replace('INFINIT', 'INFINITI', inplace=True)\n",
    "big_df_smaller['Make'].replace('BWM', 'BMW', inplace=True)\n",
    "big_df_smaller['Make'].replace('MADZA', 'MAZDA', inplace=True)\n",
    "big_df_smaller['Make'].replace('CHYRSLER', 'CHRYSLER', inplace=True)\n",
    "big_df_smaller['Make'].replace('CHEVEY', 'CHEVROLET', inplace=True)\n",
    "big_df_smaller['Make'].replace('HONA', 'HONDA', inplace=True)\n",
    "big_df_smaller['Make'].replace('CHYSLER', 'CHRYSLER', inplace=True)\n",
    "big_df_smaller['Make'].replace('TOYTOTA', 'TOYOTA', inplace=True)\n",
    "big_df_smaller['Make'].replace('MB', 'MERCEDES', inplace=True)\n",
    "big_df_smaller['Make'].replace('INTE', 'INTERNATIONAL', inplace=True)\n",
    "big_df_smaller['Make'].replace('ACCURA', 'ACURA', inplace=True)\n",
    "big_df_smaller['Make'].replace('FREIGHT', 'FREIGHTLINER', inplace=True)\n",
    "big_df_smaller['Make'].replace('MERZEDES', 'MERCEDES', inplace=True)\n",
    "big_df_smaller['Make'].replace('CHEVERLOT', 'CHEVROLET', inplace=True)\n",
    "big_df_smaller['Make'].replace('CEHVY', 'CHEVROLET', inplace=True)\n",
    "big_df_smaller['Make'].replace('TOYOA', 'TOYOTA', inplace=True)\n",
    "big_df_smaller['Make'].replace('TYOTA', 'TOYOTA', inplace=True)\n",
    "big_df_smaller['Make'].replace('TOYOYTA', 'TOYOTA', inplace=True)\n",
    "big_df_smaller['Make'].replace('VOLKSWAGGON', 'VOLKSWAGON', inplace=True)\n",
    "big_df_smaller['Make'].replace('VOLKWAGEN', 'VOLKSWAGON', inplace=True)\n",
    "big_df_smaller['Make'].replace('VOLSWAGON', 'VOLKSWAGON', inplace=True)\n",
    "big_df_smaller['Make'].replace('VOLTSWAGON', 'VOLKSWAGON', inplace=True)\n",
    "big_df_smaller['Make'].replace('FOR', 'FORD', inplace=True)\n",
    "big_df_smaller['Make'].replace('SMRT', 'SMART', inplace=True)\n",
    "big_df_smaller['Make'].replace('HUYNDAI', 'HYUNDAI', inplace=True)\n",
    "big_df_smaller['Make'].replace('HYU', 'HYUNDAI', inplace=True)\n",
    "big_df_smaller['Make'].replace('HYND', 'HYUNDAI', inplace=True)\n",
    "big_df_smaller['Make'].replace('HYN', 'HYUNDAI', inplace=True)\n",
    "big_df_smaller['Make'].replace('CRYS', 'CHRYSLER', inplace=True)\n",
    "big_df_smaller['Make'].replace('CHRYLSER', 'CHRYSLER', inplace=True)\n",
    "big_df_smaller['Make'].replace('CRYSTLER', 'CHRYSLER', inplace=True)\n",
    "big_df_smaller['Make'].replace('HNDA', 'HONDA', inplace=True)\n",
    "big_df_smaller['Make'].replace('HODA', 'HONDA', inplace=True)\n",
    "big_df_smaller['Make'].replace('MIT', 'MITSUBISHI', inplace=True)\n",
    "big_df_smaller['Make'].replace('MITSIBISHI', 'MITSUBISHI', inplace=True)\n",
    "big_df_smaller['Make'].replace('MISTUBISHI', 'MITSUBISHI', inplace=True)\n",
    "big_df_smaller['Make'].replace('MITSUBUSHI', 'MITSUBISHI', inplace=True)\n",
    "big_df_smaller['Make'].replace('MERC BENZ', 'MERCEDES', inplace=True)\n",
    "big_df_smaller['Make'].replace('MERCADES', 'MERCEDES', inplace=True)\n",
    "big_df_smaller['Make'].replace('NEW FLYER', 'NEW-FLYER', inplace=True)\n",
    "big_df_smaller['Make'].replace('HD', 'HARLEY-DAVIDSON', inplace=True)\n",
    "big_df_smaller['Make'].replace('RANGE', 'RANGE-ROVER', inplace=True)\n",
    "big_df_smaller['Make'].replace('SUBURA', 'SUBARU', inplace=True)\n",
    "big_df_smaller['Make'].replace('ACRUA', 'ACURA', inplace=True)\n",
    "big_df_smaller['Make'].replace('INFINI', 'INFINITI', inplace=True)\n",
    "big_df_smaller['Make'].replace('INFINITE', 'INFINITI', inplace=True)\n",
    "big_df_smaller['Make'].replace('INIFINITI', 'INFINITI', inplace=True)\n",
    "big_df_smaller['Make'].replace('SUZ', 'SUZUKI', inplace=True)\n",
    "big_df_smaller['Make'].replace('ROV', 'LEXUS', inplace=True)\n",
    "big_df_smaller['Make'].replace('INT', 'INTERNATIONAL', inplace=True)\n",
    "big_df_smaller['Make'].replace('DUCA', 'DUCATI', inplace=True)\n",
    "big_df_smaller['Make'].replace('SAT', 'SATURN', inplace=True)\n",
    "big_df_smaller['Make'].replace('CADDILAC', 'CADILLAC', inplace=True)\n",
    "big_df_smaller['Make'].replace('MITTS', 'MITSUBISHI', inplace=True)\n",
    "big_df_smaller['Make'].replace('COOPER', 'MINI-COOPER', inplace=True)\n",
    "big_df_smaller['Make'].replace('ALFA ROMEO', 'ALFA-ROMEO', inplace=True)\n",
    "big_df_smaller['Make'].replace('FOED', 'FORD', inplace=True)\n",
    "big_df_smaller['Make'].replace('STER', 'STERLING', inplace=True)\n",
    "big_df_smaller['Make'].replace('THOM', 'THOMAS', inplace=True)\n",
    "big_df_smaller['Make'].replace('MAZA', 'MAZDA', inplace=True)\n",
    "big_df_smaller['Make'].replace('ALFA', 'ALFA-ROMEO', inplace=True)\n",
    "big_df_smaller['Make'].replace('MECURY', 'MERCURY', inplace=True)\n",
    "big_df_smaller['Make'].replace('INIFINITI', 'INFINITI', inplace=True)\n",
    "big_df_smaller['Make'].replace('LEXIS', 'LEXUS', inplace=True)\n",
    "big_df_smaller['Make'].replace('HODNA', 'HONDA', inplace=True)\n",
    "big_df_smaller['Make'].replace('SUZIKI', 'SUZUKI', inplace=True)\n",
    "big_df_smaller['Make'].replace('DOGE', 'DODGE', inplace=True)\n",
    "big_df_smaller['Make'].replace('MITSUBSHI', 'MITSUBISHI', inplace=True)\n",
    "big_df_smaller['Make'].replace('HIUNDAI', 'HYUNDAI', inplace=True)\n",
    "big_df_smaller['Make'].replace('HYUNAI', 'HYUNDAI', inplace=True)\n",
    "big_df_smaller['Make'].replace('DIDGE', 'DODGE', inplace=True)\n",
    "big_df_smaller['Make'].replace('HYUANDI', 'HYUNDAI', inplace=True)\n",
    "big_df_smaller['Make'].replace('UNK', 'UNKNOWN', inplace=True)\n",
    "big_df_smaller['Make'].replace('HOMDA', 'HONDA', inplace=True)\n",
    "big_df_smaller['Make'].replace('HIONDA', 'HONDA', inplace=True)\n",
    "big_df_smaller['Make'].replace('CHEVROLETE', 'CHEVROLET', inplace=True)\n",
    "big_df_smaller['Make'].replace('NIS', 'NISSAN', inplace=True)\n",
    "big_df_smaller['Make'].replace('CADILLIAC', 'CADILLAC', inplace=True)\n",
    "big_df_smaller['Make'].replace('VOLKSW', 'VOLKSWAGON', inplace=True)\n",
    "big_df_smaller['Make'].replace('SION', 'SCION', inplace=True)\n",
    "big_df_smaller['Make'].replace('VOLSWAGEN', 'VOLKSWAGON', inplace=True)\n",
    "big_df_smaller['Make'].replace('VOLKSWAGAN', 'VOLKSWAGON', inplace=True)\n",
    "big_df_smaller['Make'].replace('LINCON', 'LINCOLN', inplace=True)\n",
    "big_df_smaller['Make'].replace('TOOTA', 'TOYOTA', inplace=True)\n",
    "big_df_smaller['Make'].replace('CHEROLET', 'CHEVROLET', inplace=True)\n",
    "big_df_smaller['Make'].replace('MINNI', 'MINI-COOPER', inplace=True)\n",
    "big_df_smaller['Make'].replace('WHITE', 'UNKNOWN', inplace=True)\n",
    "big_df_smaller['Make'].replace('INFINITY', 'INFINITI', inplace=True)\n",
    "big_df_smaller['Make'].replace('CHRISLER', 'CHRYSLER', inplace=True)\n",
    "big_df_smaller['Make'].replace('TOTOYA', 'TOYOTA', inplace=True)\n",
    "big_df_smaller['Make'].replace('HUNDAY', 'HYUNDAI', inplace=True)\n",
    "big_df_smaller['Make'].replace('CHYR', 'CHRYSLER', inplace=True)\n",
    "big_df_smaller['Make'].replace('FIRD', 'FORD', inplace=True)\n",
    "big_df_smaller['Make'].replace('SUSUKI', 'SUZUKI', inplace=True)\n",
    "big_df_smaller['Make'].replace('MITZUBISHI', 'MITZUBISHI', inplace=True)\n",
    "big_df_smaller['Make'].replace('HYUANDAI', 'HYUNDAI', inplace=True)\n",
    "big_df_smaller['Make'].replace('MIFU', 'UNKNOWN', inplace=True)\n",
    "big_df_smaller['Make'].replace('None', 'UNKNOWN', inplace=True)\n",
    "big_df_smaller['Make'].replace('CRY', 'CHRYSLER', inplace=True)\n",
    "big_df_smaller['Make'].replace('HARL', 'HARLEY-DAVIDSON', inplace=True)\n",
    "big_df_smaller['Make'].replace('WEST', 'UNKNOWN', inplace=True)\n",
    "big_df_smaller['Make'].replace('TOYOTA SCION', 'SCION', inplace=True)\n",
    "big_df_smaller['Make'].replace('BUIK', 'BUICK', inplace=True)\n",
    "big_df_smaller['Make'].replace('SUBAR', 'SUBARU', inplace=True)\n",
    "big_df_smaller['Make'].replace('VOLV0', 'VOLVO', inplace=True)\n",
    "big_df_smaller['Make'].replace('PREM', 'PREMIER', inplace=True)\n",
    "big_df_smaller['Make'].replace('NSSAN', 'NISSAN', inplace=True)\n",
    "big_df_smaller['Make'].replace('HYUNDAU', 'HYUNDAI', inplace=True)\n",
    "big_df_smaller['Make'].replace('TOYORA', 'TOYOTA', inplace=True)\n",
    "big_df_smaller['Make'].replace('NISSAM', 'NISSAN', inplace=True)\n",
    "big_df_smaller['Make'].replace('MITUBISHI', 'MITSUBISHI', inplace=True)\n",
    "big_df_smaller['Make'].replace('MITSHUBISHI', 'MITSUBISHI', inplace=True)\n",
    "big_df_smaller['Make'].replace('BENT', 'BENTLEY', inplace=True)\n",
    "big_df_smaller['Make'].replace('MADZ', 'MAZDA', inplace=True)\n",
    "big_df_smaller['Make'].replace('CHVY', 'CHEVROLET', inplace=True)\n",
    "big_df_smaller['Make'].replace('LEXSUS', 'LEXUS', inplace=True)\n",
    "big_df_smaller['Make'].replace('INTER', 'INTERNATIONAL', inplace=True)\n",
    "big_df_smaller['Make'].replace('SSR', 'CHEVROLET', inplace=True)\n",
    "big_df_smaller['Make'].replace('VIP', 'UNKNOWN', inplace=True)\n",
    "big_df_smaller['Make'].replace('MRAEZ', 'MASERATI', inplace=True)\n",
    "big_df_smaller['Make'].replace('MISSAN', 'NISSAN', inplace=True)\n",
    "big_df_smaller['Make'].replace('HONAD', 'HONDA', inplace=True)\n",
    "big_df_smaller['Make'].replace('WORK', 'UNKNOWN', inplace=True)\n",
    "big_df_smaller['Make'].replace('CHECY', 'CHEVROLET', inplace=True)\n",
    "big_df_smaller['Make'].replace('CHEVROLEY', 'CHEVROLET', inplace=True)\n",
    "big_df_smaller['Make'].replace('CHRSYLER', 'CHRYSLER', inplace=True)\n",
    "big_df_smaller['Make'].replace('ORD', 'FORD', inplace=True)\n",
    "big_df_smaller['Make'].replace('MITSUBISH', 'MITSUBISHI', inplace=True)\n",
    "big_df_smaller['Make'].replace('VOLS', 'VOLKSWAGON', inplace=True)\n",
    "big_df_smaller['Make'].replace('MERCZ', 'MERCEDES', inplace=True)\n",
    "big_df_smaller['Make'].replace('MITIS', 'MITSUBISHI', inplace=True)\n",
    "big_df_smaller['Make'].replace('CAMRY', 'TOYOTA', inplace=True)\n",
    "big_df_smaller['Make'].replace('CHRISLER', 'CHRYSLER', inplace=True)\n",
    "big_df_smaller['Make'].replace('NONE', 'UNKNOWN', inplace=True)\n",
    "big_df_smaller['Make'].replace('INFINITY', 'INFINITI', inplace=True)\n",
    "big_df_smaller['Make'].replace('MITZUBISHI', 'MITSUBISHI', inplace=True)\n",
    "big_df_smaller['Make'].replace('MREZ', 'MERCEDES', inplace=True)\n",
    "big_df_smaller['Make'].replace('TOYATA', 'TOYOTA', inplace=True)\n",
    "big_df_smaller['Make'].replace('SABB', 'SAAB', inplace=True)\n",
    "big_df_smaller['Make'].replace('CHEVRLET', 'CHEVROLET', inplace=True)\n",
    "big_df_smaller['Make'].replace('PORSH', 'PORSCHE', inplace=True)\n",
    "big_df_smaller['Make'].replace('FRT', 'FREIGHTLINER', inplace=True)\n",
    "big_df_smaller['Make'].replace('SCOOTER', 'UNKNOWN', inplace=True)\n",
    "big_df_smaller['Make'].replace('BMX', 'UNKNOWN', inplace=True)\n",
    "big_df_smaller['Make'].replace('MIST', 'MITSUBISHI', inplace=True)\n",
    "big_df_smaller['Make'].replace('KAWA', 'KAWASAKI', inplace=True)\n",
    "big_df_smaller['Make'].replace('ALTIMA', 'NISSAN', inplace=True)\n",
    "big_df_smaller['Make'].replace('ISZU', 'ISUZU', inplace=True)\n",
    "big_df_smaller['Make'].replace('FOD', 'FORD', inplace=True)\n",
    "big_df_smaller['Make'].replace('MERCEDS', 'MERCEDES', inplace=True)\n",
    "big_df_smaller['Make'].replace('ONDA', 'HONDA', inplace=True)\n",
    "big_df_smaller['Make'].replace('BENTLY', 'BENTLEY', inplace=True)\n",
    "big_df_smaller['Make'].replace('ACCORD', 'HONDA', inplace=True)\n",
    "big_df_smaller['Make'].replace('VK', 'UNKNOWN', inplace=True)\n",
    "big_df_smaller['Make'].replace('KAW', 'KAWASAKI', inplace=True)\n",
    "big_df_smaller['Make'].replace('MD', 'MERCEDES', inplace=True)\n",
    "big_df_smaller['Make'].replace('SUNNY', 'NISSAN', inplace=True)\n",
    "big_df_smaller['Make'].replace('HOMD', 'HONDA', inplace=True)\n",
    "big_df_smaller['Make'].replace('COROLLA', 'TOYOTA', inplace=True)\n",
    "big_df_smaller['Make'].replace('MECEDES', 'MERCEDES', inplace=True)\n",
    "big_df_smaller['Make'].replace('NISSSAN', 'NISSAN', inplace=True)\n",
    "big_df_smaller['Make'].replace('TPYOTA', 'TOYOTA', inplace=True)\n",
    "big_df_smaller['Make'].replace('SUBR', 'SUBARU', inplace=True)\n",
    "big_df_smaller['Make'].replace('XX', 'UNKNOWN', inplace=True)\n",
    "big_df_smaller['Make'].replace('FERR', 'FERRARI', inplace=True)\n",
    "big_df_smaller['Make'].replace('WV', 'VOLKSWAGON', inplace=True)\n",
    "big_df_smaller['Make'].replace('VOKSWAGON', 'VOLKSWAGON', inplace=True)\n",
    "big_df_smaller['Make'].replace('LEXUX', 'LEXUS', inplace=True)\n",
    "big_df_smaller['Make'].replace('WOLKSWAGEN', 'VOLKSWAGON', inplace=True)\n",
    "big_df_smaller['Make'].replace('KAWASKI', 'KAWASAKI', inplace=True)\n",
    "big_df_smaller['Make'].replace('TOYPTA', 'TOYOTA', inplace=True)\n",
    "big_df_smaller['Make'].replace('NISSON', 'NISSAN', inplace=True)\n",
    "big_df_smaller['Make'].replace('FORK', 'FORD', inplace=True)\n",
    "big_df_smaller['Make'].replace('CADALIC', 'CADILLAC', inplace=True)\n",
    "big_df_smaller['Make'].replace('VOLKSWA', 'VOLKSWAGON', inplace=True)\n",
    "big_df_smaller['Make'].replace('MITTSUBISHI', 'MITSUBISHI', inplace=True)\n",
    "big_df_smaller['Make'].replace('HUYUNDAI', 'HYUNDAI', inplace=True)\n",
    "big_df_smaller['Make'].replace('RANGEROVER', 'RANGE-ROVER', inplace=True)\n",
    "big_df_smaller['Make'].replace('IZU', 'ISUZU', inplace=True)\n",
    "big_df_smaller['Make'].replace('HOME', 'UNKNOWN', inplace=True)\n",
    "big_df_smaller['Make'].replace('KENILWORTH', 'UNKNOWN', inplace=True)\n",
    "big_df_smaller['Make'].replace('DODGE RAM', 'DODGE', inplace=True)\n",
    "big_df_smaller['Make'].replace('VOVLO', 'VOLVO', inplace=True)\n",
    "big_df_smaller['Make'].replace('LUXUS', 'LEXUS', inplace=True)\n",
    "big_df_smaller['Make'].replace('WESTERN STAR', 'WESTERN-STAR', inplace=True)\n",
    "big_df_smaller['Make'].replace('MBENZ', 'MERCEDES', inplace=True)"
   ]
  },
  {
   "cell_type": "code",
   "execution_count": 85,
   "metadata": {},
   "outputs": [],
   "source": [
    "big_df_smaller['Make'].replace('LEXAS', 'LEXUS', inplace=True)\n",
    "big_df_smaller['Make'].replace('NISSN', 'NISSAN', inplace=True)\n",
    "big_df_smaller['Make'].replace('STLG', 'STERLING', inplace=True)\n",
    "big_df_smaller['Make'].replace('MADA', 'MAZDA', inplace=True)\n",
    "big_df_smaller['Make'].replace('MAD', 'MAZDA', inplace=True)\n",
    "big_df_smaller['Make'].replace('VOLKWAG', 'VOLKSWAGON', inplace=True)\n",
    "big_df_smaller['Make'].replace('TELSA', 'TESLA', inplace=True)\n",
    "big_df_smaller['Make'].replace('PORSCH', 'PORSCHE', inplace=True)\n",
    "big_df_smaller['Make'].replace('PLYMOTH', 'PLYMOUTH', inplace=True)\n",
    "big_df_smaller['Make'].replace('LANR', 'LAND-ROVER', inplace=True)\n",
    "big_df_smaller['Make'].replace('TAO', 'TAOTAO', inplace=True)\n",
    "big_df_smaller['Make'].replace('CHEVYROLET', 'CHEVROLET', inplace=True)\n",
    "big_df_smaller['Make'].replace('DOGDE', 'DODGE', inplace=True)\n",
    "big_df_smaller['Make'].replace('VOL', 'VOLVO', inplace=True)\n",
    "big_df_smaller['Make'].replace('TAIWAN GOLDEN B', 'TAIWAN GOLDEN BEE', inplace=True)\n",
    "big_df_smaller['Make'].replace('MITSUB', 'MITSUBISHI', inplace=True)\n",
    "big_df_smaller['Make'].replace('MERCE', 'MERCEDES', inplace=True)\n",
    "big_df_smaller['Make'].replace('BNW', 'BMW', inplace=True)\n",
    "big_df_smaller['Make'].replace('LICOLN', 'LINCOLN', inplace=True)\n",
    "big_df_smaller['Make'].replace('MERCED', 'MERCEDES', inplace=True)\n",
    "big_df_smaller['Make'].replace('CHRYLER', 'CHRYSLER', inplace=True)\n",
    "big_df_smaller['Make'].replace('LINCOLIN', 'LINCOLN', inplace=True)\n",
    "big_df_smaller['Make'].replace('MERECEDES', 'MERCEDES', inplace=True)\n",
    "big_df_smaller['Make'].replace('TOYTO', 'TOYOTA', inplace=True)\n",
    "big_df_smaller['Make'].replace('CHVROLET', 'CHEVROLET', inplace=True)\n",
    "big_df_smaller['Make'].replace('EPO', 'UNKNOWN', inplace=True)\n",
    "big_df_smaller['Make'].replace('CHEVR', 'CHEVROLET', inplace=True)\n",
    "big_df_smaller['Make'].replace('TOT', 'TOYOTA', inplace=True)\n",
    "big_df_smaller['Make'].replace('BWI', 'UNKNOWN', inplace=True)\n",
    "big_df_smaller['Make'].replace('MISS', 'MITSUBISHI', inplace=True)\n",
    "big_df_smaller['Make'].replace('TOTYOTA', 'TOYOTA', inplace=True)\n",
    "big_df_smaller['Make'].replace('NISAAN', 'NISSAN', inplace=True)\n",
    "big_df_smaller['Make'].replace('CIVIC', 'HONDA', inplace=True)\n",
    "big_df_smaller['Make'].replace('TEST', 'UNKNOWN', inplace=True)\n",
    "big_df_smaller['Make'].replace('CHEVOLET', 'CHEVROLET', inplace=True)\n",
    "big_df_smaller['Make'].replace('MITISUBISHI', 'MITSUBISHI', inplace=True)\n",
    "big_df_smaller['Make'].replace('TPYPTA', 'TOYOTA', inplace=True)\n",
    "big_df_smaller['Make'].replace('OLDMOBILE', 'OLDSMOBILE', inplace=True)\n",
    "big_df_smaller['Make'].replace('CHY', 'CHEVROLET', inplace=True)\n",
    "big_df_smaller['Make'].replace('YOYOTA', 'TOYOTA', inplace=True)\n",
    "big_df_smaller['Make'].replace('CHEY', 'CHEVROLET', inplace=True)\n",
    "big_df_smaller['Make'].replace('SMAR', 'MART', inplace=True)\n",
    "big_df_smaller['Make'].replace('HONDS', 'HONDA', inplace=True)\n",
    "big_df_smaller['Make'].replace('HYUNADAI', 'HYUNDAI', inplace=True)\n",
    "big_df_smaller['Make'].replace('GENS', 'GENESIS', inplace=True)\n",
    "big_df_smaller['Make'].replace('ASTON MARTIN', 'ASTON-MARTIN', inplace=True)\n",
    "big_df_smaller['Make'].replace('CADILLA', 'CADILLAC', inplace=True)\n",
    "big_df_smaller['Make'].replace('HUND', 'HYUNDAI', inplace=True)\n",
    "big_df_smaller['Make'].replace('FTL', 'UNKNOWN', inplace=True)\n",
    "big_df_smaller['Make'].replace('SUBUARU', 'SUBARU', inplace=True)\n",
    "big_df_smaller['Make'].replace('MITSUBIHI', 'MITSUBISHI', inplace=True)\n",
    "big_df_smaller['Make'].replace('CEHV', 'CHEVROLET', inplace=True)\n",
    "big_df_smaller['Make'].replace('RAV4', 'TOYOTA', inplace=True)\n",
    "big_df_smaller['Make'].replace('BUCK', 'BUICK', inplace=True)\n",
    "big_df_smaller['Make'].replace('PONIAC', 'PONTIAC', inplace=True)\n",
    "big_df_smaller['Make'].replace('MART', 'SMART', inplace=True)\n",
    "big_df_smaller['Make'].replace('MERCEDEES', 'MERCEDES', inplace=True)\n",
    "big_df_smaller['Make'].replace('FROD', 'FORD', inplace=True)\n",
    "big_df_smaller['Make'].replace('VOLKESWAGON', 'VOLKWAGON', inplace=True)\n",
    "big_df_smaller['Make'].replace('SURE', 'UNKNOWN', inplace=True)\n",
    "big_df_smaller['Make'].replace('JEP', 'JEEP', inplace=True)\n",
    "big_df_smaller['Make'].replace('MERCEDEZ-BENZ', 'MERCEDES', inplace=True)\n",
    "big_df_smaller['Make'].replace('HUDS', 'HUDSON', inplace=True)\n",
    "big_df_smaller['Make'].replace('TOYOTOA', 'TOYOTA', inplace=True)\n",
    "big_df_smaller['Make'].replace('NIISSAN', 'NISSAN', inplace=True)\n",
    "big_df_smaller['Make'].replace('VOLKWAGON', 'VOLKSWAGON', inplace=True)\n",
    "big_df_smaller['Make'].replace('CEHVROLET', 'CHEVROLET', inplace=True)\n",
    "big_df_smaller['Make'].replace('HONDA`', 'HONDA', inplace=True)\n",
    "big_df_smaller['Make'].replace('TOMAS', 'THOMAS', inplace=True)\n",
    "big_df_smaller['Make'].replace('MERDZ', 'MERCEDES', inplace=True)\n",
    "big_df_smaller['Make'].replace('CADDILLAC', 'CADILLAC', inplace=True)\n",
    "big_df_smaller['Make'].replace('VOLKSWAG', 'VOLKSWAGON', inplace=True)\n",
    "big_df_smaller['Make'].replace('CHEVROET', 'CHEVROLET', inplace=True)\n",
    "big_df_smaller['Make'].replace('HAUL', 'UNKNOWN', inplace=True)\n",
    "big_df_smaller['Make'].replace('CHR', 'CHRYSLER', inplace=True)\n",
    "big_df_smaller['Make'].replace('MERCEDE', 'MERCEDES', inplace=True)\n",
    "big_df_smaller['Make'].replace('ASTO', 'ASTON-MARTIN', inplace=True)\n",
    "big_df_smaller['Make'].replace('RANGE ROV', 'RANGE-ROVER', inplace=True)\n",
    "big_df_smaller['Make'].replace('JETTA', 'VOLKSWAGON', inplace=True)\n",
    "big_df_smaller['Make'].replace('LODA', 'UNKNOWN', inplace=True)\n",
    "big_df_smaller['Make'].replace('TAGA', 'UNKNOWN', inplace=True)\n",
    "big_df_smaller['Make'].replace('FRIEGHTLINER', 'FREIGHTLINER', inplace=True)\n",
    "big_df_smaller['Make'].replace('KAWI', 'KAWASAKI', inplace=True)\n",
    "big_df_smaller['Make'].replace('TOYOTS', 'TOYOTA', inplace=True)\n",
    "big_df_smaller['Make'].replace('SPRINTER', 'MERCEDES', inplace=True)\n",
    "big_df_smaller['Make'].replace('PORS', 'PORSCHE', inplace=True)\n",
    "big_df_smaller['Make'].replace('HIUNDAY', 'HYUNDAI', inplace=True)\n",
    "big_df_smaller['Make'].replace('STAR', 'WESTERN-STAR', inplace=True)\n",
    "big_df_smaller['Make'].replace('RANG ROVER', 'RANGE-ROVER', inplace=True)\n",
    "big_df_smaller['Make'].replace('CADDI', 'CADILLAC', inplace=True)\n",
    "big_df_smaller['Make'].replace('FRD', 'FORD', inplace=True)\n",
    "big_df_smaller['Make'].replace('STRG', 'HONDA', inplace=True)\n",
    "big_df_smaller['Make'].replace('GORD', 'FORD', inplace=True)\n",
    "big_df_smaller['Make'].replace('VOKS', 'VOLKSWAGON', inplace=True)\n",
    "big_df_smaller['Make'].replace('HUNDI', 'HYUNDAI', inplace=True)\n",
    "big_df_smaller['Make'].replace('BUEL', 'BUELL', inplace=True)\n",
    "big_df_smaller['Make'].replace('TAOT', 'TAOTAO', inplace=True)\n",
    "big_df_smaller['Make'].replace('HOBDA', 'HONDA', inplace=True)\n",
    "big_df_smaller['Make'].replace('ATV', 'UNKNOWN', inplace=True)\n",
    "big_df_smaller['Make'].replace('TOYOTA/SCION', 'TOYOTA', inplace=True)\n",
    "big_df_smaller['Make'].replace('PONTAIC', 'PONTIAC', inplace=True)\n",
    "big_df_smaller['Make'].replace('UTIL', 'UTILITY', inplace=True)\n",
    "big_df_smaller['Make'].replace('DATS', 'DATSUN', inplace=True)\n",
    "big_df_smaller['Make'].replace('CEV', 'UNKNOWN', inplace=True)\n",
    "big_df_smaller['Make'].replace('TOYOTSA', 'TOYOTA', inplace=True)\n",
    "big_df_smaller['Make'].replace('DAEW', 'DAEWOO', inplace=True)\n",
    "big_df_smaller['Make'].replace('GILG', 'GILGEE', inplace=True)\n",
    "big_df_smaller['Make'].replace('MOPED', 'UNKNOWN', inplace=True)\n",
    "big_df_smaller['Make'].replace('MBW', 'BMW', inplace=True)\n",
    "big_df_smaller['Make'].replace('HIND', 'HYUNDAI', inplace=True)\n",
    "big_df_smaller['Make'].replace('JEEF', 'JEEP', inplace=True)\n",
    "big_df_smaller['Make'].replace('SUBURAU', 'SUBARU', inplace=True)\n",
    "big_df_smaller['Make'].replace('LEUS', 'LEXUS', inplace=True)\n",
    "big_df_smaller['Make'].replace('CRAN', 'UNKNOWN', inplace=True)\n",
    "big_df_smaller['Make'].replace('MASERATTI', 'MASERATI', inplace=True)\n",
    "big_df_smaller['Make'].replace('MERCDES', 'MERCEDES', inplace=True)\n",
    "big_df_smaller['Make'].replace('INIFITI', 'INFINITI', inplace=True)\n",
    "big_df_smaller['Make'].replace('GNC', 'GM', inplace=True)\n",
    "big_df_smaller['Make'].replace('CADALLAC', 'CADILLAC', inplace=True)\n",
    "big_df_smaller['Make'].replace('TOYOTO', 'TOYOTA', inplace=True)\n",
    "big_df_smaller['Make'].replace('MITSBISHI', 'MITSUBISHI', inplace=True)\n",
    "big_df_smaller['Make'].replace('HUN', 'HYUNDAI', inplace=True)\n",
    "big_df_smaller['Make'].replace('TIYITA', 'TOYOTA', inplace=True)\n",
    "big_df_smaller['Make'].replace('HOINDA', 'HONDA', inplace=True)\n",
    "big_df_smaller['Make'].replace('HYUD', 'HYUNDAI', inplace=True)\n",
    "big_df_smaller['Make'].replace('SUBARY', 'SUBARU', inplace=True)\n",
    "big_df_smaller['Make'].replace('MITSUBISSHI', 'MITSUBISHI', inplace=True)\n",
    "big_df_smaller['Make'].replace('ELANTRA', 'HYUNDAI', inplace=True)\n",
    "big_df_smaller['Make'].replace('BLUE', 'UNKNOWN', inplace=True)\n",
    "big_df_smaller['Make'].replace('OLDS MOBILE', 'OLDSMOBILE', inplace=True)\n",
    "big_df_smaller['Make'].replace('JAQUAR', 'JAGUAR', inplace=True)\n",
    "big_df_smaller['Make'].replace('CEVROLET', 'CHEVROLET', inplace=True)\n",
    "big_df_smaller['Make'].replace('MISTSUBISHI', 'MITSUBISHI', inplace=True)\n",
    "big_df_smaller['Make'].replace('YAHMAHA', 'YAMAHA', inplace=True)\n",
    "big_df_smaller['Make'].replace('TOUOTA', 'TOYOTA', inplace=True)\n",
    "big_df_smaller['Make'].replace('FRTL', 'FREIGHTLINER', inplace=True)\n",
    "big_df_smaller['Make'].replace('DOD', 'UNKNOWN', inplace=True)\n",
    "big_df_smaller['Make'].replace('JONDA', 'HONDA', inplace=True)\n",
    "big_df_smaller['Make'].replace('UHAUL', 'UNKNOWN', inplace=True)\n",
    "big_df_smaller['Make'].replace('VOLKE', 'VOLKSWAGON', inplace=True)\n",
    "big_df_smaller['Make'].replace('RIDE ON', 'UNKNOWN', inplace=True)\n",
    "big_df_smaller['Make'].replace('CHEVT', 'CHEVROLET', inplace=True)\n",
    "big_df_smaller['Make'].replace('MZDA', 'MAZDA', inplace=True)\n",
    "big_df_smaller['Make'].replace('TIYT', 'TOYOTA', inplace=True)\n",
    "big_df_smaller['Make'].replace('TRUCK', 'UNKNOWN', inplace=True)\n",
    "big_df_smaller['Make'].replace('CHRYSL', 'CHRYSLER', inplace=True)\n",
    "big_df_smaller['Make'].replace('SATUR', 'SATURN', inplace=True)\n",
    "big_df_smaller['Make'].replace('CHEVU', 'CHEVROLET', inplace=True)\n",
    "big_df_smaller['Make'].replace('PORC', 'PORSCHE', inplace=True)\n",
    "big_df_smaller['Make'].replace('2016', 'UNKNOWN', inplace=True)\n",
    "big_df_smaller['Make'].replace('TOOYOTA', 'TOYOTA', inplace=True)\n",
    "big_df_smaller['Make'].replace('VOLKW', 'VOLKSWAGON', inplace=True)\n",
    "big_df_smaller['Make'].replace('IHC', 'UNKNOWN', inplace=True)\n",
    "big_df_smaller['Make'].replace('MRZ', 'UNKNOWN', inplace=True)\n",
    "big_df_smaller['Make'].replace('MTIS', 'MITSUBISHI', inplace=True)\n",
    "big_df_smaller['Make'].replace('HYNDIA', 'HYUNDAI', inplace=True)\n",
    "big_df_smaller['Make'].replace('FRGHT', 'FREIGHTLINER', inplace=True)\n",
    "big_df_smaller['Make'].replace('INFNITY', 'INFINITI', inplace=True)\n",
    "big_df_smaller['Make'].replace('POINTIAC', 'PONTIAC', inplace=True)\n",
    "big_df_smaller['Make'].replace('AURA', 'SATURN', inplace=True)\n",
    "big_df_smaller['Make'].replace('CHEVROLT', 'CHEVROLET', inplace=True)\n",
    "big_df_smaller['Make'].replace('BIGT', 'UNKNOWN', inplace=True)\n",
    "big_df_smaller['Make'].replace('HYUNDUI', 'HYUNDAI', inplace=True)\n",
    "big_df_smaller['Make'].replace('AUCRA', 'ACURA', inplace=True)\n",
    "big_df_smaller['Make'].replace('INFNITI', 'INFINITI', inplace=True)\n",
    "big_df_smaller['Make'].replace('TTOYOTA', 'TOYOTA', inplace=True)\n",
    "big_df_smaller['Make'].replace('VULC', 'UNKNOWN', inplace=True)\n",
    "big_df_smaller['Make'].replace('CHE', 'CHEVROLET', inplace=True)\n",
    "big_df_smaller['Make'].replace('HOONDA', 'HONDA', inplace=True)\n",
    "big_df_smaller['Make'].replace('FPRD', 'FORD', inplace=True)\n",
    "big_df_smaller['Make'].replace('SUBARA', 'SUBARY', inplace=True)\n",
    "big_df_smaller['Make'].replace('BISSAN', 'NISSAN', inplace=True)\n",
    "big_df_smaller['Make'].replace('PORCH', 'PORSCHE', inplace=True)\n",
    "big_df_smaller['Make'].replace('FORDQ', 'FORD', inplace=True)\n",
    "big_df_smaller['Make'].replace('MITSIBUSHI', 'MITSUBISHI', inplace=True)\n",
    "big_df_smaller['Make'].replace('YAM', 'YAMAHA', inplace=True)\n",
    "big_df_smaller['Make'].replace('TOYA', 'TOYOTA', inplace=True)\n",
    "big_df_smaller['Make'].replace('TOY0TA', 'TOYOTA', inplace=True)\n",
    "big_df_smaller['Make'].replace('MITZU', 'MITSUBISHI', inplace=True)\n",
    "big_df_smaller['Make'].replace('MIITS', 'MITSUBISHI', inplace=True)\n",
    "big_df_smaller['Make'].replace('ROUTER', 'UNKNOWN', inplace=True)\n",
    "big_df_smaller['Make'].replace('MINICOOPER', 'MINI-COOPER', inplace=True)\n",
    "big_df_smaller['Make'].replace('JEEO', 'JEEP', inplace=True)\n",
    "big_df_smaller['Make'].replace('MEBE', 'MERCEDES', inplace=True)\n",
    "big_df_smaller['Make'].replace('LANDR', 'LAND-ROVER', inplace=True)\n",
    "big_df_smaller['Make'].replace('ACRA', 'ACURA', inplace=True)\n",
    "big_df_smaller['Make'].replace('HONDAY', 'HONDA', inplace=True)\n",
    "big_df_smaller['Make'].replace('MISUBISHI', 'MITSUBISHI', inplace=True)\n",
    "big_df_smaller['Make'].replace('BRIM', 'UNKNOWN', inplace=True)\n",
    "big_df_smaller['Make'].replace('GENISIS', 'GENESIS', inplace=True)\n",
    "big_df_smaller['Make'].replace('DDODGE', 'DODGE', inplace=True)\n",
    "big_df_smaller['Make'].replace('PASSAT', 'VOLKSWAGON', inplace=True)\n",
    "big_df_smaller['Make'].replace('NISSAB', 'NISSAN', inplace=True)\n",
    "big_df_smaller['Make'].replace('CHRYSER', 'CHRYSLER', inplace=True)\n",
    "big_df_smaller['Make'].replace('LAMBO', 'LAMBORGHINI', inplace=True)\n",
    "big_df_smaller['Make'].replace('YUKON', 'GM', inplace=True)\n",
    "big_df_smaller['Make'].replace('MERCERY', 'FORD', inplace=True)\n",
    "big_df_smaller['Make'].replace('MAXDA', 'MAZDA', inplace=True)\n",
    "big_df_smaller['Make'].replace('VWOLKS', 'VOLKSWAGON', inplace=True)\n",
    "big_df_smaller['Make'].replace('DORD', 'FORD', inplace=True)\n",
    "big_df_smaller['Make'].replace('HUMAN', 'UNKNOWN', inplace=True)\n",
    "big_df_smaller['Make'].replace('OYOTA', 'TOYOTA', inplace=True)\n",
    "big_df_smaller['Make'].replace('CHEVROLE', 'CHEVROLET', inplace=True)\n",
    "big_df_smaller['Make'].replace('Z71', 'CHEVROLET', inplace=True)\n",
    "big_df_smaller['Make'].replace('TOYOAT', 'TOYOTA', inplace=True)\n",
    "big_df_smaller['Make'].replace('OLSMOBILE', 'OLDSMOBILE', inplace=True)\n",
    "big_df_smaller['Make'].replace('SUBARY', 'SUBARU', inplace=True)\n",
    "big_df_smaller['Make'].replace('TRAILER', 'UNKNOWN', inplace=True)\n",
    "big_df_smaller['Make'].replace('CHEVOROLET', 'CHEVROLET', inplace=True)\n",
    "big_df_smaller['Make'].replace('NISSANA', 'NISSAN', inplace=True)\n",
    "big_df_smaller['Make'].replace('MURCURY', 'FORD', inplace=True)\n",
    "big_df_smaller['Make'].replace('MNI', 'MINI-COOPER', inplace=True)\n",
    "big_df_smaller['Make'].replace('POR', 'PORSCHE', inplace=True)\n",
    "big_df_smaller['Make'].replace('KIS', 'KIA', inplace=True)\n",
    "big_df_smaller['Make'].replace('LANDOVER', 'LAND-ROVER', inplace=True)\n",
    "big_df_smaller['Make'].replace('THOMAS BUILT', 'THOMAS', inplace=True)\n",
    "big_df_smaller['Make'].replace('MAZFA', 'MAZDA', inplace=True)\n",
    "big_df_smaller['Make'].replace('ACUA', 'ACURA', inplace=True)\n",
    "big_df_smaller['Make'].replace('SILVER', 'UNKNOWN', inplace=True)\n",
    "big_df_smaller['Make'].replace('VOKSWAGEN', 'VOLKSWAGON', inplace=True)\n",
    "big_df_smaller['Make'].replace('GOLD', 'UNKNOWN', inplace=True)\n",
    "big_df_smaller['Make'].replace('MEZ', 'MERCEDES', inplace=True)\n",
    "big_df_smaller['Make'].replace('TOYITA', 'TOYOTA', inplace=True)\n",
    "big_df_smaller['Make'].replace('AVURA', 'ACURA', inplace=True)\n",
    "big_df_smaller['Make'].replace('LOAD', 'UNKNOWN', inplace=True)\n",
    "big_df_smaller['Make'].replace('FHRT', 'FREIGHTLINER', inplace=True)\n",
    "big_df_smaller['Make'].replace('HYUMDAI', 'HYUNDAI', inplace=True)\n",
    "big_df_smaller['Make'].replace('DODE', 'DODGE', inplace=True)\n",
    "big_df_smaller['Make'].replace('HUYANDI', 'HYUNDAI', inplace=True)\n",
    "big_df_smaller['Make'].replace('SABARU', 'SUBARU', inplace=True)\n",
    "big_df_smaller['Make'].replace('SPNR', 'UNKNOWN', inplace=True)\n",
    "big_df_smaller['Make'].replace('VOLO', 'VOLVO', inplace=True)\n",
    "big_df_smaller['Make'].replace('RANGE RVR', 'RANGE-ROVER', inplace=True)\n",
    "big_df_smaller['Make'].replace('VLKSWAGON', 'VOLKSWAGON', inplace=True)\n",
    "big_df_smaller['Make'].replace('QUALITY', 'UNKNOWN', inplace=True)\n",
    "big_df_smaller['Make'].replace({'CRCA': 'UNKNOWN', 'QUALITY': 'UNKNOWN'}, inplace=True)\n",
    "big_df_smaller['Make'].replace('THMS', 'THOMAS', inplace=True)\n",
    "big_df_smaller['Make'].replace('KYMC', 'KYMCO', inplace=True)\n",
    "big_df_smaller['Make'].replace('BLACK', 'UNKNOWN', inplace=True)\n",
    "big_df_smaller['Make'].replace('MERCRUY', 'MERCURY', inplace=True)\n",
    "big_df_smaller['Make'].replace('CHEVTOLET', 'CHEVROLET', inplace=True)\n",
    "big_df_smaller['Make'].replace('HYUNI', 'HYUNDAI', inplace=True)\n",
    "big_df_smaller['Make'].replace('CHYS', 'CHRYSLER', inplace=True)\n",
    "big_df_smaller['Make'].replace('INFT', 'INFINITI', inplace=True)\n",
    "big_df_smaller['Make'].replace('NAZDA', 'MAZDA', inplace=True)\n",
    "big_df_smaller['Make'].replace('HUY', 'HYUNDAI', inplace=True)\n",
    "big_df_smaller['Make'].replace('CADIL', 'CADILLAC', inplace=True)\n",
    "big_df_smaller['Make'].replace('MITUSBISHI', 'MITSUBISHI', inplace=True)\n",
    "big_df_smaller['Make'].replace('MERCADEZ', 'MERCEDES', inplace=True)\n",
    "big_df_smaller['Make'].replace('VOLK W', 'VOLKSWAGON', inplace=True)\n",
    "big_df_smaller['Make'].replace('LINCOL', 'LINCOLN', inplace=True)\n",
    "big_df_smaller['Make'].replace('PRIUS', 'TOYOTA', inplace=True)\n",
    "big_df_smaller['Make'].replace('CHEV.', 'CHEVROLET', inplace=True)\n",
    "big_df_smaller['Make'].replace('SMART CAR', 'SMART', inplace=True)\n",
    "big_df_smaller['Make'].replace('HONDDA', 'HONDA', inplace=True)\n",
    "big_df_smaller['Make'].replace('IZUSU', 'ISUZU', inplace=True)\n",
    "big_df_smaller['Make'].replace('TOMO', 'HONDA', inplace=True)\n",
    "big_df_smaller['Make'].replace('LEXUZ', 'LEXUS', inplace=True)\n",
    "big_df_smaller['Make'].replace('STARCRAFT', 'UNKNOWN', inplace=True)\n",
    "big_df_smaller['Make'].replace('NISSA N', 'NISSAN', inplace=True)\n",
    "big_df_smaller['Make'].replace('LAND ROV', 'LAND-ROVER', inplace=True)\n",
    "big_df_smaller['Make'].replace('LARO', 'LAND-ROVER', inplace=True)\n",
    "big_df_smaller['Make'].replace('KAUF', 'KAUFMAN', inplace=True)\n",
    "big_df_smaller['Make'].replace('KIDA', 'KIA', inplace=True)\n",
    "big_df_smaller['Make'].replace('BRMR', 'UNKNOWN', inplace=True)\n",
    "big_df_smaller['Make'].replace('ROLLS ROYCE', 'ROLLS-ROYCE', inplace=True)\n",
    "big_df_smaller['Make'].replace('VOLKSWAGIN', 'VOLKSWAGON', inplace=True)\n",
    "big_df_smaller['Make'].replace('BMW`', 'BMW', inplace=True)\n",
    "big_df_smaller['Make'].replace('MITI', 'MITSUBISHI', inplace=True)\n",
    "big_df_smaller['Make'].replace('ACUTA', 'ACURA', inplace=True)\n",
    "big_df_smaller['Make'].replace('HHONDA', 'HONDA', inplace=True)\n",
    "big_df_smaller['Make'].replace('4DR', 'UNKNOWN', inplace=True)\n",
    "big_df_smaller['Make'].replace('SATRN', 'SATURN', inplace=True)\n",
    "big_df_smaller['Make'].replace('ALFA ROMERO', 'ALFA-ROMEO', inplace=True)\n",
    "big_df_smaller['Make'].replace('OTHR', 'UNKNOWN', inplace=True)\n",
    "big_df_smaller['Make'].replace('PETER', 'PETERBILT', inplace=True)\n",
    "big_df_smaller['Make'].replace('EGIL', 'UNKNOWN', inplace=True)\n",
    "big_df_smaller['Make'].replace('INIF', 'INFINITI', inplace=True)\n",
    "big_df_smaller['Make'].replace('ACYRA', 'ACURA', inplace=True)\n",
    "big_df_smaller['Make'].replace('SUZIUKI', 'SUZUKI', inplace=True)\n",
    "big_df_smaller['Make'].replace('VOLVA', 'VOLVO', inplace=True)\n",
    "big_df_smaller['Make'].replace('TOYOVAL2005', 'TOYOTA', inplace=True)\n",
    "big_df_smaller['Make'].replace('SCI', 'SCION', inplace=True)\n",
    "big_df_smaller['Make'].replace('VOVL', 'VOLVO', inplace=True)\n",
    "big_df_smaller['Make'].replace('2S', 'VOLVO', inplace=True)\n",
    "big_df_smaller['Make'].replace('CHRYSLTER', 'CHRYSLER', inplace=True)\n",
    "big_df_smaller['Make'].replace('MADZDA', 'MAZDA', inplace=True)\n",
    "big_df_smaller['Make'].replace('MITSUBISHUI', 'MITSUBISHI', inplace=True)\n",
    "big_df_smaller['Make'].replace('IFINITI', 'INFINITI', inplace=True)\n",
    "big_df_smaller['Make'].replace('SUBAU', 'SUBARU', inplace=True)\n",
    "big_df_smaller['Make'].replace('ISUSU', 'ISUZU', inplace=True)\n",
    "big_df_smaller['Make'].replace('MITSB', 'MITSUBISHI', inplace=True)\n",
    "big_df_smaller['Make'].replace('MITISBISHI', 'MITSUBISHI', inplace=True)\n",
    "big_df_smaller['Make'].replace('MTS', 'MITSUBISHI', inplace=True)\n",
    "big_df_smaller['Make'].replace('PETER BUILT', 'PETERBILT', inplace=True)\n",
    "big_df_smaller['Make'].replace('GENU', 'UNKNOWN', inplace=True)\n",
    "big_df_smaller['Make'].replace('D0DGE', 'DODGE', inplace=True)\n",
    "big_df_smaller['Make'].replace('YAHAMA', 'YAMAHA', inplace=True)\n",
    "big_df_smaller['Make'].replace('MERCU', 'MERCURY', inplace=True)\n",
    "big_df_smaller['Make'].replace('HYINDAI', 'HYUNDAI', inplace=True)\n",
    "big_df_smaller['Make'].replace('HYUNADI', 'HYUNDAI', inplace=True)\n",
    "big_df_smaller['Make'].replace('NIZZAN', 'NISSAN', inplace=True)\n",
    "big_df_smaller['Make'].replace('ORIO', 'SAAB', inplace=True)\n",
    "big_df_smaller['Make'].replace('INTERN', 'INTERNATIONAL', inplace=True)\n",
    "big_df_smaller['Make'].replace('CHRVY', 'CHEVROLET', inplace=True)\n",
    "big_df_smaller['Make'].replace('CEVY', 'CHEVROLET', inplace=True)\n",
    "big_df_smaller['Make'].replace('CHEVROLETTE', 'CHEVROLET', inplace=True)\n",
    "big_df_smaller['Make'].replace('INTR', 'INTERNATIONAL', inplace=True)\n",
    "big_df_smaller['Make'].replace('MITSI', 'MITSUBISHI', inplace=True)\n",
    "big_df_smaller['Make'].replace('EAGL', 'EAGLE', inplace=True)\n",
    "big_df_smaller['Make'].replace('CHRUSLER', 'CHRYSLER', inplace=True)\n",
    "big_df_smaller['Make'].replace('VOVO', 'VOLVO', inplace=True)\n",
    "big_df_smaller['Make'].replace('INTERNATION', 'INTERNATIONAL', inplace=True)\n",
    "big_df_smaller['Make'].replace('TRANSIT', 'UNKNOWN', inplace=True)\n",
    "big_df_smaller['Make'].replace('TOYOVAL2011', 'TOYOTA', inplace=True)\n",
    "big_df_smaller['Make'].replace('HAWK', 'STUDEBAKER', inplace=True)\n",
    "big_df_smaller['Make'].replace('WSTR', 'WESTERN STAR', inplace=True)\n",
    "big_df_smaller['Make'].replace('BAJA', 'SUBARU', inplace=True)\n",
    "big_df_smaller['Make'].replace('TAIZHOU CITY', 'GEELY', inplace=True)\n",
    "big_df_smaller['Make'].replace('HANDA', 'HONDA', inplace=True)\n",
    "big_df_smaller['Make'].replace('VONROAD', 'UNKNOWN', inplace=True)\n",
    "big_df_smaller['Make'].replace('HUYANDAI', 'HYUNDAI', inplace=True)\n",
    "big_df_smaller['Make'].replace('MITISHIBI', 'MITSUBISHI', inplace=True)\n",
    "big_df_smaller['Make'].replace('FRIGHTLINER', 'FREIGHTLINER', inplace=True)\n",
    "big_df_smaller['Make'].replace('MW', 'UNKNOWN', inplace=True)\n",
    "big_df_smaller['Make'].replace('POTIAC', 'PONTIAC', inplace=True)\n",
    "big_df_smaller['Make'].replace('9EC5338', 'UNKNOWN', inplace=True)\n",
    "big_df_smaller['Make'].replace('WESTERN STAR', 'WESTERN-STAR', inplace=True)\n",
    "big_df_smaller['Make'].replace('MALIBU', 'CHEVROLET', inplace=True)\n",
    "big_df_smaller['Make'].replace('GLAV', 'GLAVAL', inplace=True)\n",
    "big_df_smaller['Make'].replace('VOK', 'VOLKSWAGON', inplace=True)\n",
    "big_df_smaller['Make'].replace('LOTU', 'LOTUS', inplace=True)\n",
    "big_df_smaller['Make'].replace('PNT', 'UNKNOWN', inplace=True)\n",
    "big_df_smaller['Make'].replace('SUV', 'UNKNOWN', inplace=True)\n",
    "big_df_smaller['Make'].replace('MURRAY', 'GORDON-MURRAY', inplace=True)\n",
    "big_df_smaller['Make'].replace('BMI', 'BMW', inplace=True)\n",
    "big_df_smaller['Make'].replace('AUD', 'AUDI', inplace=True)\n",
    "big_df_smaller['Make'].replace('PORSCE', 'PORSCHE', inplace=True)\n",
    "big_df_smaller['Make'].replace('MOBED', 'UNKNOWN', inplace=True)\n",
    "big_df_smaller['Make'].replace('VOLSKWAGEN', 'VOLKSWAGON', inplace=True)\n",
    "big_df_smaller['Make'].replace('CHEVY GEO', 'CHEVROLET', inplace=True)\n",
    "big_df_smaller['Make'].replace('LEXUES', 'LEXUS', inplace=True)\n",
    "big_df_smaller['Make'].replace('ISSAN', 'NISSAN', inplace=True)\n",
    "big_df_smaller['Make'].replace('MITSIBISH', 'MITSUBISHI', inplace=True)\n",
    "big_df_smaller['Make'].replace('MINI COOP', 'MINI-COOPER', inplace=True)\n",
    "big_df_smaller['Make'].replace('TOPB', 'UNKNOWN', inplace=True)\n",
    "big_df_smaller['Make'].replace('TOYOVA', 'TOYOTA', inplace=True)\n",
    "big_df_smaller['Make'].replace('BRMA', 'UNKNOWN', inplace=True)\n",
    "big_df_smaller['Make'].replace('4D', 'UNKNOWN', inplace=True)\n",
    "big_df_smaller['Make'].replace('DDOGE', 'DODGE', inplace=True)\n",
    "big_df_smaller['Make'].replace('SONATA', 'HYUNDAI', inplace=True)\n",
    "big_df_smaller['Make'].replace('MAZDZ', 'MAZDA', inplace=True)\n",
    "big_df_smaller['Make'].replace('CADILIAC', 'CADILLAC', inplace=True)\n",
    "big_df_smaller['Make'].replace('SUBRARU', 'SUBARU', inplace=True)\n",
    "big_df_smaller['Make'].replace('MECEDEZ', 'MERCEDES', inplace=True)\n",
    "big_df_smaller['Make'].replace('CARRY ON', 'UNKNOWN', inplace=True)\n",
    "big_df_smaller['Make'].replace('NISSNA', 'NISSAN', inplace=True)\n",
    "big_df_smaller['Make'].replace('HONNDA', 'HONDA', inplace=True)\n",
    "big_df_smaller['Make'].replace('HOME MADE', 'UNKNOWN', inplace=True)\n",
    "big_df_smaller['Make'].replace('MIS', 'MITSUBISHI', inplace=True)\n",
    "big_df_smaller['Make'].replace('2010', 'UNKNOWN', inplace=True)\n",
    "big_df_smaller['Make'].replace('CHEBROLET', 'CHEVROLET', inplace=True)\n",
    "big_df_smaller['Make'].replace('APRI', 'UNKNOWN', inplace=True)\n",
    "big_df_smaller['Make'].replace('ROVER', 'UNKNOWN', inplace=True)\n",
    "big_df_smaller['Make'].replace('WRKH', 'UNKNOWN', inplace=True)\n",
    "big_df_smaller['Make'].replace('M BENZ', 'MERCEDES', inplace=True)\n",
    "big_df_smaller['Make'].replace('HONGA', 'HONDA', inplace=True)\n",
    "big_df_smaller['Make'].replace('SUBSRU', 'SUBARU', inplace=True)\n",
    "big_df_smaller['Make'].replace('CADDY', 'CADILLAC', inplace=True)\n",
    "big_df_smaller['Make'].replace('CEHVORLET', 'CHEVROLET', inplace=True)\n",
    "big_df_smaller['Make'].replace('CHRYSLEY', 'CHRYSLER', inplace=True)\n",
    "big_df_smaller['Make'].replace('SENTRA', 'NISSAN', inplace=True)\n",
    "big_df_smaller['Make'].replace('HONDVAL2008', 'HONDA', inplace=True)\n",
    "big_df_smaller['Make'].replace('JEEK', 'VOLKSWAGON', inplace=True)\n",
    "big_df_smaller['Make'].replace('NC', 'UNKNOWN', inplace=True)\n",
    "big_df_smaller['Make'].replace('NINGBO', 'UNKNOWN', inplace=True)\n",
    "big_df_smaller['Make'].replace('GMX', 'UNKNOWN', inplace=True)\n",
    "big_df_smaller['Make'].replace('ACU', 'ACURA', inplace=True)\n",
    "big_df_smaller['Make'].replace('LAMO', 'LAMBORGINI', inplace=True)\n",
    "big_df_smaller['Make'].replace('SUZIK', 'SUZUKI', inplace=True)\n",
    "big_df_smaller['Make'].replace('WOLKSWAGON', 'VOLKSWAGON', inplace=True)\n",
    "big_df_smaller['Make'].replace('CADIALLAC', 'CADILLAC', inplace=True)\n",
    "big_df_smaller['Make'].replace('NNISSAN', 'NISSAN', inplace=True)\n",
    "big_df_smaller['Make'].replace('BICYCLE', 'UNKNOWN', inplace=True)"
   ]
  },
  {
   "cell_type": "code",
   "execution_count": 86,
   "metadata": {},
   "outputs": [
    {
     "name": "stdout",
     "output_type": "stream",
     "text": [
      "There are null values in the DataFrame.\n"
     ]
    }
   ],
   "source": [
    "big_df_smaller['Time Of Stop'] = pd.to_datetime(big_df_smaller['Time Of Stop'])\n",
    "big_df_smaller['Hour of Stop'] = big_df_smaller['Time Of Stop'].dt.hour\n",
    "random_forest_df = big_df_smaller.drop(['Date Of Stop','Driver State','State','Time Of Stop'], axis = 1)\n",
    "# Check if there are any null values in the entire DataFrame\n",
    "if random_forest_df.isnull().values.any():\n",
    "    print(\"There are null values in the DataFrame.\")\n",
    "else:\n",
    "    print(\"There are no null values in the DataFrame.\")"
   ]
  },
  {
   "cell_type": "code",
   "execution_count": 87,
   "metadata": {},
   "outputs": [
    {
     "data": {
      "text/plain": [
       "TOYOTA        295871\n",
       "HONDA         248798\n",
       "FORD          154407\n",
       "NISSAN        128687\n",
       "CHEVROLET     123774\n",
       "Other         106084\n",
       "HYUNDAI        61410\n",
       "DODGE          55040\n",
       "ACURA          51495\n",
       "MERCEDES       51488\n",
       "BMW            47824\n",
       "LEXUS          39623\n",
       "JEEP           38825\n",
       "VOLKSWAGON     34754\n",
       "MAZDA          33112\n",
       "SUBARU         26173\n",
       "CHRYSLER       25411\n",
       "KIA            24920\n",
       "GMC            21682\n",
       "INFINITI       20010\n",
       "MITSUBISHI     18893\n",
       "AUDI           17564\n",
       "CADILLAC       14951\n",
       "VOLVO          13572\n",
       "BUICK          11424\n",
       "Name: Make, dtype: int64"
      ]
     },
     "execution_count": 87,
     "metadata": {},
     "output_type": "execute_result"
    }
   ],
   "source": [
    "#Example binning makes\n",
    "makes_count=random_forest_df[\"Make\"].value_counts()\n",
    "cutoff_value = 10000\n",
    "# Create a list of application types to be replaced with 'Other'\n",
    "makes_to_replace = makes_count[makes_count < cutoff_value].index.tolist()\n",
    "\n",
    "# Replace in dataframe\n",
    "for app in makes_to_replace:\n",
    "    random_forest_df[\"Make\"] = random_forest_df[\"Make\"].replace(app,\"Other\")\n",
    "\n",
    "# Check to make sure binning was successful\n",
    "random_forest_df[\"Make\"].value_counts()"
   ]
  },
  {
   "cell_type": "code",
   "execution_count": 88,
   "metadata": {},
   "outputs": [],
   "source": [
    "# Assuming 'Driver State' is a column in your DataFrame\n",
    "car_colors = random_forest_df['Color']\n",
    "\n",
    "# Create a new column 'State Category' and set default value to 'out of state'\n",
    "random_forest_df['Color Type'] = 'Neutral'\n",
    "\n",
    "# Define a list of colorful colors\n",
    "colorful_colors = ['RED', 'ORANGE', 'YELLOW', 'GREEN', 'BLUE', 'BLUE, DARK',\n",
    "                   'MAROON', 'BLUE, LIGHT', 'GREEN, DK', 'GREEN, LGT', 'PURPLE',\n",
    "                   'MULTICOLOR', 'PINK', 'CAMOUFLAGE']\n",
    "\n",
    "# Update the values based on the condition using isin\n",
    "random_forest_df.loc[car_colors.isin(colorful_colors), 'Color Type'] = 'Colorful'"
   ]
  },
  {
   "cell_type": "code",
   "execution_count": 89,
   "metadata": {},
   "outputs": [],
   "source": [
    "description_info = random_forest_df['Description'].value_counts()\n",
    "\n",
    "selected_descriptions = description_info[description_info > 10000].index.tolist()\n",
    "\n",
    "random_forest_df.loc[~random_forest_df['Description'].isin(selected_descriptions), 'Description'] = 'Other'"
   ]
  },
  {
   "cell_type": "code",
   "execution_count": 92,
   "metadata": {},
   "outputs": [],
   "source": [
    "# Write the processed data to a CSV\n",
    "processed_file_path = \"data\\Traffic_Violations_Processed.csv\"\n",
    "big_df_smaller.to_csv(processed_file_path, index=False)"
   ]
  }
 ],
 "metadata": {
  "kernelspec": {
   "display_name": "dev",
   "language": "python",
   "name": "python3"
  },
  "language_info": {
   "codemirror_mode": {
    "name": "ipython",
    "version": 3
   },
   "file_extension": ".py",
   "mimetype": "text/x-python",
   "name": "python",
   "nbconvert_exporter": "python",
   "pygments_lexer": "ipython3",
   "version": "3.10.9"
  }
 },
 "nbformat": 4,
 "nbformat_minor": 2
}
