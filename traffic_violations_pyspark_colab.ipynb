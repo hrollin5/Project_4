{
  "cells": [
    {
      "cell_type": "code",
      "execution_count": 1,
      "metadata": {
        "colab": {
          "base_uri": "https://localhost:8080/"
        },
        "id": "a_KW73O2e3dw",
        "outputId": "109ed9b3-bd92-4a24-9486-291f16c290a5"
      },
      "outputs": [
        {
          "name": "stdout",
          "output_type": "stream",
          "text": [
            "\r0% [Working]\r            \rGet:1 https://cloud.r-project.org/bin/linux/ubuntu jammy-cran40/ InRelease [3,626 B]\n",
            "\r0% [Waiting for headers] [Waiting for headers] [1 InRelease 0 B/3,626 B 0%] [Connecting to ppa.launc\r0% [Waiting for headers] [Waiting for headers] [Connecting to ppa.launchpadcontent.net] [Waiting for\r                                                                                                    \rGet:2 https://developer.download.nvidia.com/compute/cuda/repos/ubuntu2204/x86_64  InRelease [1,581 B]\n",
            "\r                                                                                                    \r0% [Waiting for headers] [Waiting for headers] [Connecting to ppa.launchpadcontent.net]\r                                                                                       \rHit:3 http://archive.ubuntu.com/ubuntu jammy InRelease\n",
            "\r0% [Waiting for headers] [Waiting for headers] [Connecting to ppa.launchpadcontent.net]\r                                                                                       \rGet:4 http://security.ubuntu.com/ubuntu jammy-security InRelease [110 kB]\n",
            "Get:5 http://archive.ubuntu.com/ubuntu jammy-updates InRelease [119 kB]\n",
            "Get:6 https://cloud.r-project.org/bin/linux/ubuntu jammy-cran40/ Packages [47.2 kB]\n",
            "Get:7 https://developer.download.nvidia.com/compute/cuda/repos/ubuntu2204/x86_64  Packages [632 kB]\n",
            "Hit:8 http://archive.ubuntu.com/ubuntu jammy-backports InRelease\n",
            "Get:9 http://security.ubuntu.com/ubuntu jammy-security/restricted amd64 Packages [1,472 kB]\n",
            "Get:10 http://archive.ubuntu.com/ubuntu jammy-updates/main amd64 Packages [1,521 kB]\n",
            "Get:11 https://ppa.launchpadcontent.net/c2d4u.team/c2d4u4.0+/ubuntu jammy InRelease [18.1 kB]\n",
            "Hit:12 https://ppa.launchpadcontent.net/deadsnakes/ppa/ubuntu jammy InRelease\n",
            "Get:13 http://security.ubuntu.com/ubuntu jammy-security/universe amd64 Packages [1,016 kB]\n",
            "Get:14 http://security.ubuntu.com/ubuntu jammy-security/main amd64 Packages [1,250 kB]\n",
            "Get:15 http://archive.ubuntu.com/ubuntu jammy-updates/restricted amd64 Packages [1,498 kB]\n",
            "Get:16 https://ppa.launchpadcontent.net/graphics-drivers/ppa/ubuntu jammy InRelease [24.3 kB]\n",
            "Get:17 http://archive.ubuntu.com/ubuntu jammy-updates/universe amd64 Packages [1,287 kB]\n",
            "Hit:18 https://ppa.launchpadcontent.net/ubuntugis/ppa/ubuntu jammy InRelease\n",
            "Get:19 https://ppa.launchpadcontent.net/c2d4u.team/c2d4u4.0+/ubuntu jammy/main Sources [2,244 kB]\n",
            "Get:20 https://ppa.launchpadcontent.net/c2d4u.team/c2d4u4.0+/ubuntu jammy/main amd64 Packages [1,152 kB]\n",
            "Get:21 https://ppa.launchpadcontent.net/graphics-drivers/ppa/ubuntu jammy/main amd64 Packages [39.5 kB]\n",
            "Fetched 12.4 MB in 2s (5,096 kB/s)\n",
            "Reading package lists... Done\n"
          ]
        }
      ],
      "source": [
        "# Setup steps for Google Colab\n",
        "import os\n",
        "# Find the latest version of spark 3.x  from http://www.apache.org/dist/spark/ and enter as the spark version\n",
        "# For example:\n",
        "# spark_version = 'spark-3.4.0'\n",
        "spark_version = 'spark-3.5.0'\n",
        "os.environ['SPARK_VERSION']=spark_version\n",
        "\n",
        "# Install Spark and Java\n",
        "!apt-get update\n",
        "!apt-get install openjdk-11-jdk-headless -qq > /dev/null\n",
        "!wget -q http://www.apache.org/dist/spark/$SPARK_VERSION/$SPARK_VERSION-bin-hadoop3.tgz\n",
        "!tar xf $SPARK_VERSION-bin-hadoop3.tgz\n",
        "!pip install -q findspark\n",
        "\n",
        "# Set Environment Variables\n",
        "os.environ[\"JAVA_HOME\"] = \"/usr/lib/jvm/java-11-openjdk-amd64\"\n",
        "os.environ[\"SPARK_HOME\"] = f\"/content/{spark_version}-bin-hadoop3\"\n"
      ]
    },
    {
      "cell_type": "code",
      "execution_count": 2,
      "metadata": {
        "id": "IaQ0v6Fd2HPx"
      },
      "outputs": [],
      "source": [
        "# Start a SparkSession\n",
        "import findspark\n",
        "findspark.init()"
      ]
    },
    {
      "cell_type": "code",
      "execution_count": 3,
      "metadata": {
        "id": "2XbWNf1Te5fM"
      },
      "outputs": [],
      "source": [
        "# Import packages\n",
        "from pyspark.sql import SparkSession\n",
        "import time\n",
        "\n",
        "# Create a SparkSession\n",
        "spark = SparkSession.builder.appName(\"SparkSQL\").getOrCreate()"
      ]
    },
    {
      "cell_type": "code",
      "execution_count": 4,
      "metadata": {
        "colab": {
          "base_uri": "https://localhost:8080/"
        },
        "id": "wOJqxG_RPSwp",
        "outputId": "ffd7ce70-4626-4530-ff98-6dd29965f811"
      },
      "outputs": [
        {
          "name": "stdout",
          "output_type": "stream",
          "text": [
            "+--------------------+--------------------+----------------+-----------------+--------+-----+---------------+---------------+-----+-------+---------+----------------+------------------+--------------+-------------+-----------+--------------------+----+-------+-----+--------------+-----+------+------------+-------------+---------------------+----------------------------+------------+----------+\n",
            "|         Description|            Location|        Latitude|        Longitude|Accident|Belts|Personal Injury|Property Damage|Fatal|Alcohol|Work Zone|Search Conducted|Search Disposition|Search Outcome|Search Reason|Search Type|Search Arrest Reason|Year|   Make|Color|Violation Type| Race|Gender|Year of Stop|Month of Stop|Driver State Category|License Plate State Category|Hour of Stop|Color Type|\n",
            "+--------------------+--------------------+----------------+-----------------+--------+-----+---------------+---------------+-----+-------+---------+----------------+------------------+--------------+-------------+-----------+--------------------+----+-------+-----+--------------+-----+------+------------+-------------+---------------------+----------------------------+------------+----------+\n",
            "|Registration Viol...|KEMP MILL ROAD @ ...|39.0530383333333|-77.0246366666667|      No|   No|             No|             No|   No|     No|       No|              No|              NULL|      Citation|         NULL|       NULL|                NULL|2013|HYUNDAI|  RED|      Citation|WHITE|     F|        2023|            4|             in state|                    in state|          23|  Colorful|\n",
            "|NEGLIGENT DRIVING...|JONES MILL ROAD/ ...|        38.99148|-77.0971133333333|      No|   No|             No|             No|   No|     No|       No|              No|              NULL|      Citation|         NULL|       NULL|                NULL|2019| NISSAN| GRAY|      Citation|BLACK|     F|        2023|            4|             in state|                    in state|           4|   Neutral|\n",
            "|    Reckless Driving|JONES MILL ROAD/ ...|        38.99148|-77.0971133333333|      No|   No|             No|             No|   No|     No|       No|              No|              NULL|      Citation|         NULL|       NULL|                NULL|2019| NISSAN| GRAY|      Citation|BLACK|     F|        2023|            4|             in state|                    in state|           4|   Neutral|\n",
            "|FAILURE TO DRIVE ...|JONES MILL ROAD/ ...|        38.99148|-77.0971133333333|      No|   No|             No|             No|   No|     No|       No|              No|              NULL|      Citation|         NULL|       NULL|                NULL|2019| NISSAN| GRAY|      Citation|BLACK|     F|        2023|            4|             in state|                    in state|           4|   Neutral|\n",
            "|                 DUI|JONES MILL ROAD/ ...|        38.99148|-77.0971133333333|      No|   No|             No|             No|   No|     No|       No|              No|              NULL|      Citation|         NULL|       NULL|                NULL|2019| NISSAN| GRAY|      Citation|BLACK|     F|        2023|            4|             in state|                    in state|           4|   Neutral|\n",
            "+--------------------+--------------------+----------------+-----------------+--------+-----+---------------+---------------+-----+-------+---------+----------------+------------------+--------------+-------------+-----------+--------------------+----+-------+-----+--------------+-----+------+------------+-------------+---------------------+----------------------------+------------+----------+\n",
            "only showing top 5 rows\n",
            "\n"
          ]
        }
      ],
      "source": [
        "# Read data from csv to DataFrame\n",
        "\n",
        "#traffic_data_df = spark.read.csv(\"data\\Traffic_Violations_Processed.csv\", header=True, inferSchema=True)\n",
        "traffic_data_df = spark.read.csv(\"Traffic_Violations_Processed.csv\", header=True, inferSchema=True)\n",
        "\n",
        "# Show DataFrame\n",
        "traffic_data_df.show(5)\n"
      ]
    },
    {
      "cell_type": "code",
      "execution_count": 5,
      "metadata": {
        "colab": {
          "base_uri": "https://localhost:8080/"
        },
        "id": "nUkceuO22HP0",
        "outputId": "2f91160c-9082-40f0-90e3-59931b6b7e06"
      },
      "outputs": [
        {
          "name": "stdout",
          "output_type": "stream",
          "text": [
            "root\n",
            " |-- Description: string (nullable = true)\n",
            " |-- Location: string (nullable = true)\n",
            " |-- Latitude: double (nullable = true)\n",
            " |-- Longitude: double (nullable = true)\n",
            " |-- Accident: string (nullable = true)\n",
            " |-- Belts: string (nullable = true)\n",
            " |-- Personal Injury: string (nullable = true)\n",
            " |-- Property Damage: string (nullable = true)\n",
            " |-- Fatal: string (nullable = true)\n",
            " |-- Alcohol: string (nullable = true)\n",
            " |-- Work Zone: string (nullable = true)\n",
            " |-- Search Conducted: string (nullable = true)\n",
            " |-- Search Disposition: string (nullable = true)\n",
            " |-- Search Outcome: string (nullable = true)\n",
            " |-- Search Reason: string (nullable = true)\n",
            " |-- Search Type: string (nullable = true)\n",
            " |-- Search Arrest Reason: string (nullable = true)\n",
            " |-- Year: integer (nullable = true)\n",
            " |-- Make: string (nullable = true)\n",
            " |-- Color: string (nullable = true)\n",
            " |-- Violation Type: string (nullable = true)\n",
            " |-- Race: string (nullable = true)\n",
            " |-- Gender: string (nullable = true)\n",
            " |-- Year of Stop: integer (nullable = true)\n",
            " |-- Month of Stop: integer (nullable = true)\n",
            " |-- Driver State Category: string (nullable = true)\n",
            " |-- License Plate State Category: string (nullable = true)\n",
            " |-- Hour of Stop: integer (nullable = true)\n",
            " |-- Color Type: string (nullable = true)\n",
            "\n"
          ]
        }
      ],
      "source": [
        "traffic_data_df.printSchema()"
      ]
    },
    {
      "cell_type": "code",
      "execution_count": 6,
      "metadata": {
        "id": "8x5lx1_12HP1"
      },
      "outputs": [],
      "source": [
        "# Create a temporary view of the DataFrame.\n",
        "traffic_data_df.createOrReplaceTempView(\"traffic_data\")"
      ]
    },
    {
      "cell_type": "code",
      "execution_count": 7,
      "metadata": {
        "colab": {
          "base_uri": "https://localhost:8080/"
        },
        "id": "Rf6pWU5F2HP1",
        "outputId": "cadc9df6-ca11-454d-d37b-ed3c4e7d32d1"
      },
      "outputs": [
        {
          "name": "stdout",
          "output_type": "stream",
          "text": [
            "+--------------------+--------------------+----------------+-----------------+--------+-----+---------------+---------------+-----+-------+---------+----------------+------------------+--------------+-------------+-----------+--------------------+----+-------+-----+--------------+-----+------+------------+-------------+---------------------+----------------------------+------------+----------+\n",
            "|         Description|            Location|        Latitude|        Longitude|Accident|Belts|Personal Injury|Property Damage|Fatal|Alcohol|Work Zone|Search Conducted|Search Disposition|Search Outcome|Search Reason|Search Type|Search Arrest Reason|Year|   Make|Color|Violation Type| Race|Gender|Year of Stop|Month of Stop|Driver State Category|License Plate State Category|Hour of Stop|Color Type|\n",
            "+--------------------+--------------------+----------------+-----------------+--------+-----+---------------+---------------+-----+-------+---------+----------------+------------------+--------------+-------------+-----------+--------------------+----+-------+-----+--------------+-----+------+------------+-------------+---------------------+----------------------------+------------+----------+\n",
            "|Registration Viol...|KEMP MILL ROAD @ ...|39.0530383333333|-77.0246366666667|      No|   No|             No|             No|   No|     No|       No|              No|              NULL|      Citation|         NULL|       NULL|                NULL|2013|HYUNDAI|  RED|      Citation|WHITE|     F|        2023|            4|             in state|                    in state|          23|  Colorful|\n",
            "|NEGLIGENT DRIVING...|JONES MILL ROAD/ ...|        38.99148|-77.0971133333333|      No|   No|             No|             No|   No|     No|       No|              No|              NULL|      Citation|         NULL|       NULL|                NULL|2019| NISSAN| GRAY|      Citation|BLACK|     F|        2023|            4|             in state|                    in state|           4|   Neutral|\n",
            "|    Reckless Driving|JONES MILL ROAD/ ...|        38.99148|-77.0971133333333|      No|   No|             No|             No|   No|     No|       No|              No|              NULL|      Citation|         NULL|       NULL|                NULL|2019| NISSAN| GRAY|      Citation|BLACK|     F|        2023|            4|             in state|                    in state|           4|   Neutral|\n",
            "|FAILURE TO DRIVE ...|JONES MILL ROAD/ ...|        38.99148|-77.0971133333333|      No|   No|             No|             No|   No|     No|       No|              No|              NULL|      Citation|         NULL|       NULL|                NULL|2019| NISSAN| GRAY|      Citation|BLACK|     F|        2023|            4|             in state|                    in state|           4|   Neutral|\n",
            "|                 DUI|JONES MILL ROAD/ ...|        38.99148|-77.0971133333333|      No|   No|             No|             No|   No|     No|       No|              No|              NULL|      Citation|         NULL|       NULL|                NULL|2019| NISSAN| GRAY|      Citation|BLACK|     F|        2023|            4|             in state|                    in state|           4|   Neutral|\n",
            "+--------------------+--------------------+----------------+-----------------+--------+-----+---------------+---------------+-----+-------+---------+----------------+------------------+--------------+-------------+-----------+--------------------+----+-------+-----+--------------+-----+------+------------+-------------+---------------------+----------------------------+------------+----------+\n",
            "\n"
          ]
        }
      ],
      "source": [
        "# Show traffic_data\n",
        "spark.sql(\"select * from traffic_data limit 5\").show()"
      ]
    },
    {
      "cell_type": "code",
      "execution_count": 8,
      "metadata": {
        "colab": {
          "base_uri": "https://localhost:8080/"
        },
        "id": "2d-m_f0i2HP2",
        "outputId": "fa2f2506-7a2e-4f1f-8cc7-c0941b2cb341"
      },
      "outputs": [
        {
          "name": "stdout",
          "output_type": "stream",
          "text": [
            "+--------------+\n",
            "|Number_of_Rows|\n",
            "+--------------+\n",
            "|       1665836|\n",
            "+--------------+\n",
            "\n"
          ]
        }
      ],
      "source": [
        "# Total number of Rows\n",
        "spark.sql(\"\"\"select count(1) as Number_of_Rows from traffic_data\n",
        "            \"\"\").show()"
      ]
    },
    {
      "cell_type": "code",
      "execution_count": 9,
      "metadata": {
        "colab": {
          "base_uri": "https://localhost:8080/"
        },
        "id": "YMBq02ek2HP2",
        "outputId": "e26c6f1d-da1f-48d3-cb31-d1a789be61c7"
      },
      "outputs": [
        {
          "name": "stdout",
          "output_type": "stream",
          "text": [
            "+--------------+------+\n",
            "|Violation Type| Count|\n",
            "+--------------+------+\n",
            "|      Citation|756296|\n",
            "|       Warning|909540|\n",
            "+--------------+------+\n",
            "\n"
          ]
        }
      ],
      "source": [
        "# Count of Violation Types\n",
        "spark.sql(\"select `Violation Type`, count(`Violation Type`) as Count from traffic_data  group by `Violation Type` \").show()"
      ]
    },
    {
      "cell_type": "code",
      "execution_count": 10,
      "metadata": {
        "colab": {
          "base_uri": "https://localhost:8080/"
        },
        "id": "NELFe5GJ2HP3",
        "outputId": "18e3a7c8-910c-47a1-b940-149de7942a97"
      },
      "outputs": [
        {
          "name": "stdout",
          "output_type": "stream",
          "text": [
            "+---------+---------+\n",
            "|Data_From|Data_Till|\n",
            "+---------+---------+\n",
            "|     2012|     2023|\n",
            "+---------+---------+\n",
            "\n"
          ]
        }
      ],
      "source": [
        "# Dataset Year Range\n",
        "spark.sql(\"select Min(`Year of Stop`) as Data_From, Max(`Year of Stop`) as Data_Till from traffic_data \").show()"
      ]
    },
    {
      "cell_type": "code",
      "execution_count": 12,
      "metadata": {
        "colab": {
          "base_uri": "https://localhost:8080/"
        },
        "id": "xG9jBBQz2HP4",
        "outputId": "2194776e-b882-46d7-b364-dbafbed33b8a"
      },
      "outputs": [
        {
          "name": "stdout",
          "output_type": "stream",
          "text": [
            "+----------------------+\n",
            "|Number_of_Descriptions|\n",
            "+----------------------+\n",
            "|                    25|\n",
            "+----------------------+\n",
            "\n"
          ]
        }
      ],
      "source": [
        "# Number of distinct Descriptions\n",
        "spark.sql(\"\"\"select count( Distinct Description) as Number_of_Descriptions from traffic_data\n",
        "            \"\"\").show()"
      ]
    },
    {
      "cell_type": "code",
      "execution_count": 13,
      "metadata": {
        "colab": {
          "base_uri": "https://localhost:8080/"
        },
        "id": "gmJVEHkY2HP5",
        "outputId": "fd2303d3-4aec-4853-9d76-48e7f818b244"
      },
      "outputs": [
        {
          "name": "stdout",
          "output_type": "stream",
          "text": [
            "+------------------------------------------------------------------------------------------------+\n",
            "|Description                                                                                     |\n",
            "+------------------------------------------------------------------------------------------------+\n",
            "|DRIVER ENTERING INTERSECTION AT FLASHING RED TRAFFIC SIGNAL WITHOUT STOPPING                    |\n",
            "|DRIVER FAILURE TO OBEY PROPERLY PLACED TRAFFIC CONTROL DEVICE INSTRUCTIONS                      |\n",
            "|DRIVING VEH. W/O ADEQUATE REAR REG. PLATE ILLUMINATION                                          |\n",
            "|DUI                                                                                             |\n",
            "|FAILURE TO DRIVE VEHICLE ON RIGHT HALF OF ROADWAY WHEN REQUIRED                                 |\n",
            "|Failure to Yield                                                                                |\n",
            "|Failure to stop at different circumstances                                                      |\n",
            "|Improper Equipment                                                                              |\n",
            "|Improper Stop                                                                                   |\n",
            "|Involved in Accident                                                                            |\n",
            "|Lane Violation                                                                                  |\n",
            "|Learners Permit                                                                                 |\n",
            "|License Violation                                                                               |\n",
            "|NEGLIGENT DRIVING VEHICLE IN CARELESS AND IMPRUDENT MANNER ENDANGERING PROPERTY, LIFE AND PERSON|\n",
            "|Non-Moving Violation                                                                            |\n",
            "|Obstructed View                                                                                 |\n",
            "|Other                                                                                           |\n",
            "|Reckless Driving                                                                                |\n",
            "|Registration Violation                                                                          |\n",
            "|SeatBelt - Not restrained                                                                       |\n",
            "|Speeding                                                                                        |\n",
            "|Suspended License or Registration                                                               |\n",
            "|Uninsured Vehicle                                                                               |\n",
            "|Unsafe Turns                                                                                    |\n",
            "|Using Phone                                                                                     |\n",
            "+------------------------------------------------------------------------------------------------+\n",
            "\n"
          ]
        }
      ],
      "source": [
        "#  List of Distinct Descriptions\n",
        "spark.sql(\"\"\"select distinct Description from traffic_data order by 1 \"\"\").show(30,truncate = False)"
      ]
    },
    {
      "cell_type": "code",
      "execution_count": 50,
      "metadata": {
        "colab": {
          "base_uri": "https://localhost:8080/"
        },
        "id": "ayTblrIaE7_b",
        "outputId": "3671ccbb-3150-4b9c-9f04-dce2aa20c899"
      },
      "outputs": [
        {
          "name": "stdout",
          "output_type": "stream",
          "text": [
            "+------------------------------------------------------------------------------------------------+--------------+-------------------+\n",
            "|Description                                                                                     |Violation Type|Number_of_Incidents|\n",
            "+------------------------------------------------------------------------------------------------+--------------+-------------------+\n",
            "|DRIVER ENTERING INTERSECTION AT FLASHING RED TRAFFIC SIGNAL WITHOUT STOPPING                    |Citation      |3537               |\n",
            "|DRIVER ENTERING INTERSECTION AT FLASHING RED TRAFFIC SIGNAL WITHOUT STOPPING                    |Warning       |9496               |\n",
            "|DRIVER FAILURE TO OBEY PROPERLY PLACED TRAFFIC CONTROL DEVICE INSTRUCTIONS                      |Citation      |38587              |\n",
            "|DRIVER FAILURE TO OBEY PROPERLY PLACED TRAFFIC CONTROL DEVICE INSTRUCTIONS                      |Warning       |109642             |\n",
            "|DRIVING VEH. W/O ADEQUATE REAR REG. PLATE ILLUMINATION                                          |Citation      |1715               |\n",
            "|DRIVING VEH. W/O ADEQUATE REAR REG. PLATE ILLUMINATION                                          |Warning       |17512              |\n",
            "|DUI                                                                                             |Citation      |53009              |\n",
            "|DUI                                                                                             |Warning       |291                |\n",
            "|FAILURE TO DRIVE VEHICLE ON RIGHT HALF OF ROADWAY WHEN REQUIRED                                 |Citation      |6138               |\n",
            "|FAILURE TO DRIVE VEHICLE ON RIGHT HALF OF ROADWAY WHEN REQUIRED                                 |Warning       |6335               |\n",
            "|Failure to Yield                                                                                |Citation      |11263              |\n",
            "|Failure to Yield                                                                                |Warning       |8708               |\n",
            "|Failure to stop at different circumstances                                                      |Citation      |6836               |\n",
            "|Failure to stop at different circumstances                                                      |Warning       |5966               |\n",
            "|Improper Equipment                                                                              |Citation      |9240               |\n",
            "|Improper Equipment                                                                              |Warning       |97614              |\n",
            "|Improper Stop                                                                                   |Citation      |33045              |\n",
            "|Improper Stop                                                                                   |Warning       |80936              |\n",
            "|Involved in Accident                                                                            |Citation      |10741              |\n",
            "|Involved in Accident                                                                            |Warning       |498                |\n",
            "|Lane Violation                                                                                  |Citation      |19234              |\n",
            "|Lane Violation                                                                                  |Warning       |29876              |\n",
            "|Learners Permit                                                                                 |Citation      |8244               |\n",
            "|Learners Permit                                                                                 |Warning       |1781               |\n",
            "|License Violation                                                                               |Citation      |145878             |\n",
            "|License Violation                                                                               |Warning       |38791              |\n",
            "|NEGLIGENT DRIVING VEHICLE IN CARELESS AND IMPRUDENT MANNER ENDANGERING PROPERTY, LIFE AND PERSON|Citation      |17694              |\n",
            "|NEGLIGENT DRIVING VEHICLE IN CARELESS AND IMPRUDENT MANNER ENDANGERING PROPERTY, LIFE AND PERSON|Warning       |6775               |\n",
            "|Non-Moving Violation                                                                            |Citation      |3773               |\n",
            "|Non-Moving Violation                                                                            |Warning       |11232              |\n",
            "|Obstructed View                                                                                 |Citation      |5152               |\n",
            "|Obstructed View                                                                                 |Warning       |20141              |\n",
            "|Other                                                                                           |Citation      |60066              |\n",
            "|Other                                                                                           |Warning       |73161              |\n",
            "|Reckless Driving                                                                                |Citation      |9777               |\n",
            "|Reckless Driving                                                                                |Warning       |1682               |\n",
            "|Registration Violation                                                                          |Citation      |99800              |\n",
            "|Registration Violation                                                                          |Warning       |168330             |\n",
            "|SeatBelt - Not restrained                                                                       |Citation      |20657              |\n",
            "|SeatBelt - Not restrained                                                                       |Warning       |11236              |\n",
            "|Speeding                                                                                        |Citation      |137044             |\n",
            "|Speeding                                                                                        |Warning       |164798             |\n",
            "|Suspended License or Registration                                                               |Citation      |18624              |\n",
            "|Suspended License or Registration                                                               |Warning       |1773               |\n",
            "|Uninsured Vehicle                                                                               |Citation      |10537              |\n",
            "|Uninsured Vehicle                                                                               |Warning       |2520               |\n",
            "|Unsafe Turns                                                                                    |Citation      |4050               |\n",
            "|Unsafe Turns                                                                                    |Warning       |10556              |\n",
            "|Using Phone                                                                                     |Citation      |21655              |\n",
            "|Using Phone                                                                                     |Warning       |29890              |\n",
            "+------------------------------------------------------------------------------------------------+--------------+-------------------+\n",
            "\n",
            "--- 9.30411410331726 seconds ---\n"
          ]
        }
      ],
      "source": [
        "# Determine the run time for this query.\n",
        "start_time = time.time()\n",
        "\n",
        "# Select number of incidents for each description for each violation type\n",
        "spark.sql(\"\"\" select Description,`Violation Type`, count(2) as Number_of_Incidents\n",
        "                from traffic_data\n",
        "                group by Description, `Violation Type`\n",
        "                order by Description asc, `Violation Type` asc,  Number_of_Incidents desc\n",
        "          \"\"\").show(50,truncate = False)\n",
        "\n",
        "print(\"--- %s seconds ---\" % (time.time() - start_time))"
      ]
    },
    {
      "cell_type": "code",
      "execution_count": 51,
      "metadata": {
        "colab": {
          "base_uri": "https://localhost:8080/"
        },
        "id": "bHN4UgHg2HP5",
        "outputId": "34b3a4a0-20a2-4863-864f-ba4ecb969850"
      },
      "outputs": [
        {
          "name": "stdout",
          "output_type": "stream",
          "text": [
            "+-----------+----------------------------------+-------------------+------------+-------------+\n",
            "|Description|Location                          |Number_of_Incidents|Year of Stop|Month of Stop|\n",
            "+-----------+----------------------------------+-------------------+------------+-------------+\n",
            "|Speeding   |S/B GERMANTOWN RD @ DAWSON FARM RD|13                 |2023        |11           |\n",
            "|Speeding   |DARNESTOWN RD @ AMERICAN WAY      |9                  |2023        |11           |\n",
            "|Speeding   |RANDOLPH RD W/B & KEMP MILL RD    |9                  |2023        |11           |\n",
            "|Speeding   |CONN. AVE S/B & DEAN RD AREA      |6                  |2023        |11           |\n",
            "|Speeding   |RIVER RD @ BRAEBURN PKWY          |6                  |2023        |11           |\n",
            "|Speeding   |21500 BEALLSVILLE                 |5                  |2023        |11           |\n",
            "|Speeding   |GREAT SENECA HWY/GREY EAGLE CT    |5                  |2023        |11           |\n",
            "|Speeding   |NB SHADY GROVE RD AT MIDCOUNTY HWY|5                  |2023        |11           |\n",
            "|Speeding   |TRAVILAH RD @ NATIA MANOR DR      |5                  |2023        |11           |\n",
            "|Speeding   |12100 DARNESTOWN RD               |4                  |2023        |11           |\n",
            "|Speeding   |RIVER RD/NEVIS RD                 |4                  |2023        |11           |\n",
            "|Speeding   |GLEN RD @ CLAGETT FARM DR         |3                  |2023        |11           |\n",
            "|Speeding   |GREAT SENECA HWY @ MATENY RD      |3                  |2023        |11           |\n",
            "|Speeding   |NB FREDERICK AT METRO STATION RD  |3                  |2023        |11           |\n",
            "|Speeding   |2201 DOUGLUS AVE                  |2                  |2023        |11           |\n",
            "|Speeding   |355 AND SHAKESPEARE RD, GERMANTOWN|2                  |2023        |11           |\n",
            "|Speeding   |BALTIMORE ROAD AT DEERTREE LANE   |2                  |2023        |11           |\n",
            "|Speeding   |CONN. AVE N/B & DEAN RD AREA      |2                  |2023        |11           |\n",
            "|Speeding   |GEORGIA & MAY ST                  |2                  |2023        |11           |\n",
            "|Speeding   |GEORGIA AVE @ WINDHAM LN          |2                  |2023        |11           |\n",
            "|Speeding   |LIVINGSTON ST @ LINDELL ST        |2                  |2023        |11           |\n",
            "|Speeding   |N/B GERMANTOWN RD @ DAWSON FARM RD|2                  |2023        |11           |\n",
            "|Speeding   |N/B I270 @ WATKINS MILL RD        |2                  |2023        |11           |\n",
            "|Speeding   |NB FREDERICK RD AT RIDGEMONT AVE  |2                  |2023        |11           |\n",
            "|Speeding   |QUINCE ORCHARD & SEURAT DR        |2                  |2023        |11           |\n",
            "+-----------+----------------------------------+-------------------+------------+-------------+\n",
            "only showing top 25 rows\n",
            "\n",
            "--- 8.996257066726685 seconds ---\n"
          ]
        }
      ],
      "source": [
        "# Determine the run time for this query.\n",
        "\n",
        "start_time = time.time()\n",
        "\n",
        "# Select 25 locations with highest citations of \"Speeding\" recently\n",
        "spark.sql(\"\"\" select Description, Location, count(2) as Number_of_Incidents, `Year of Stop`,`Month of Stop`\n",
        "                from traffic_data\n",
        "                where Description = 'Speeding' and `Violation Type` = 'Citation'\n",
        "                group by Description, Location,`Year of Stop`,`Month of Stop`\n",
        "                order by `Year of Stop` desc, `Month of Stop` desc, Number_of_Incidents desc, Location asc\n",
        "          \"\"\").show(25,truncate = False)\n",
        "\n",
        "print(\"--- %s seconds ---\" % (time.time() - start_time))"
      ]
    },
    {
      "cell_type": "code",
      "execution_count": 54,
      "metadata": {
        "colab": {
          "base_uri": "https://localhost:8080/"
        },
        "id": "GypABDK_8j1y",
        "outputId": "051523a4-3996-40ef-af01-cda9cdfaf140"
      },
      "outputs": [
        {
          "name": "stdout",
          "output_type": "stream",
          "text": [
            "+--------+\n",
            "|count(1)|\n",
            "+--------+\n",
            "|      13|\n",
            "+--------+\n",
            "\n"
          ]
        }
      ],
      "source": [
        "# Verfying the count of a single row of the above result\n",
        "# spark.sql(\"\"\" select count(1) from traffic_data\n",
        "#  where Description = 'Speeding' and Location = 'S/B GERMANTOWN RD @ DAWSON FARM RD' and\n",
        "# \t\t`Violation Type` = 'Citation' and `Year of Stop` = 2023 and `Month of Stop` = 11\n",
        "# \t\t \"\"\").show()"
      ]
    },
    {
      "cell_type": "code",
      "execution_count": 29,
      "metadata": {
        "id": "Qm12WN9isHBR"
      },
      "outputs": [],
      "source": [
        "# Partition by the \"Description\" field on the formatted parquet traffic data\n",
        "traffic_data_df.write.parquet('parquet_traffic_data', mode='overwrite', partitionBy = \"Description\")"
      ]
    },
    {
      "cell_type": "code",
      "execution_count": 30,
      "metadata": {
        "id": "AZ7BgY61sRqY"
      },
      "outputs": [],
      "source": [
        "# Read the parquet formatted data.\n",
        "p_traffic_data_df = spark.read.parquet(\"parquet_traffic_data\")"
      ]
    },
    {
      "cell_type": "code",
      "execution_count": 31,
      "metadata": {
        "id": "J6MJkHfvVcvh"
      },
      "outputs": [],
      "source": [
        "# Create a temporary table for the parquet data.\n",
        "p_traffic_data_df.createOrReplaceTempView(\"p_traffic_data\")"
      ]
    },
    {
      "cell_type": "code",
      "execution_count": 52,
      "metadata": {
        "colab": {
          "base_uri": "https://localhost:8080/"
        },
        "id": "P0Ldi2OiFCpa",
        "outputId": "2b40100f-21c0-4620-ce7a-32237727b61e"
      },
      "outputs": [
        {
          "name": "stdout",
          "output_type": "stream",
          "text": [
            "+------------------------------------------------------------------------------------------------+--------------+-------------------+\n",
            "|Description                                                                                     |Violation Type|Number_of_Incidents|\n",
            "+------------------------------------------------------------------------------------------------+--------------+-------------------+\n",
            "|DRIVER ENTERING INTERSECTION AT FLASHING RED TRAFFIC SIGNAL WITHOUT STOPPING                    |Citation      |3537               |\n",
            "|DRIVER ENTERING INTERSECTION AT FLASHING RED TRAFFIC SIGNAL WITHOUT STOPPING                    |Warning       |9496               |\n",
            "|DRIVER FAILURE TO OBEY PROPERLY PLACED TRAFFIC CONTROL DEVICE INSTRUCTIONS                      |Citation      |38587              |\n",
            "|DRIVER FAILURE TO OBEY PROPERLY PLACED TRAFFIC CONTROL DEVICE INSTRUCTIONS                      |Warning       |109642             |\n",
            "|DRIVING VEH. W/O ADEQUATE REAR REG. PLATE ILLUMINATION                                          |Citation      |1715               |\n",
            "|DRIVING VEH. W/O ADEQUATE REAR REG. PLATE ILLUMINATION                                          |Warning       |17512              |\n",
            "|DUI                                                                                             |Citation      |53009              |\n",
            "|DUI                                                                                             |Warning       |291                |\n",
            "|FAILURE TO DRIVE VEHICLE ON RIGHT HALF OF ROADWAY WHEN REQUIRED                                 |Citation      |6138               |\n",
            "|FAILURE TO DRIVE VEHICLE ON RIGHT HALF OF ROADWAY WHEN REQUIRED                                 |Warning       |6335               |\n",
            "|Failure to Yield                                                                                |Citation      |11263              |\n",
            "|Failure to Yield                                                                                |Warning       |8708               |\n",
            "|Failure to stop at different circumstances                                                      |Citation      |6836               |\n",
            "|Failure to stop at different circumstances                                                      |Warning       |5966               |\n",
            "|Improper Equipment                                                                              |Citation      |9240               |\n",
            "|Improper Equipment                                                                              |Warning       |97614              |\n",
            "|Improper Stop                                                                                   |Citation      |33045              |\n",
            "|Improper Stop                                                                                   |Warning       |80936              |\n",
            "|Involved in Accident                                                                            |Citation      |10741              |\n",
            "|Involved in Accident                                                                            |Warning       |498                |\n",
            "|Lane Violation                                                                                  |Citation      |19234              |\n",
            "|Lane Violation                                                                                  |Warning       |29876              |\n",
            "|Learners Permit                                                                                 |Citation      |8244               |\n",
            "|Learners Permit                                                                                 |Warning       |1781               |\n",
            "|License Violation                                                                               |Citation      |145878             |\n",
            "|License Violation                                                                               |Warning       |38791              |\n",
            "|NEGLIGENT DRIVING VEHICLE IN CARELESS AND IMPRUDENT MANNER ENDANGERING PROPERTY, LIFE AND PERSON|Citation      |17694              |\n",
            "|NEGLIGENT DRIVING VEHICLE IN CARELESS AND IMPRUDENT MANNER ENDANGERING PROPERTY, LIFE AND PERSON|Warning       |6775               |\n",
            "|Non-Moving Violation                                                                            |Citation      |3773               |\n",
            "|Non-Moving Violation                                                                            |Warning       |11232              |\n",
            "|Obstructed View                                                                                 |Citation      |5152               |\n",
            "|Obstructed View                                                                                 |Warning       |20141              |\n",
            "|Other                                                                                           |Citation      |60066              |\n",
            "|Other                                                                                           |Warning       |73161              |\n",
            "|Reckless Driving                                                                                |Citation      |9777               |\n",
            "|Reckless Driving                                                                                |Warning       |1682               |\n",
            "|Registration Violation                                                                          |Citation      |99800              |\n",
            "|Registration Violation                                                                          |Warning       |168330             |\n",
            "|SeatBelt - Not restrained                                                                       |Citation      |20657              |\n",
            "|SeatBelt - Not restrained                                                                       |Warning       |11236              |\n",
            "|Speeding                                                                                        |Citation      |137044             |\n",
            "|Speeding                                                                                        |Warning       |164798             |\n",
            "|Suspended License or Registration                                                               |Citation      |18624              |\n",
            "|Suspended License or Registration                                                               |Warning       |1773               |\n",
            "|Uninsured Vehicle                                                                               |Citation      |10537              |\n",
            "|Uninsured Vehicle                                                                               |Warning       |2520               |\n",
            "|Unsafe Turns                                                                                    |Citation      |4050               |\n",
            "|Unsafe Turns                                                                                    |Warning       |10556              |\n",
            "|Using Phone                                                                                     |Citation      |21655              |\n",
            "|Using Phone                                                                                     |Warning       |29890              |\n",
            "+------------------------------------------------------------------------------------------------+--------------+-------------------+\n",
            "\n",
            "--- 1.428588628768921 seconds ---\n"
          ]
        }
      ],
      "source": [
        "# Determine the run time for this query.\n",
        "start_time = time.time()\n",
        "\n",
        "# Select number of incidents for each description for each violation type\n",
        "spark.sql(\"\"\" select Description,`Violation Type`, count(2) as Number_of_Incidents\n",
        "                from p_traffic_data\n",
        "                group by Description, `Violation Type`\n",
        "                order by Description asc, `Violation Type` asc,  Number_of_Incidents desc\n",
        "          \"\"\").show(50,truncate = False)\n",
        "\n",
        "print(\"--- %s seconds ---\" % (time.time() - start_time))"
      ]
    },
    {
      "cell_type": "code",
      "execution_count": 53,
      "metadata": {
        "colab": {
          "base_uri": "https://localhost:8080/"
        },
        "id": "vWUT_JXc2HP8",
        "outputId": "18ec9683-b14b-4b5e-ed75-328ce10ca4ee"
      },
      "outputs": [
        {
          "name": "stdout",
          "output_type": "stream",
          "text": [
            "+-----------+----------------------------------+-------------------+------------+-------------+\n",
            "|Description|Location                          |Number_of_Incidents|Year of Stop|Month of Stop|\n",
            "+-----------+----------------------------------+-------------------+------------+-------------+\n",
            "|Speeding   |S/B GERMANTOWN RD @ DAWSON FARM RD|13                 |2023        |11           |\n",
            "|Speeding   |DARNESTOWN RD @ AMERICAN WAY      |9                  |2023        |11           |\n",
            "|Speeding   |RANDOLPH RD W/B & KEMP MILL RD    |9                  |2023        |11           |\n",
            "|Speeding   |CONN. AVE S/B & DEAN RD AREA      |6                  |2023        |11           |\n",
            "|Speeding   |RIVER RD @ BRAEBURN PKWY          |6                  |2023        |11           |\n",
            "|Speeding   |21500 BEALLSVILLE                 |5                  |2023        |11           |\n",
            "|Speeding   |GREAT SENECA HWY/GREY EAGLE CT    |5                  |2023        |11           |\n",
            "|Speeding   |NB SHADY GROVE RD AT MIDCOUNTY HWY|5                  |2023        |11           |\n",
            "|Speeding   |TRAVILAH RD @ NATIA MANOR DR      |5                  |2023        |11           |\n",
            "|Speeding   |12100 DARNESTOWN RD               |4                  |2023        |11           |\n",
            "|Speeding   |RIVER RD/NEVIS RD                 |4                  |2023        |11           |\n",
            "|Speeding   |GLEN RD @ CLAGETT FARM DR         |3                  |2023        |11           |\n",
            "|Speeding   |GREAT SENECA HWY @ MATENY RD      |3                  |2023        |11           |\n",
            "|Speeding   |NB FREDERICK AT METRO STATION RD  |3                  |2023        |11           |\n",
            "|Speeding   |2201 DOUGLUS AVE                  |2                  |2023        |11           |\n",
            "|Speeding   |355 AND SHAKESPEARE RD, GERMANTOWN|2                  |2023        |11           |\n",
            "|Speeding   |BALTIMORE ROAD AT DEERTREE LANE   |2                  |2023        |11           |\n",
            "|Speeding   |CONN. AVE N/B & DEAN RD AREA      |2                  |2023        |11           |\n",
            "|Speeding   |GEORGIA & MAY ST                  |2                  |2023        |11           |\n",
            "|Speeding   |GEORGIA AVE @ WINDHAM LN          |2                  |2023        |11           |\n",
            "|Speeding   |LIVINGSTON ST @ LINDELL ST        |2                  |2023        |11           |\n",
            "|Speeding   |N/B GERMANTOWN RD @ DAWSON FARM RD|2                  |2023        |11           |\n",
            "|Speeding   |N/B I270 @ WATKINS MILL RD        |2                  |2023        |11           |\n",
            "|Speeding   |NB FREDERICK RD AT RIDGEMONT AVE  |2                  |2023        |11           |\n",
            "|Speeding   |QUINCE ORCHARD & SEURAT DR        |2                  |2023        |11           |\n",
            "+-----------+----------------------------------+-------------------+------------+-------------+\n",
            "only showing top 25 rows\n",
            "\n",
            "--- 0.9120254516601562 seconds ---\n"
          ]
        }
      ],
      "source": [
        "# Determine the run time for this query.\n",
        "\n",
        "start_time = time.time()\n",
        "\n",
        "# Select 25 locations with highest citations of \"Speeding\" recently\n",
        "spark.sql(\"\"\" select Description, Location, count(2) as Number_of_Incidents, `Year of Stop`,`Month of Stop`\n",
        "                from p_traffic_data\n",
        "                where Description = 'Speeding' and `Violation Type` = 'Citation'\n",
        "                group by Description, Location,`Year of Stop`,`Month of Stop`\n",
        "                order by `Year of Stop` desc, `Month of Stop` desc, Number_of_Incidents desc, Location asc\n",
        "          \"\"\").show(25,truncate = False)\n",
        "\n",
        "print(\"--- %s seconds ---\" % (time.time() - start_time))"
      ]
    },
    {
      "cell_type": "code",
      "execution_count": null,
      "metadata": {
        "id": "BSnXlhR8Djd0"
      },
      "outputs": [],
      "source": []
    }
  ],
  "metadata": {
    "colab": {
      "provenance": []
    },
    "gpuClass": "standard",
    "kernelspec": {
      "display_name": "Python 3 (ipykernel)",
      "language": "python",
      "name": "python3"
    },
    "language_info": {
      "codemirror_mode": {
        "name": "ipython",
        "version": 3
      },
      "file_extension": ".py",
      "mimetype": "text/x-python",
      "name": "python",
      "nbconvert_exporter": "python",
      "pygments_lexer": "ipython3",
      "version": "3.10.11"
    },
    "nteract": {
      "version": "0.28.0"
    }
  },
  "nbformat": 4,
  "nbformat_minor": 0
}
